{
  "nbformat": 4,
  "nbformat_minor": 0,
  "metadata": {
    "colab": {
      "provenance": [],
      "gpuType": "T4",
      "authorship_tag": "ABX9TyPFZxuUZnVolf8vFqdbW8vF",
      "include_colab_link": true
    },
    "kernelspec": {
      "name": "python3",
      "display_name": "Python 3"
    },
    "language_info": {
      "name": "python"
    },
    "accelerator": "GPU"
  },
  "cells": [
    {
      "cell_type": "markdown",
      "metadata": {
        "id": "view-in-github",
        "colab_type": "text"
      },
      "source": [
        "<a href=\"https://colab.research.google.com/github/MaahinVPanchal/Image_classification/blob/main/Untitled7.ipynb\" target=\"_parent\"><img src=\"https://colab.research.google.com/assets/colab-badge.svg\" alt=\"Open In Colab\"/></a>"
      ]
    },
    {
      "cell_type": "code",
      "source": [
        "mkdir tensorflow"
      ],
      "metadata": {
        "id": "Symg3fR0PJgt"
      },
      "execution_count": 1,
      "outputs": []
    },
    {
      "cell_type": "code",
      "source": [
        "cd tensorflow"
      ],
      "metadata": {
        "colab": {
          "base_uri": "https://localhost:8080/"
        },
        "id": "U3o_iilKPRV_",
        "outputId": "8b96c8e8-bf83-4e87-be2e-0ea452cfc27b"
      },
      "execution_count": 2,
      "outputs": [
        {
          "output_type": "stream",
          "name": "stdout",
          "text": [
            "/content/tensorflow\n"
          ]
        }
      ]
    },
    {
      "cell_type": "code",
      "source": [
        "!git clone https://github.com/tensorflow/models.git"
      ],
      "metadata": {
        "colab": {
          "base_uri": "https://localhost:8080/"
        },
        "id": "LKIIaAoCPSo9",
        "outputId": "e985c266-e472-4791-ce12-b3a6dcadd905"
      },
      "execution_count": 3,
      "outputs": [
        {
          "output_type": "stream",
          "name": "stdout",
          "text": [
            "Cloning into 'models'...\n",
            "remote: Enumerating objects: 97792, done.\u001b[K\n",
            "remote: Counting objects: 100% (306/306), done.\u001b[K\n",
            "remote: Compressing objects: 100% (200/200), done.\u001b[K\n",
            "remote: Total 97792 (delta 112), reused 266 (delta 90), pack-reused 97486\u001b[K\n",
            "Receiving objects: 100% (97792/97792), 617.39 MiB | 15.29 MiB/s, done.\n",
            "Resolving deltas: 100% (71099/71099), done.\n"
          ]
        }
      ]
    },
    {
      "cell_type": "code",
      "source": [
        "cd models/research/"
      ],
      "metadata": {
        "colab": {
          "base_uri": "https://localhost:8080/"
        },
        "id": "dI4qNai9Pc_x",
        "outputId": "79e47913-bfcb-4551-d292-bd8bb227b2c2"
      },
      "execution_count": 4,
      "outputs": [
        {
          "output_type": "stream",
          "name": "stdout",
          "text": [
            "/content/tensorflow/models/research\n"
          ]
        }
      ]
    },
    {
      "cell_type": "code",
      "source": [
        "!protoc object_detection/protos/*.proto --python_out=."
      ],
      "metadata": {
        "id": "7iiPQr4QPfab"
      },
      "execution_count": 5,
      "outputs": []
    },
    {
      "cell_type": "code",
      "source": [
        "pwd"
      ],
      "metadata": {
        "colab": {
          "base_uri": "https://localhost:8080/",
          "height": 36
        },
        "id": "cQ99DWc3PnCV",
        "outputId": "c938ec38-452a-4670-ecd1-8a373e87d26b"
      },
      "execution_count": 6,
      "outputs": [
        {
          "output_type": "execute_result",
          "data": {
            "text/plain": [
              "'/content/tensorflow/models/research'"
            ],
            "application/vnd.google.colaboratory.intrinsic+json": {
              "type": "string"
            }
          },
          "metadata": {},
          "execution_count": 6
        }
      ]
    },
    {
      "cell_type": "code",
      "source": [
        "!git clone https://github.com/cocodataset/cocoapi.git"
      ],
      "metadata": {
        "colab": {
          "base_uri": "https://localhost:8080/"
        },
        "id": "6QvrM9ujPnxl",
        "outputId": "26997f7b-ac91-4dfb-bb4e-8ad8c2213ba8"
      },
      "execution_count": 7,
      "outputs": [
        {
          "output_type": "stream",
          "name": "stdout",
          "text": [
            "Cloning into 'cocoapi'...\n",
            "remote: Enumerating objects: 975, done.\u001b[K\n",
            "remote: Total 975 (delta 0), reused 0 (delta 0), pack-reused 975\u001b[K\n",
            "Receiving objects: 100% (975/975), 11.72 MiB | 16.33 MiB/s, done.\n",
            "Resolving deltas: 100% (576/576), done.\n"
          ]
        }
      ]
    },
    {
      "cell_type": "code",
      "source": [
        "cd cocoapi/PythonAPI"
      ],
      "metadata": {
        "colab": {
          "base_uri": "https://localhost:8080/"
        },
        "id": "fEIuIZScPsNj",
        "outputId": "b49ec32b-a526-4d9f-c2ce-40df88ecf8de"
      },
      "execution_count": 8,
      "outputs": [
        {
          "output_type": "stream",
          "name": "stdout",
          "text": [
            "/content/tensorflow/models/research/cocoapi/PythonAPI\n"
          ]
        }
      ]
    },
    {
      "cell_type": "code",
      "source": [
        "!make"
      ],
      "metadata": {
        "colab": {
          "base_uri": "https://localhost:8080/"
        },
        "id": "j5SbDzVlPwM-",
        "outputId": "8f8086e2-72af-4d01-9d41-f0679e008439"
      },
      "execution_count": 9,
      "outputs": [
        {
          "output_type": "stream",
          "name": "stdout",
          "text": [
            "python setup.py build_ext --inplace\n",
            "running build_ext\n",
            "Compiling pycocotools/_mask.pyx because it changed.\n",
            "[1/1] Cythonizing pycocotools/_mask.pyx\n",
            "/usr/local/lib/python3.10/dist-packages/Cython/Compiler/Main.py:381: FutureWarning: Cython directive 'language_level' not set, using '3str' for now (Py3). This has changed from earlier releases! File: /content/tensorflow/models/research/cocoapi/PythonAPI/pycocotools/_mask.pyx\n",
            "  tree = Parsing.p_module(s, pxd, full_module_name)\n",
            "building 'pycocotools._mask' extension\n",
            "creating build\n",
            "creating build/common\n",
            "creating build/temp.linux-x86_64-cpython-310\n",
            "creating build/temp.linux-x86_64-cpython-310/pycocotools\n",
            "x86_64-linux-gnu-gcc -Wno-unused-result -Wsign-compare -DNDEBUG -g -fwrapv -O2 -Wall -g -fstack-protector-strong -Wformat -Werror=format-security -g -fwrapv -O2 -fPIC -I/usr/local/lib/python3.10/dist-packages/numpy/core/include -I../common -I/usr/include/python3.10 -c ../common/maskApi.c -o build/temp.linux-x86_64-cpython-310/../common/maskApi.o -Wno-cpp -Wno-unused-function -std=c99\n",
            "\u001b[01m\u001b[K../common/maskApi.c:\u001b[m\u001b[K In function ‘\u001b[01m\u001b[KrleDecode\u001b[m\u001b[K’:\n",
            "\u001b[01m\u001b[K../common/maskApi.c:46:7:\u001b[m\u001b[K \u001b[01;35m\u001b[Kwarning: \u001b[m\u001b[Kthis ‘\u001b[01m\u001b[Kfor\u001b[m\u001b[K’ clause does not guard... [\u001b[01;35m\u001b[K\u001b]8;;https://gcc.gnu.org/onlinedocs/gcc/Warning-Options.html#index-Wmisleading-indentation\u0007-Wmisleading-indentation\u001b]8;;\u0007\u001b[m\u001b[K]\n",
            "   46 |       \u001b[01;35m\u001b[Kfor\u001b[m\u001b[K( k=0; k<R[i].cnts[j]; k++ ) *(M++)=v; v=!v; }}\n",
            "      |       \u001b[01;35m\u001b[K^~~\u001b[m\u001b[K\n",
            "\u001b[01m\u001b[K../common/maskApi.c:46:49:\u001b[m\u001b[K \u001b[01;36m\u001b[Knote: \u001b[m\u001b[K...this statement, but the latter is misleadingly indented as if it were guarded by the ‘\u001b[01m\u001b[Kfor\u001b[m\u001b[K’\n",
            "   46 |       for( k=0; k<R[i].cnts[j]; k++ ) *(M++)=v; \u001b[01;36m\u001b[Kv\u001b[m\u001b[K=!v; }}\n",
            "      |                                                 \u001b[01;36m\u001b[K^\u001b[m\u001b[K\n",
            "\u001b[01m\u001b[K../common/maskApi.c:\u001b[m\u001b[K In function ‘\u001b[01m\u001b[KrleFrPoly\u001b[m\u001b[K’:\n",
            "\u001b[01m\u001b[K../common/maskApi.c:166:3:\u001b[m\u001b[K \u001b[01;35m\u001b[Kwarning: \u001b[m\u001b[Kthis ‘\u001b[01m\u001b[Kfor\u001b[m\u001b[K’ clause does not guard... [\u001b[01;35m\u001b[K\u001b]8;;https://gcc.gnu.org/onlinedocs/gcc/Warning-Options.html#index-Wmisleading-indentation\u0007-Wmisleading-indentation\u001b]8;;\u0007\u001b[m\u001b[K]\n",
            "  166 |   \u001b[01;35m\u001b[Kfor\u001b[m\u001b[K(j=0; j<k; j++) x[j]=(int)(scale*xy[j*2+0]+.5); x[k]=x[0];\n",
            "      |   \u001b[01;35m\u001b[K^~~\u001b[m\u001b[K\n",
            "\u001b[01m\u001b[K../common/maskApi.c:166:54:\u001b[m\u001b[K \u001b[01;36m\u001b[Knote: \u001b[m\u001b[K...this statement, but the latter is misleadingly indented as if it were guarded by the ‘\u001b[01m\u001b[Kfor\u001b[m\u001b[K’\n",
            "  166 |   for(j=0; j<k; j++) x[j]=(int)(scale*xy[j*2+0]+.5); \u001b[01;36m\u001b[Kx\u001b[m\u001b[K[k]=x[0];\n",
            "      |                                                      \u001b[01;36m\u001b[K^\u001b[m\u001b[K\n",
            "\u001b[01m\u001b[K../common/maskApi.c:167:3:\u001b[m\u001b[K \u001b[01;35m\u001b[Kwarning: \u001b[m\u001b[Kthis ‘\u001b[01m\u001b[Kfor\u001b[m\u001b[K’ clause does not guard... [\u001b[01;35m\u001b[K\u001b]8;;https://gcc.gnu.org/onlinedocs/gcc/Warning-Options.html#index-Wmisleading-indentation\u0007-Wmisleading-indentation\u001b]8;;\u0007\u001b[m\u001b[K]\n",
            "  167 |   \u001b[01;35m\u001b[Kfor\u001b[m\u001b[K(j=0; j<k; j++) y[j]=(int)(scale*xy[j*2+1]+.5); y[k]=y[0];\n",
            "      |   \u001b[01;35m\u001b[K^~~\u001b[m\u001b[K\n",
            "\u001b[01m\u001b[K../common/maskApi.c:167:54:\u001b[m\u001b[K \u001b[01;36m\u001b[Knote: \u001b[m\u001b[K...this statement, but the latter is misleadingly indented as if it were guarded by the ‘\u001b[01m\u001b[Kfor\u001b[m\u001b[K’\n",
            "  167 |   for(j=0; j<k; j++) y[j]=(int)(scale*xy[j*2+1]+.5); \u001b[01;36m\u001b[Ky\u001b[m\u001b[K[k]=y[0];\n",
            "      |                                                      \u001b[01;36m\u001b[K^\u001b[m\u001b[K\n",
            "\u001b[01m\u001b[K../common/maskApi.c:\u001b[m\u001b[K In function ‘\u001b[01m\u001b[KrleToString\u001b[m\u001b[K’:\n",
            "\u001b[01m\u001b[K../common/maskApi.c:212:7:\u001b[m\u001b[K \u001b[01;35m\u001b[Kwarning: \u001b[m\u001b[Kthis ‘\u001b[01m\u001b[Kif\u001b[m\u001b[K’ clause does not guard... [\u001b[01;35m\u001b[K\u001b]8;;https://gcc.gnu.org/onlinedocs/gcc/Warning-Options.html#index-Wmisleading-indentation\u0007-Wmisleading-indentation\u001b]8;;\u0007\u001b[m\u001b[K]\n",
            "  212 |       \u001b[01;35m\u001b[Kif\u001b[m\u001b[K(more) c |= 0x20; c+=48; s[p++]=c;\n",
            "      |       \u001b[01;35m\u001b[K^~\u001b[m\u001b[K\n",
            "\u001b[01m\u001b[K../common/maskApi.c:212:27:\u001b[m\u001b[K \u001b[01;36m\u001b[Knote: \u001b[m\u001b[K...this statement, but the latter is misleadingly indented as if it were guarded by the ‘\u001b[01m\u001b[Kif\u001b[m\u001b[K’\n",
            "  212 |       if(more) c |= 0x20; \u001b[01;36m\u001b[Kc\u001b[m\u001b[K+=48; s[p++]=c;\n",
            "      |                           \u001b[01;36m\u001b[K^\u001b[m\u001b[K\n",
            "\u001b[01m\u001b[K../common/maskApi.c:\u001b[m\u001b[K In function ‘\u001b[01m\u001b[KrleFrString\u001b[m\u001b[K’:\n",
            "\u001b[01m\u001b[K../common/maskApi.c:220:3:\u001b[m\u001b[K \u001b[01;35m\u001b[Kwarning: \u001b[m\u001b[Kthis ‘\u001b[01m\u001b[Kwhile\u001b[m\u001b[K’ clause does not guard... [\u001b[01;35m\u001b[K\u001b]8;;https://gcc.gnu.org/onlinedocs/gcc/Warning-Options.html#index-Wmisleading-indentation\u0007-Wmisleading-indentation\u001b]8;;\u0007\u001b[m\u001b[K]\n",
            "  220 |   \u001b[01;35m\u001b[Kwhile\u001b[m\u001b[K( s[m] ) m++; cnts=malloc(sizeof(uint)*m); m=0;\n",
            "      |   \u001b[01;35m\u001b[K^~~~~\u001b[m\u001b[K\n",
            "\u001b[01m\u001b[K../common/maskApi.c:220:22:\u001b[m\u001b[K \u001b[01;36m\u001b[Knote: \u001b[m\u001b[K...this statement, but the latter is misleadingly indented as if it were guarded by the ‘\u001b[01m\u001b[Kwhile\u001b[m\u001b[K’\n",
            "  220 |   while( s[m] ) m++; \u001b[01;36m\u001b[Kcnts\u001b[m\u001b[K=malloc(sizeof(uint)*m); m=0;\n",
            "      |                      \u001b[01;36m\u001b[K^~~~\u001b[m\u001b[K\n",
            "\u001b[01m\u001b[K../common/maskApi.c:228:5:\u001b[m\u001b[K \u001b[01;35m\u001b[Kwarning: \u001b[m\u001b[Kthis ‘\u001b[01m\u001b[Kif\u001b[m\u001b[K’ clause does not guard... [\u001b[01;35m\u001b[K\u001b]8;;https://gcc.gnu.org/onlinedocs/gcc/Warning-Options.html#index-Wmisleading-indentation\u0007-Wmisleading-indentation\u001b]8;;\u0007\u001b[m\u001b[K]\n",
            "  228 |     \u001b[01;35m\u001b[Kif\u001b[m\u001b[K(m>2) x+=(long) cnts[m-2]; cnts[m++]=(uint) x;\n",
            "      |     \u001b[01;35m\u001b[K^~\u001b[m\u001b[K\n",
            "\u001b[01m\u001b[K../common/maskApi.c:228:34:\u001b[m\u001b[K \u001b[01;36m\u001b[Knote: \u001b[m\u001b[K...this statement, but the latter is misleadingly indented as if it were guarded by the ‘\u001b[01m\u001b[Kif\u001b[m\u001b[K’\n",
            "  228 |     if(m>2) x+=(long) cnts[m-2]; \u001b[01;36m\u001b[Kcnts\u001b[m\u001b[K[m++]=(uint) x;\n",
            "      |                                  \u001b[01;36m\u001b[K^~~~\u001b[m\u001b[K\n",
            "x86_64-linux-gnu-gcc -Wno-unused-result -Wsign-compare -DNDEBUG -g -fwrapv -O2 -Wall -g -fstack-protector-strong -Wformat -Werror=format-security -g -fwrapv -O2 -fPIC -I/usr/local/lib/python3.10/dist-packages/numpy/core/include -I../common -I/usr/include/python3.10 -c pycocotools/_mask.c -o build/temp.linux-x86_64-cpython-310/pycocotools/_mask.o -Wno-cpp -Wno-unused-function -std=c99\n",
            "creating build/lib.linux-x86_64-cpython-310\n",
            "creating build/lib.linux-x86_64-cpython-310/pycocotools\n",
            "x86_64-linux-gnu-gcc -shared -Wl,-O1 -Wl,-Bsymbolic-functions -Wl,-Bsymbolic-functions -g -fwrapv -O2 build/temp.linux-x86_64-cpython-310/../common/maskApi.o build/temp.linux-x86_64-cpython-310/pycocotools/_mask.o -L/usr/lib/x86_64-linux-gnu -o build/lib.linux-x86_64-cpython-310/pycocotools/_mask.cpython-310-x86_64-linux-gnu.so\n",
            "copying build/lib.linux-x86_64-cpython-310/pycocotools/_mask.cpython-310-x86_64-linux-gnu.so -> pycocotools\n",
            "rm -rf build\n"
          ]
        }
      ]
    },
    {
      "cell_type": "code",
      "source": [
        "cp -r pycocotools /tensorflow/models/research"
      ],
      "metadata": {
        "colab": {
          "base_uri": "https://localhost:8080/"
        },
        "id": "pVO8okFAPw2_",
        "outputId": "25d4e94a-63b6-4483-ebf6-09b9560ac25e"
      },
      "execution_count": 10,
      "outputs": [
        {
          "output_type": "stream",
          "name": "stdout",
          "text": [
            "cp: cannot create directory '/tensorflow/models/research': No such file or directory\n"
          ]
        }
      ]
    },
    {
      "cell_type": "code",
      "source": [
        "pwd\n"
      ],
      "metadata": {
        "colab": {
          "base_uri": "https://localhost:8080/",
          "height": 36
        },
        "id": "TvDCHtsyQKoG",
        "outputId": "b81cc714-1c94-4699-d705-1c3a0f573c9b"
      },
      "execution_count": 11,
      "outputs": [
        {
          "output_type": "execute_result",
          "data": {
            "text/plain": [
              "'/content/tensorflow/models/research/cocoapi/PythonAPI'"
            ],
            "application/vnd.google.colaboratory.intrinsic+json": {
              "type": "string"
            }
          },
          "metadata": {},
          "execution_count": 11
        }
      ]
    },
    {
      "cell_type": "code",
      "source": [
        "cd"
      ],
      "metadata": {
        "colab": {
          "base_uri": "https://localhost:8080/"
        },
        "id": "HHmoW_WtQLbm",
        "outputId": "9e53364b-4dc0-4f02-d6c7-5f59a7069047"
      },
      "execution_count": 12,
      "outputs": [
        {
          "output_type": "stream",
          "name": "stdout",
          "text": [
            "/root\n"
          ]
        }
      ]
    },
    {
      "cell_type": "code",
      "source": [
        "cd /content/tensorflow/models/research"
      ],
      "metadata": {
        "colab": {
          "base_uri": "https://localhost:8080/"
        },
        "id": "yUmTmQ9TQNO2",
        "outputId": "acee4681-1049-4e28-a333-b121f1820dd8"
      },
      "execution_count": 13,
      "outputs": [
        {
          "output_type": "stream",
          "name": "stdout",
          "text": [
            "/content/tensorflow/models/research\n"
          ]
        }
      ]
    },
    {
      "cell_type": "code",
      "source": [
        "!cp object_detection/packages/tf2/setup.py ."
      ],
      "metadata": {
        "id": "16zQPWEyQRwz"
      },
      "execution_count": 14,
      "outputs": []
    },
    {
      "cell_type": "code",
      "source": [
        "!python -m pip install ."
      ],
      "metadata": {
        "colab": {
          "base_uri": "https://localhost:8080/"
        },
        "id": "YAQIU1cKQY_m",
        "outputId": "4116a61c-a390-46dc-8744-85514a39dd7a"
      },
      "execution_count": 15,
      "outputs": [
        {
          "output_type": "stream",
          "name": "stdout",
          "text": [
            "Processing /content/tensorflow/models/research\n",
            "  Preparing metadata (setup.py) ... \u001b[?25l\u001b[?25hdone\n",
            "Collecting avro-python3 (from object_detection==0.1)\n",
            "  Downloading avro-python3-1.10.2.tar.gz (38 kB)\n",
            "  Preparing metadata (setup.py) ... \u001b[?25l\u001b[?25hdone\n",
            "Collecting apache-beam (from object_detection==0.1)\n",
            "  Downloading apache_beam-2.58.0-cp310-cp310-manylinux_2_17_x86_64.manylinux2014_x86_64.whl.metadata (7.7 kB)\n",
            "Requirement already satisfied: pillow in /usr/local/lib/python3.10/dist-packages (from object_detection==0.1) (9.4.0)\n",
            "Requirement already satisfied: lxml in /usr/local/lib/python3.10/dist-packages (from object_detection==0.1) (4.9.4)\n",
            "Requirement already satisfied: matplotlib in /usr/local/lib/python3.10/dist-packages (from object_detection==0.1) (3.7.1)\n",
            "Requirement already satisfied: Cython in /usr/local/lib/python3.10/dist-packages (from object_detection==0.1) (3.0.10)\n",
            "Requirement already satisfied: contextlib2 in /usr/local/lib/python3.10/dist-packages (from object_detection==0.1) (21.6.0)\n",
            "Requirement already satisfied: tf-slim in /usr/local/lib/python3.10/dist-packages (from object_detection==0.1) (1.1.0)\n",
            "Requirement already satisfied: six in /usr/local/lib/python3.10/dist-packages (from object_detection==0.1) (1.16.0)\n",
            "Requirement already satisfied: pycocotools in /usr/local/lib/python3.10/dist-packages (from object_detection==0.1) (2.0.8)\n",
            "Collecting lvis (from object_detection==0.1)\n",
            "  Downloading lvis-0.5.3-py3-none-any.whl.metadata (856 bytes)\n",
            "Requirement already satisfied: scipy in /usr/local/lib/python3.10/dist-packages (from object_detection==0.1) (1.13.1)\n",
            "Requirement already satisfied: pandas in /usr/local/lib/python3.10/dist-packages (from object_detection==0.1) (2.1.4)\n",
            "Collecting tf-models-official>=2.5.1 (from object_detection==0.1)\n",
            "  Downloading tf_models_official-2.17.0-py2.py3-none-any.whl.metadata (1.4 kB)\n",
            "Collecting tensorflow_io (from object_detection==0.1)\n",
            "  Downloading tensorflow_io-0.37.1-cp310-cp310-manylinux_2_17_x86_64.manylinux2014_x86_64.whl.metadata (14 kB)\n",
            "Collecting pyparsing==2.4.7 (from object_detection==0.1)\n",
            "  Downloading pyparsing-2.4.7-py2.py3-none-any.whl.metadata (3.6 kB)\n",
            "Collecting sacrebleu<=2.2.0 (from object_detection==0.1)\n",
            "  Downloading sacrebleu-2.2.0-py3-none-any.whl.metadata (55 kB)\n",
            "\u001b[2K     \u001b[90m━━━━━━━━━━━━━━━━━━━━━━━━━━━━━━━━━━━━━━━━\u001b[0m \u001b[32m55.4/55.4 kB\u001b[0m \u001b[31m5.5 MB/s\u001b[0m eta \u001b[36m0:00:00\u001b[0m\n",
            "\u001b[?25hCollecting portalocker (from sacrebleu<=2.2.0->object_detection==0.1)\n",
            "  Downloading portalocker-2.10.1-py3-none-any.whl.metadata (8.5 kB)\n",
            "Requirement already satisfied: regex in /usr/local/lib/python3.10/dist-packages (from sacrebleu<=2.2.0->object_detection==0.1) (2024.5.15)\n",
            "Requirement already satisfied: tabulate>=0.8.9 in /usr/local/lib/python3.10/dist-packages (from sacrebleu<=2.2.0->object_detection==0.1) (0.9.0)\n",
            "Requirement already satisfied: numpy>=1.17 in /usr/local/lib/python3.10/dist-packages (from sacrebleu<=2.2.0->object_detection==0.1) (1.26.4)\n",
            "Collecting colorama (from sacrebleu<=2.2.0->object_detection==0.1)\n",
            "  Downloading colorama-0.4.6-py2.py3-none-any.whl.metadata (17 kB)\n",
            "Requirement already satisfied: gin-config in /usr/local/lib/python3.10/dist-packages (from tf-models-official>=2.5.1->object_detection==0.1) (0.5.0)\n",
            "Requirement already satisfied: google-api-python-client>=1.6.7 in /usr/local/lib/python3.10/dist-packages (from tf-models-official>=2.5.1->object_detection==0.1) (2.137.0)\n",
            "Requirement already satisfied: immutabledict in /usr/local/lib/python3.10/dist-packages (from tf-models-official>=2.5.1->object_detection==0.1) (4.2.0)\n",
            "Requirement already satisfied: kaggle>=1.3.9 in /usr/local/lib/python3.10/dist-packages (from tf-models-official>=2.5.1->object_detection==0.1) (1.6.17)\n",
            "Requirement already satisfied: oauth2client in /usr/local/lib/python3.10/dist-packages (from tf-models-official>=2.5.1->object_detection==0.1) (4.1.3)\n",
            "Requirement already satisfied: opencv-python-headless in /usr/local/lib/python3.10/dist-packages (from tf-models-official>=2.5.1->object_detection==0.1) (4.10.0.84)\n",
            "Requirement already satisfied: psutil>=5.4.3 in /usr/local/lib/python3.10/dist-packages (from tf-models-official>=2.5.1->object_detection==0.1) (5.9.5)\n",
            "Requirement already satisfied: py-cpuinfo>=3.3.0 in /usr/local/lib/python3.10/dist-packages (from tf-models-official>=2.5.1->object_detection==0.1) (9.0.0)\n",
            "Requirement already satisfied: pyyaml>=6.0.0 in /usr/local/lib/python3.10/dist-packages (from tf-models-official>=2.5.1->object_detection==0.1) (6.0.1)\n",
            "Requirement already satisfied: sentencepiece in /usr/local/lib/python3.10/dist-packages (from tf-models-official>=2.5.1->object_detection==0.1) (0.1.99)\n",
            "Collecting seqeval (from tf-models-official>=2.5.1->object_detection==0.1)\n",
            "  Downloading seqeval-1.2.2.tar.gz (43 kB)\n",
            "\u001b[2K     \u001b[90m━━━━━━━━━━━━━━━━━━━━━━━━━━━━━━━━━━━━━━━━\u001b[0m \u001b[32m43.6/43.6 kB\u001b[0m \u001b[31m4.6 MB/s\u001b[0m eta \u001b[36m0:00:00\u001b[0m\n",
            "\u001b[?25h  Preparing metadata (setup.py) ... \u001b[?25l\u001b[?25hdone\n",
            "Requirement already satisfied: tensorflow-datasets in /usr/local/lib/python3.10/dist-packages (from tf-models-official>=2.5.1->object_detection==0.1) (4.9.6)\n",
            "Requirement already satisfied: tensorflow-hub>=0.6.0 in /usr/local/lib/python3.10/dist-packages (from tf-models-official>=2.5.1->object_detection==0.1) (0.16.1)\n",
            "Collecting tensorflow-model-optimization>=0.4.1 (from tf-models-official>=2.5.1->object_detection==0.1)\n",
            "  Downloading tensorflow_model_optimization-0.8.0-py2.py3-none-any.whl.metadata (904 bytes)\n",
            "Collecting tensorflow-text~=2.17.0 (from tf-models-official>=2.5.1->object_detection==0.1)\n",
            "  Downloading tensorflow_text-2.17.0-cp310-cp310-manylinux_2_17_x86_64.manylinux2014_x86_64.whl.metadata (1.8 kB)\n",
            "Requirement already satisfied: tensorflow~=2.17.0 in /usr/local/lib/python3.10/dist-packages (from tf-models-official>=2.5.1->object_detection==0.1) (2.17.0)\n",
            "Requirement already satisfied: tf-keras>=2.16.0 in /usr/local/lib/python3.10/dist-packages (from tf-models-official>=2.5.1->object_detection==0.1) (2.17.0)\n",
            "Requirement already satisfied: python-dateutil>=2.8.2 in /usr/local/lib/python3.10/dist-packages (from pandas->object_detection==0.1) (2.8.2)\n",
            "Requirement already satisfied: pytz>=2020.1 in /usr/local/lib/python3.10/dist-packages (from pandas->object_detection==0.1) (2024.1)\n",
            "Requirement already satisfied: tzdata>=2022.1 in /usr/local/lib/python3.10/dist-packages (from pandas->object_detection==0.1) (2024.1)\n",
            "Requirement already satisfied: absl-py>=0.2.2 in /usr/local/lib/python3.10/dist-packages (from tf-slim->object_detection==0.1) (1.4.0)\n",
            "Collecting crcmod<2.0,>=1.7 (from apache-beam->object_detection==0.1)\n",
            "  Downloading crcmod-1.7.tar.gz (89 kB)\n",
            "\u001b[2K     \u001b[90m━━━━━━━━━━━━━━━━━━━━━━━━━━━━━━━━━━━━━━━━\u001b[0m \u001b[32m89.7/89.7 kB\u001b[0m \u001b[31m10.3 MB/s\u001b[0m eta \u001b[36m0:00:00\u001b[0m\n",
            "\u001b[?25h  Preparing metadata (setup.py) ... \u001b[?25l\u001b[?25hdone\n",
            "Collecting orjson<4,>=3.9.7 (from apache-beam->object_detection==0.1)\n",
            "  Downloading orjson-3.10.6-cp310-cp310-manylinux_2_17_x86_64.manylinux2014_x86_64.whl.metadata (50 kB)\n",
            "\u001b[2K     \u001b[90m━━━━━━━━━━━━━━━━━━━━━━━━━━━━━━━━━━━━━━━━\u001b[0m \u001b[32m50.4/50.4 kB\u001b[0m \u001b[31m4.6 MB/s\u001b[0m eta \u001b[36m0:00:00\u001b[0m\n",
            "\u001b[?25hCollecting dill<0.3.2,>=0.3.1.1 (from apache-beam->object_detection==0.1)\n",
            "  Downloading dill-0.3.1.1.tar.gz (151 kB)\n",
            "\u001b[2K     \u001b[90m━━━━━━━━━━━━━━━━━━━━━━━━━━━━━━━━━━━━━━━━\u001b[0m \u001b[32m152.0/152.0 kB\u001b[0m \u001b[31m15.8 MB/s\u001b[0m eta \u001b[36m0:00:00\u001b[0m\n",
            "\u001b[?25h  Preparing metadata (setup.py) ... \u001b[?25l\u001b[?25hdone\n",
            "Requirement already satisfied: cloudpickle~=2.2.1 in /usr/local/lib/python3.10/dist-packages (from apache-beam->object_detection==0.1) (2.2.1)\n",
            "Collecting fastavro<2,>=0.23.6 (from apache-beam->object_detection==0.1)\n",
            "  Downloading fastavro-1.9.5-cp310-cp310-manylinux_2_17_x86_64.manylinux2014_x86_64.whl.metadata (5.5 kB)\n",
            "Collecting fasteners<1.0,>=0.3 (from apache-beam->object_detection==0.1)\n",
            "  Downloading fasteners-0.19-py3-none-any.whl.metadata (4.9 kB)\n",
            "Requirement already satisfied: grpcio!=1.48.0,!=1.59.*,!=1.60.*,!=1.61.*,!=1.62.0,!=1.62.1,<2,>=1.33.1 in /usr/local/lib/python3.10/dist-packages (from apache-beam->object_detection==0.1) (1.64.1)\n",
            "Collecting hdfs<3.0.0,>=2.1.0 (from apache-beam->object_detection==0.1)\n",
            "  Downloading hdfs-2.7.3.tar.gz (43 kB)\n",
            "\u001b[2K     \u001b[90m━━━━━━━━━━━━━━━━━━━━━━━━━━━━━━━━━━━━━━━━\u001b[0m \u001b[32m43.5/43.5 kB\u001b[0m \u001b[31m4.8 MB/s\u001b[0m eta \u001b[36m0:00:00\u001b[0m\n",
            "\u001b[?25h  Preparing metadata (setup.py) ... \u001b[?25l\u001b[?25hdone\n",
            "Requirement already satisfied: httplib2<0.23.0,>=0.8 in /usr/local/lib/python3.10/dist-packages (from apache-beam->object_detection==0.1) (0.22.0)\n",
            "Requirement already satisfied: jsonschema<5.0.0,>=4.0.0 in /usr/local/lib/python3.10/dist-packages (from apache-beam->object_detection==0.1) (4.23.0)\n",
            "Requirement already satisfied: jsonpickle<4.0.0,>=3.0.0 in /usr/local/lib/python3.10/dist-packages (from apache-beam->object_detection==0.1) (3.2.2)\n",
            "Collecting objsize<0.8.0,>=0.6.1 (from apache-beam->object_detection==0.1)\n",
            "  Downloading objsize-0.7.0-py3-none-any.whl.metadata (12 kB)\n",
            "Requirement already satisfied: packaging>=22.0 in /usr/local/lib/python3.10/dist-packages (from apache-beam->object_detection==0.1) (24.1)\n",
            "Collecting pymongo<5.0.0,>=3.8.0 (from apache-beam->object_detection==0.1)\n",
            "  Downloading pymongo-4.8.0-cp310-cp310-manylinux_2_17_x86_64.manylinux2014_x86_64.whl.metadata (22 kB)\n",
            "Requirement already satisfied: proto-plus<2,>=1.7.1 in /usr/local/lib/python3.10/dist-packages (from apache-beam->object_detection==0.1) (1.24.0)\n",
            "Requirement already satisfied: protobuf!=4.0.*,!=4.21.*,!=4.22.0,!=4.23.*,!=4.24.*,<4.26.0,>=3.20.3 in /usr/local/lib/python3.10/dist-packages (from apache-beam->object_detection==0.1) (3.20.3)\n",
            "Requirement already satisfied: pydot<2,>=1.2.0 in /usr/local/lib/python3.10/dist-packages (from apache-beam->object_detection==0.1) (1.4.2)\n",
            "Collecting redis<6,>=5.0.0 (from apache-beam->object_detection==0.1)\n",
            "  Downloading redis-5.0.8-py3-none-any.whl.metadata (9.2 kB)\n",
            "Requirement already satisfied: requests!=2.32.*,<3.0.0,>=2.24.0 in /usr/local/lib/python3.10/dist-packages (from apache-beam->object_detection==0.1) (2.31.0)\n",
            "Requirement already satisfied: typing-extensions>=3.7.0 in /usr/local/lib/python3.10/dist-packages (from apache-beam->object_detection==0.1) (4.12.2)\n",
            "Collecting zstandard<1,>=0.18.0 (from apache-beam->object_detection==0.1)\n",
            "  Downloading zstandard-0.23.0-cp310-cp310-manylinux_2_17_x86_64.manylinux2014_x86_64.whl.metadata (3.0 kB)\n",
            "Requirement already satisfied: pyarrow<17.0.0,>=3.0.0 in /usr/local/lib/python3.10/dist-packages (from apache-beam->object_detection==0.1) (14.0.2)\n",
            "Requirement already satisfied: pyarrow-hotfix<1 in /usr/local/lib/python3.10/dist-packages (from apache-beam->object_detection==0.1) (0.6)\n",
            "Collecting js2py<1,>=0.74 (from apache-beam->object_detection==0.1)\n",
            "  Downloading Js2Py-0.74-py3-none-any.whl.metadata (868 bytes)\n",
            "Requirement already satisfied: cycler>=0.10.0 in /usr/local/lib/python3.10/dist-packages (from lvis->object_detection==0.1) (0.12.1)\n",
            "Requirement already satisfied: kiwisolver>=1.1.0 in /usr/local/lib/python3.10/dist-packages (from lvis->object_detection==0.1) (1.4.5)\n",
            "Requirement already satisfied: opencv-python>=4.1.0.25 in /usr/local/lib/python3.10/dist-packages (from lvis->object_detection==0.1) (4.10.0.84)\n",
            "Requirement already satisfied: contourpy>=1.0.1 in /usr/local/lib/python3.10/dist-packages (from matplotlib->object_detection==0.1) (1.2.1)\n",
            "Requirement already satisfied: fonttools>=4.22.0 in /usr/local/lib/python3.10/dist-packages (from matplotlib->object_detection==0.1) (4.53.1)\n",
            "Requirement already satisfied: tensorflow-io-gcs-filesystem==0.37.1 in /usr/local/lib/python3.10/dist-packages (from tensorflow_io->object_detection==0.1) (0.37.1)\n",
            "Requirement already satisfied: google-auth!=2.24.0,!=2.25.0,<3.0.0.dev0,>=1.32.0 in /usr/local/lib/python3.10/dist-packages (from google-api-python-client>=1.6.7->tf-models-official>=2.5.1->object_detection==0.1) (2.27.0)\n",
            "Requirement already satisfied: google-auth-httplib2<1.0.0,>=0.2.0 in /usr/local/lib/python3.10/dist-packages (from google-api-python-client>=1.6.7->tf-models-official>=2.5.1->object_detection==0.1) (0.2.0)\n",
            "Requirement already satisfied: google-api-core!=2.0.*,!=2.1.*,!=2.2.*,!=2.3.0,<3.0.0.dev0,>=1.31.5 in /usr/local/lib/python3.10/dist-packages (from google-api-python-client>=1.6.7->tf-models-official>=2.5.1->object_detection==0.1) (2.19.1)\n",
            "Requirement already satisfied: uritemplate<5,>=3.0.1 in /usr/local/lib/python3.10/dist-packages (from google-api-python-client>=1.6.7->tf-models-official>=2.5.1->object_detection==0.1) (4.1.1)\n",
            "Collecting docopt (from hdfs<3.0.0,>=2.1.0->apache-beam->object_detection==0.1)\n",
            "  Downloading docopt-0.6.2.tar.gz (25 kB)\n",
            "  Preparing metadata (setup.py) ... \u001b[?25l\u001b[?25hdone\n",
            "Requirement already satisfied: tzlocal>=1.2 in /usr/local/lib/python3.10/dist-packages (from js2py<1,>=0.74->apache-beam->object_detection==0.1) (5.2)\n",
            "Collecting pyjsparser>=2.5.1 (from js2py<1,>=0.74->apache-beam->object_detection==0.1)\n",
            "  Downloading pyjsparser-2.7.1.tar.gz (24 kB)\n",
            "  Preparing metadata (setup.py) ... \u001b[?25l\u001b[?25hdone\n",
            "Requirement already satisfied: attrs>=22.2.0 in /usr/local/lib/python3.10/dist-packages (from jsonschema<5.0.0,>=4.0.0->apache-beam->object_detection==0.1) (23.2.0)\n",
            "Requirement already satisfied: jsonschema-specifications>=2023.03.6 in /usr/local/lib/python3.10/dist-packages (from jsonschema<5.0.0,>=4.0.0->apache-beam->object_detection==0.1) (2023.12.1)\n",
            "Requirement already satisfied: referencing>=0.28.4 in /usr/local/lib/python3.10/dist-packages (from jsonschema<5.0.0,>=4.0.0->apache-beam->object_detection==0.1) (0.35.1)\n",
            "Requirement already satisfied: rpds-py>=0.7.1 in /usr/local/lib/python3.10/dist-packages (from jsonschema<5.0.0,>=4.0.0->apache-beam->object_detection==0.1) (0.19.1)\n",
            "Requirement already satisfied: certifi>=2023.7.22 in /usr/local/lib/python3.10/dist-packages (from kaggle>=1.3.9->tf-models-official>=2.5.1->object_detection==0.1) (2024.7.4)\n",
            "Requirement already satisfied: tqdm in /usr/local/lib/python3.10/dist-packages (from kaggle>=1.3.9->tf-models-official>=2.5.1->object_detection==0.1) (4.66.4)\n",
            "Requirement already satisfied: python-slugify in /usr/local/lib/python3.10/dist-packages (from kaggle>=1.3.9->tf-models-official>=2.5.1->object_detection==0.1) (8.0.4)\n",
            "Requirement already satisfied: urllib3 in /usr/local/lib/python3.10/dist-packages (from kaggle>=1.3.9->tf-models-official>=2.5.1->object_detection==0.1) (2.0.7)\n",
            "Requirement already satisfied: bleach in /usr/local/lib/python3.10/dist-packages (from kaggle>=1.3.9->tf-models-official>=2.5.1->object_detection==0.1) (6.1.0)\n",
            "Collecting dnspython<3.0.0,>=1.16.0 (from pymongo<5.0.0,>=3.8.0->apache-beam->object_detection==0.1)\n",
            "  Downloading dnspython-2.6.1-py3-none-any.whl.metadata (5.8 kB)\n",
            "Requirement already satisfied: async-timeout>=4.0.3 in /usr/local/lib/python3.10/dist-packages (from redis<6,>=5.0.0->apache-beam->object_detection==0.1) (4.0.3)\n",
            "Requirement already satisfied: charset-normalizer<4,>=2 in /usr/local/lib/python3.10/dist-packages (from requests!=2.32.*,<3.0.0,>=2.24.0->apache-beam->object_detection==0.1) (3.3.2)\n",
            "Requirement already satisfied: idna<4,>=2.5 in /usr/local/lib/python3.10/dist-packages (from requests!=2.32.*,<3.0.0,>=2.24.0->apache-beam->object_detection==0.1) (3.7)\n",
            "Requirement already satisfied: astunparse>=1.6.0 in /usr/local/lib/python3.10/dist-packages (from tensorflow~=2.17.0->tf-models-official>=2.5.1->object_detection==0.1) (1.6.3)\n",
            "Requirement already satisfied: flatbuffers>=24.3.25 in /usr/local/lib/python3.10/dist-packages (from tensorflow~=2.17.0->tf-models-official>=2.5.1->object_detection==0.1) (24.3.25)\n",
            "Requirement already satisfied: gast!=0.5.0,!=0.5.1,!=0.5.2,>=0.2.1 in /usr/local/lib/python3.10/dist-packages (from tensorflow~=2.17.0->tf-models-official>=2.5.1->object_detection==0.1) (0.6.0)\n",
            "Requirement already satisfied: google-pasta>=0.1.1 in /usr/local/lib/python3.10/dist-packages (from tensorflow~=2.17.0->tf-models-official>=2.5.1->object_detection==0.1) (0.2.0)\n",
            "Requirement already satisfied: h5py>=3.10.0 in /usr/local/lib/python3.10/dist-packages (from tensorflow~=2.17.0->tf-models-official>=2.5.1->object_detection==0.1) (3.11.0)\n",
            "Requirement already satisfied: libclang>=13.0.0 in /usr/local/lib/python3.10/dist-packages (from tensorflow~=2.17.0->tf-models-official>=2.5.1->object_detection==0.1) (18.1.1)\n",
            "Requirement already satisfied: ml-dtypes<0.5.0,>=0.3.1 in /usr/local/lib/python3.10/dist-packages (from tensorflow~=2.17.0->tf-models-official>=2.5.1->object_detection==0.1) (0.4.0)\n",
            "Requirement already satisfied: opt-einsum>=2.3.2 in /usr/local/lib/python3.10/dist-packages (from tensorflow~=2.17.0->tf-models-official>=2.5.1->object_detection==0.1) (3.3.0)\n",
            "Requirement already satisfied: setuptools in /usr/local/lib/python3.10/dist-packages (from tensorflow~=2.17.0->tf-models-official>=2.5.1->object_detection==0.1) (71.0.4)\n",
            "Requirement already satisfied: termcolor>=1.1.0 in /usr/local/lib/python3.10/dist-packages (from tensorflow~=2.17.0->tf-models-official>=2.5.1->object_detection==0.1) (2.4.0)\n",
            "Requirement already satisfied: wrapt>=1.11.0 in /usr/local/lib/python3.10/dist-packages (from tensorflow~=2.17.0->tf-models-official>=2.5.1->object_detection==0.1) (1.16.0)\n",
            "Requirement already satisfied: tensorboard<2.18,>=2.17 in /usr/local/lib/python3.10/dist-packages (from tensorflow~=2.17.0->tf-models-official>=2.5.1->object_detection==0.1) (2.17.0)\n",
            "Requirement already satisfied: keras>=3.2.0 in /usr/local/lib/python3.10/dist-packages (from tensorflow~=2.17.0->tf-models-official>=2.5.1->object_detection==0.1) (3.4.1)\n",
            "Requirement already satisfied: dm-tree~=0.1.1 in /usr/local/lib/python3.10/dist-packages (from tensorflow-model-optimization>=0.4.1->tf-models-official>=2.5.1->object_detection==0.1) (0.1.8)\n",
            "Requirement already satisfied: pyasn1>=0.1.7 in /usr/local/lib/python3.10/dist-packages (from oauth2client->tf-models-official>=2.5.1->object_detection==0.1) (0.6.0)\n",
            "Requirement already satisfied: pyasn1-modules>=0.0.5 in /usr/local/lib/python3.10/dist-packages (from oauth2client->tf-models-official>=2.5.1->object_detection==0.1) (0.4.0)\n",
            "Requirement already satisfied: rsa>=3.1.4 in /usr/local/lib/python3.10/dist-packages (from oauth2client->tf-models-official>=2.5.1->object_detection==0.1) (4.9)\n",
            "Requirement already satisfied: scikit-learn>=0.21.3 in /usr/local/lib/python3.10/dist-packages (from seqeval->tf-models-official>=2.5.1->object_detection==0.1) (1.3.2)\n",
            "Requirement already satisfied: click in /usr/local/lib/python3.10/dist-packages (from tensorflow-datasets->tf-models-official>=2.5.1->object_detection==0.1) (8.1.7)\n",
            "Requirement already satisfied: promise in /usr/local/lib/python3.10/dist-packages (from tensorflow-datasets->tf-models-official>=2.5.1->object_detection==0.1) (2.3)\n",
            "Requirement already satisfied: simple-parsing in /usr/local/lib/python3.10/dist-packages (from tensorflow-datasets->tf-models-official>=2.5.1->object_detection==0.1) (0.1.5)\n",
            "Requirement already satisfied: tensorflow-metadata in /usr/local/lib/python3.10/dist-packages (from tensorflow-datasets->tf-models-official>=2.5.1->object_detection==0.1) (1.15.0)\n",
            "Requirement already satisfied: toml in /usr/local/lib/python3.10/dist-packages (from tensorflow-datasets->tf-models-official>=2.5.1->object_detection==0.1) (0.10.2)\n",
            "Requirement already satisfied: array-record>=0.5.0 in /usr/local/lib/python3.10/dist-packages (from tensorflow-datasets->tf-models-official>=2.5.1->object_detection==0.1) (0.5.1)\n",
            "Requirement already satisfied: etils>=1.6.0 in /usr/local/lib/python3.10/dist-packages (from etils[enp,epath,epy,etree]>=1.6.0; python_version < \"3.11\"->tensorflow-datasets->tf-models-official>=2.5.1->object_detection==0.1) (1.7.0)\n",
            "Requirement already satisfied: wheel<1.0,>=0.23.0 in /usr/local/lib/python3.10/dist-packages (from astunparse>=1.6.0->tensorflow~=2.17.0->tf-models-official>=2.5.1->object_detection==0.1) (0.43.0)\n",
            "Requirement already satisfied: fsspec in /usr/local/lib/python3.10/dist-packages (from etils[enp,epath,epy,etree]>=1.6.0; python_version < \"3.11\"->tensorflow-datasets->tf-models-official>=2.5.1->object_detection==0.1) (2024.6.1)\n",
            "Requirement already satisfied: importlib_resources in /usr/local/lib/python3.10/dist-packages (from etils[enp,epath,epy,etree]>=1.6.0; python_version < \"3.11\"->tensorflow-datasets->tf-models-official>=2.5.1->object_detection==0.1) (6.4.0)\n",
            "Requirement already satisfied: zipp in /usr/local/lib/python3.10/dist-packages (from etils[enp,epath,epy,etree]>=1.6.0; python_version < \"3.11\"->tensorflow-datasets->tf-models-official>=2.5.1->object_detection==0.1) (3.19.2)\n",
            "Requirement already satisfied: googleapis-common-protos<2.0.dev0,>=1.56.2 in /usr/local/lib/python3.10/dist-packages (from google-api-core!=2.0.*,!=2.1.*,!=2.2.*,!=2.3.0,<3.0.0.dev0,>=1.31.5->google-api-python-client>=1.6.7->tf-models-official>=2.5.1->object_detection==0.1) (1.63.2)\n",
            "Requirement already satisfied: cachetools<6.0,>=2.0.0 in /usr/local/lib/python3.10/dist-packages (from google-auth!=2.24.0,!=2.25.0,<3.0.0.dev0,>=1.32.0->google-api-python-client>=1.6.7->tf-models-official>=2.5.1->object_detection==0.1) (5.4.0)\n",
            "Requirement already satisfied: rich in /usr/local/lib/python3.10/dist-packages (from keras>=3.2.0->tensorflow~=2.17.0->tf-models-official>=2.5.1->object_detection==0.1) (13.7.1)\n",
            "Requirement already satisfied: namex in /usr/local/lib/python3.10/dist-packages (from keras>=3.2.0->tensorflow~=2.17.0->tf-models-official>=2.5.1->object_detection==0.1) (0.0.8)\n",
            "Requirement already satisfied: optree in /usr/local/lib/python3.10/dist-packages (from keras>=3.2.0->tensorflow~=2.17.0->tf-models-official>=2.5.1->object_detection==0.1) (0.12.1)\n",
            "Requirement already satisfied: joblib>=1.1.1 in /usr/local/lib/python3.10/dist-packages (from scikit-learn>=0.21.3->seqeval->tf-models-official>=2.5.1->object_detection==0.1) (1.4.2)\n",
            "Requirement already satisfied: threadpoolctl>=2.0.0 in /usr/local/lib/python3.10/dist-packages (from scikit-learn>=0.21.3->seqeval->tf-models-official>=2.5.1->object_detection==0.1) (3.5.0)\n",
            "Requirement already satisfied: markdown>=2.6.8 in /usr/local/lib/python3.10/dist-packages (from tensorboard<2.18,>=2.17->tensorflow~=2.17.0->tf-models-official>=2.5.1->object_detection==0.1) (3.6)\n",
            "Requirement already satisfied: tensorboard-data-server<0.8.0,>=0.7.0 in /usr/local/lib/python3.10/dist-packages (from tensorboard<2.18,>=2.17->tensorflow~=2.17.0->tf-models-official>=2.5.1->object_detection==0.1) (0.7.2)\n",
            "Requirement already satisfied: werkzeug>=1.0.1 in /usr/local/lib/python3.10/dist-packages (from tensorboard<2.18,>=2.17->tensorflow~=2.17.0->tf-models-official>=2.5.1->object_detection==0.1) (3.0.3)\n",
            "Requirement already satisfied: webencodings in /usr/local/lib/python3.10/dist-packages (from bleach->kaggle>=1.3.9->tf-models-official>=2.5.1->object_detection==0.1) (0.5.1)\n",
            "Requirement already satisfied: text-unidecode>=1.3 in /usr/local/lib/python3.10/dist-packages (from python-slugify->kaggle>=1.3.9->tf-models-official>=2.5.1->object_detection==0.1) (1.3)\n",
            "Requirement already satisfied: docstring-parser~=0.15 in /usr/local/lib/python3.10/dist-packages (from simple-parsing->tensorflow-datasets->tf-models-official>=2.5.1->object_detection==0.1) (0.16)\n",
            "Requirement already satisfied: MarkupSafe>=2.1.1 in /usr/local/lib/python3.10/dist-packages (from werkzeug>=1.0.1->tensorboard<2.18,>=2.17->tensorflow~=2.17.0->tf-models-official>=2.5.1->object_detection==0.1) (2.1.5)\n",
            "Requirement already satisfied: markdown-it-py>=2.2.0 in /usr/local/lib/python3.10/dist-packages (from rich->keras>=3.2.0->tensorflow~=2.17.0->tf-models-official>=2.5.1->object_detection==0.1) (3.0.0)\n",
            "Requirement already satisfied: pygments<3.0.0,>=2.13.0 in /usr/local/lib/python3.10/dist-packages (from rich->keras>=3.2.0->tensorflow~=2.17.0->tf-models-official>=2.5.1->object_detection==0.1) (2.16.1)\n",
            "Requirement already satisfied: mdurl~=0.1 in /usr/local/lib/python3.10/dist-packages (from markdown-it-py>=2.2.0->rich->keras>=3.2.0->tensorflow~=2.17.0->tf-models-official>=2.5.1->object_detection==0.1) (0.1.2)\n",
            "Downloading pyparsing-2.4.7-py2.py3-none-any.whl (67 kB)\n",
            "\u001b[2K   \u001b[90m━━━━━━━━━━━━━━━━━━━━━━━━━━━━━━━━━━━━━━━━\u001b[0m \u001b[32m67.8/67.8 kB\u001b[0m \u001b[31m7.2 MB/s\u001b[0m eta \u001b[36m0:00:00\u001b[0m\n",
            "\u001b[?25hDownloading sacrebleu-2.2.0-py3-none-any.whl (116 kB)\n",
            "\u001b[2K   \u001b[90m━━━━━━━━━━━━━━━━━━━━━━━━━━━━━━━━━━━━━━━━\u001b[0m \u001b[32m116.6/116.6 kB\u001b[0m \u001b[31m12.7 MB/s\u001b[0m eta \u001b[36m0:00:00\u001b[0m\n",
            "\u001b[?25hDownloading tf_models_official-2.17.0-py2.py3-none-any.whl (2.9 MB)\n",
            "\u001b[2K   \u001b[90m━━━━━━━━━━━━━━━━━━━━━━━━━━━━━━━━━━━━━━━━\u001b[0m \u001b[32m2.9/2.9 MB\u001b[0m \u001b[31m90.7 MB/s\u001b[0m eta \u001b[36m0:00:00\u001b[0m\n",
            "\u001b[?25hDownloading apache_beam-2.58.0-cp310-cp310-manylinux_2_17_x86_64.manylinux2014_x86_64.whl (14.6 MB)\n",
            "\u001b[2K   \u001b[90m━━━━━━━━━━━━━━━━━━━━━━━━━━━━━━━━━━━━━━━━\u001b[0m \u001b[32m14.6/14.6 MB\u001b[0m \u001b[31m60.6 MB/s\u001b[0m eta \u001b[36m0:00:00\u001b[0m\n",
            "\u001b[?25hDownloading lvis-0.5.3-py3-none-any.whl (14 kB)\n",
            "Downloading tensorflow_io-0.37.1-cp310-cp310-manylinux_2_17_x86_64.manylinux2014_x86_64.whl (49.6 MB)\n",
            "\u001b[2K   \u001b[90m━━━━━━━━━━━━━━━━━━━━━━━━━━━━━━━━━━━━━━━━\u001b[0m \u001b[32m49.6/49.6 MB\u001b[0m \u001b[31m23.5 MB/s\u001b[0m eta \u001b[36m0:00:00\u001b[0m\n",
            "\u001b[?25hDownloading fastavro-1.9.5-cp310-cp310-manylinux_2_17_x86_64.manylinux2014_x86_64.whl (3.1 MB)\n",
            "\u001b[2K   \u001b[90m━━━━━━━━━━━━━━━━━━━━━━━━━━━━━━━━━━━━━━━━\u001b[0m \u001b[32m3.1/3.1 MB\u001b[0m \u001b[31m103.5 MB/s\u001b[0m eta \u001b[36m0:00:00\u001b[0m\n",
            "\u001b[?25hDownloading fasteners-0.19-py3-none-any.whl (18 kB)\n",
            "Downloading Js2Py-0.74-py3-none-any.whl (1.0 MB)\n",
            "\u001b[2K   \u001b[90m━━━━━━━━━━━━━━━━━━━━━━━━━━━━━━━━━━━━━━━━\u001b[0m \u001b[32m1.0/1.0 MB\u001b[0m \u001b[31m57.0 MB/s\u001b[0m eta \u001b[36m0:00:00\u001b[0m\n",
            "\u001b[?25hDownloading objsize-0.7.0-py3-none-any.whl (11 kB)\n",
            "Downloading orjson-3.10.6-cp310-cp310-manylinux_2_17_x86_64.manylinux2014_x86_64.whl (141 kB)\n",
            "\u001b[2K   \u001b[90m━━━━━━━━━━━━━━━━━━━━━━━━━━━━━━━━━━━━━━━━\u001b[0m \u001b[32m141.1/141.1 kB\u001b[0m \u001b[31m15.7 MB/s\u001b[0m eta \u001b[36m0:00:00\u001b[0m\n",
            "\u001b[?25hDownloading pymongo-4.8.0-cp310-cp310-manylinux_2_17_x86_64.manylinux2014_x86_64.whl (1.2 MB)\n",
            "\u001b[2K   \u001b[90m━━━━━━━━━━━━━━━━━━━━━━━━━━━━━━━━━━━━━━━━\u001b[0m \u001b[32m1.2/1.2 MB\u001b[0m \u001b[31m64.6 MB/s\u001b[0m eta \u001b[36m0:00:00\u001b[0m\n",
            "\u001b[?25hDownloading redis-5.0.8-py3-none-any.whl (255 kB)\n",
            "\u001b[2K   \u001b[90m━━━━━━━━━━━━━━━━━━━━━━━━━━━━━━━━━━━━━━━━\u001b[0m \u001b[32m255.6/255.6 kB\u001b[0m \u001b[31m26.1 MB/s\u001b[0m eta \u001b[36m0:00:00\u001b[0m\n",
            "\u001b[?25hDownloading tensorflow_model_optimization-0.8.0-py2.py3-none-any.whl (242 kB)\n",
            "\u001b[2K   \u001b[90m━━━━━━━━━━━━━━━━━━━━━━━━━━━━━━━━━━━━━━━━\u001b[0m \u001b[32m242.5/242.5 kB\u001b[0m \u001b[31m24.6 MB/s\u001b[0m eta \u001b[36m0:00:00\u001b[0m\n",
            "\u001b[?25hDownloading tensorflow_text-2.17.0-cp310-cp310-manylinux_2_17_x86_64.manylinux2014_x86_64.whl (5.2 MB)\n",
            "\u001b[2K   \u001b[90m━━━━━━━━━━━━━━━━━━━━━━━━━━━━━━━━━━━━━━━━\u001b[0m \u001b[32m5.2/5.2 MB\u001b[0m \u001b[31m86.9 MB/s\u001b[0m eta \u001b[36m0:00:00\u001b[0m\n",
            "\u001b[?25hDownloading zstandard-0.23.0-cp310-cp310-manylinux_2_17_x86_64.manylinux2014_x86_64.whl (5.4 MB)\n",
            "\u001b[2K   \u001b[90m━━━━━━━━━━━━━━━━━━━━━━━━━━━━━━━━━━━━━━━━\u001b[0m \u001b[32m5.4/5.4 MB\u001b[0m \u001b[31m103.0 MB/s\u001b[0m eta \u001b[36m0:00:00\u001b[0m\n",
            "\u001b[?25hDownloading colorama-0.4.6-py2.py3-none-any.whl (25 kB)\n",
            "Downloading portalocker-2.10.1-py3-none-any.whl (18 kB)\n",
            "Downloading dnspython-2.6.1-py3-none-any.whl (307 kB)\n",
            "\u001b[2K   \u001b[90m━━━━━━━━━━━━━━━━━━━━━━━━━━━━━━━━━━━━━━━━\u001b[0m \u001b[32m307.7/307.7 kB\u001b[0m \u001b[31m31.0 MB/s\u001b[0m eta \u001b[36m0:00:00\u001b[0m\n",
            "\u001b[?25hBuilding wheels for collected packages: object_detection, avro-python3, crcmod, dill, hdfs, seqeval, pyjsparser, docopt\n",
            "  Building wheel for object_detection (setup.py) ... \u001b[?25l\u001b[?25hdone\n",
            "  Created wheel for object_detection: filename=object_detection-0.1-py3-none-any.whl size=1697354 sha256=1c1b205deadc8c1d4058a39f33bdfa9df808b30405a181cbe2a225b52d4e5fb5\n",
            "  Stored in directory: /tmp/pip-ephem-wheel-cache-zf7eefku/wheels/98/68/ba/cb9e30e71245301cb10375c6d9cd6e721173a2637f378668be\n",
            "  Building wheel for avro-python3 (setup.py) ... \u001b[?25l\u001b[?25hdone\n",
            "  Created wheel for avro-python3: filename=avro_python3-1.10.2-py3-none-any.whl size=43994 sha256=d0cbac23ca29f69cad9445bb2a0e3454ef64128a42e5eb2365280c72d942ac2b\n",
            "  Stored in directory: /root/.cache/pip/wheels/bc/85/62/6cdd81c56f923946b401cecff38055b94c9b766927f7d8ca82\n",
            "  Building wheel for crcmod (setup.py) ... \u001b[?25l\u001b[?25hdone\n",
            "  Created wheel for crcmod: filename=crcmod-1.7-cp310-cp310-linux_x86_64.whl size=31404 sha256=feb2e3d519e748aacd873d827affacf1f6890f338f45b2e76ad91a793e3c8c40\n",
            "  Stored in directory: /root/.cache/pip/wheels/85/4c/07/72215c529bd59d67e3dac29711d7aba1b692f543c808ba9e86\n",
            "  Building wheel for dill (setup.py) ... \u001b[?25l\u001b[?25hdone\n",
            "  Created wheel for dill: filename=dill-0.3.1.1-py3-none-any.whl size=78542 sha256=ceffb0864fe56f66bfb96efe6fd0ba56c16560409e88021aeb8f180b70fb68ee\n",
            "  Stored in directory: /root/.cache/pip/wheels/ea/e2/86/64980d90e297e7bf2ce588c2b96e818f5399c515c4bb8a7e4f\n",
            "  Building wheel for hdfs (setup.py) ... \u001b[?25l\u001b[?25hdone\n",
            "  Created wheel for hdfs: filename=hdfs-2.7.3-py3-none-any.whl size=34323 sha256=1a8a24272d5b0f889aef98aa3f7c7e427cfcbcc440a091b1618ba8645d3702ce\n",
            "  Stored in directory: /root/.cache/pip/wheels/e5/8d/b6/99c1c0a3ac5788c866b0ecd3f48b0134a5910e6ed26011800b\n",
            "  Building wheel for seqeval (setup.py) ... \u001b[?25l\u001b[?25hdone\n",
            "  Created wheel for seqeval: filename=seqeval-1.2.2-py3-none-any.whl size=16162 sha256=4db376a57a131a0f3509bae4704a34d970cd4e3638a658b3d6a6cc2489196a5a\n",
            "  Stored in directory: /root/.cache/pip/wheels/1a/67/4a/ad4082dd7dfc30f2abfe4d80a2ed5926a506eb8a972b4767fa\n",
            "  Building wheel for pyjsparser (setup.py) ... \u001b[?25l\u001b[?25hdone\n",
            "  Created wheel for pyjsparser: filename=pyjsparser-2.7.1-py3-none-any.whl size=25983 sha256=aa92f3936418934f6b7e26d292311ebe6bbe4e7bd28ee371c78f718727a29186\n",
            "  Stored in directory: /root/.cache/pip/wheels/5e/81/26/5956478df303e2bf5a85a5df595bb307bd25948a4bab69f7c7\n",
            "  Building wheel for docopt (setup.py) ... \u001b[?25l\u001b[?25hdone\n",
            "  Created wheel for docopt: filename=docopt-0.6.2-py2.py3-none-any.whl size=13704 sha256=e56de857d7c3ac0eef5ed256e21c63641790fad39777f9e0bd4824c4cbe150be\n",
            "  Stored in directory: /root/.cache/pip/wheels/fc/ab/d4/5da2067ac95b36618c629a5f93f809425700506f72c9732fac\n",
            "Successfully built object_detection avro-python3 crcmod dill hdfs seqeval pyjsparser docopt\n",
            "Installing collected packages: pyjsparser, docopt, crcmod, zstandard, tensorflow-model-optimization, tensorflow_io, redis, pyparsing, portalocker, orjson, objsize, js2py, fasteners, fastavro, dnspython, dill, colorama, avro-python3, sacrebleu, pymongo, hdfs, seqeval, lvis, apache-beam, tensorflow-text, tf-models-official, object_detection\n",
            "  Attempting uninstall: pyparsing\n",
            "    Found existing installation: pyparsing 3.1.2\n",
            "    Uninstalling pyparsing-3.1.2:\n",
            "      Successfully uninstalled pyparsing-3.1.2\n",
            "Successfully installed apache-beam-2.58.0 avro-python3-1.10.2 colorama-0.4.6 crcmod-1.7 dill-0.3.1.1 dnspython-2.6.1 docopt-0.6.2 fastavro-1.9.5 fasteners-0.19 hdfs-2.7.3 js2py-0.74 lvis-0.5.3 object_detection-0.1 objsize-0.7.0 orjson-3.10.6 portalocker-2.10.1 pyjsparser-2.7.1 pymongo-4.8.0 pyparsing-2.4.7 redis-5.0.8 sacrebleu-2.2.0 seqeval-1.2.2 tensorflow-model-optimization-0.8.0 tensorflow-text-2.17.0 tensorflow_io-0.37.1 tf-models-official-2.17.0 zstandard-0.23.0\n"
          ]
        }
      ]
    },
    {
      "cell_type": "code",
      "source": [
        "!pip uninstall keras"
      ],
      "metadata": {
        "colab": {
          "base_uri": "https://localhost:8080/"
        },
        "id": "e8sUvcx7Rq9F",
        "outputId": "6085c870-e788-4ab6-8fe5-1e6d9ef677f3"
      },
      "execution_count": null,
      "outputs": [
        {
          "output_type": "stream",
          "name": "stdout",
          "text": [
            "Found existing installation: keras 3.4.1\n",
            "Uninstalling keras-3.4.1:\n",
            "  Would remove:\n",
            "    /usr/local/lib/python3.10/dist-packages/keras-3.4.1.dist-info/*\n",
            "    /usr/local/lib/python3.10/dist-packages/keras/*\n",
            "Proceed (Y/n)? y\n",
            "  Successfully uninstalled keras-3.4.1\n"
          ]
        }
      ]
    },
    {
      "cell_type": "code",
      "source": [
        "!pip list"
      ],
      "metadata": {
        "id": "OWf2TV2pSD-T"
      },
      "execution_count": null,
      "outputs": []
    },
    {
      "cell_type": "code",
      "source": [
        "cd /content/tensorflow/models/research"
      ],
      "metadata": {
        "colab": {
          "base_uri": "https://localhost:8080/"
        },
        "id": "30TlS8VOUVyu",
        "outputId": "f304d32e-2bd0-4779-d573-e89175f6e1a1"
      },
      "execution_count": 16,
      "outputs": [
        {
          "output_type": "stream",
          "name": "stdout",
          "text": [
            "/content/tensorflow/models/research\n"
          ]
        }
      ]
    },
    {
      "cell_type": "code",
      "source": [
        "pip install tensorflow[and-cuda]==2.14.0"
      ],
      "metadata": {
        "colab": {
          "base_uri": "https://localhost:8080/"
        },
        "id": "M-A6-0ZMzr30",
        "outputId": "82b4a71d-23be-49f3-e502-186c093ce47e"
      },
      "execution_count": 1,
      "outputs": [
        {
          "output_type": "stream",
          "name": "stdout",
          "text": [
            "Requirement already satisfied: tensorflow==2.14.0 in /usr/local/lib/python3.10/dist-packages (from tensorflow[and-cuda]==2.14.0) (2.14.0)\n",
            "Requirement already satisfied: absl-py>=1.0.0 in /usr/local/lib/python3.10/dist-packages (from tensorflow==2.14.0->tensorflow[and-cuda]==2.14.0) (1.4.0)\n",
            "Requirement already satisfied: astunparse>=1.6.0 in /usr/local/lib/python3.10/dist-packages (from tensorflow==2.14.0->tensorflow[and-cuda]==2.14.0) (1.6.3)\n",
            "Requirement already satisfied: flatbuffers>=23.5.26 in /usr/local/lib/python3.10/dist-packages (from tensorflow==2.14.0->tensorflow[and-cuda]==2.14.0) (24.3.25)\n",
            "Requirement already satisfied: gast!=0.5.0,!=0.5.1,!=0.5.2,>=0.2.1 in /usr/local/lib/python3.10/dist-packages (from tensorflow==2.14.0->tensorflow[and-cuda]==2.14.0) (0.4.0)\n",
            "Requirement already satisfied: google-pasta>=0.1.1 in /usr/local/lib/python3.10/dist-packages (from tensorflow==2.14.0->tensorflow[and-cuda]==2.14.0) (0.2.0)\n",
            "Requirement already satisfied: h5py>=2.9.0 in /usr/local/lib/python3.10/dist-packages (from tensorflow==2.14.0->tensorflow[and-cuda]==2.14.0) (3.11.0)\n",
            "Requirement already satisfied: libclang>=13.0.0 in /usr/local/lib/python3.10/dist-packages (from tensorflow==2.14.0->tensorflow[and-cuda]==2.14.0) (18.1.1)\n",
            "Requirement already satisfied: ml-dtypes==0.2.0 in /usr/local/lib/python3.10/dist-packages (from tensorflow==2.14.0->tensorflow[and-cuda]==2.14.0) (0.2.0)\n",
            "Requirement already satisfied: numpy>=1.23.5 in /usr/local/lib/python3.10/dist-packages (from tensorflow==2.14.0->tensorflow[and-cuda]==2.14.0) (1.24.3)\n",
            "Requirement already satisfied: opt-einsum>=2.3.2 in /usr/local/lib/python3.10/dist-packages (from tensorflow==2.14.0->tensorflow[and-cuda]==2.14.0) (3.3.0)\n",
            "Requirement already satisfied: packaging in /usr/local/lib/python3.10/dist-packages (from tensorflow==2.14.0->tensorflow[and-cuda]==2.14.0) (24.1)\n",
            "Requirement already satisfied: protobuf!=4.21.0,!=4.21.1,!=4.21.2,!=4.21.3,!=4.21.4,!=4.21.5,<5.0.0dev,>=3.20.3 in /usr/local/lib/python3.10/dist-packages (from tensorflow==2.14.0->tensorflow[and-cuda]==2.14.0) (3.20.3)\n",
            "Requirement already satisfied: setuptools in /usr/local/lib/python3.10/dist-packages (from tensorflow==2.14.0->tensorflow[and-cuda]==2.14.0) (71.0.4)\n",
            "Requirement already satisfied: six>=1.12.0 in /usr/local/lib/python3.10/dist-packages (from tensorflow==2.14.0->tensorflow[and-cuda]==2.14.0) (1.16.0)\n",
            "Requirement already satisfied: termcolor>=1.1.0 in /usr/local/lib/python3.10/dist-packages (from tensorflow==2.14.0->tensorflow[and-cuda]==2.14.0) (2.4.0)\n",
            "Requirement already satisfied: typing-extensions>=3.6.6 in /usr/local/lib/python3.10/dist-packages (from tensorflow==2.14.0->tensorflow[and-cuda]==2.14.0) (4.5.0)\n",
            "Requirement already satisfied: wrapt<1.15,>=1.11.0 in /usr/local/lib/python3.10/dist-packages (from tensorflow==2.14.0->tensorflow[and-cuda]==2.14.0) (1.14.1)\n",
            "Requirement already satisfied: tensorflow-io-gcs-filesystem>=0.23.1 in /usr/local/lib/python3.10/dist-packages (from tensorflow==2.14.0->tensorflow[and-cuda]==2.14.0) (0.37.1)\n",
            "Requirement already satisfied: grpcio<2.0,>=1.24.3 in /usr/local/lib/python3.10/dist-packages (from tensorflow==2.14.0->tensorflow[and-cuda]==2.14.0) (1.64.1)\n",
            "Requirement already satisfied: tensorboard<2.15,>=2.14 in /usr/local/lib/python3.10/dist-packages (from tensorflow==2.14.0->tensorflow[and-cuda]==2.14.0) (2.14.1)\n",
            "Requirement already satisfied: tensorflow-estimator<2.15,>=2.14.0 in /usr/local/lib/python3.10/dist-packages (from tensorflow==2.14.0->tensorflow[and-cuda]==2.14.0) (2.14.0)\n",
            "Requirement already satisfied: keras<2.15,>=2.14.0 in /usr/local/lib/python3.10/dist-packages (from tensorflow==2.14.0->tensorflow[and-cuda]==2.14.0) (2.14.0)\n",
            "Requirement already satisfied: nvidia-cuda-runtime-cu11==11.8.89 in /usr/local/lib/python3.10/dist-packages (from tensorflow[and-cuda]==2.14.0) (11.8.89)\n",
            "Requirement already satisfied: nvidia-cublas-cu11==11.11.3.6 in /usr/local/lib/python3.10/dist-packages (from tensorflow[and-cuda]==2.14.0) (11.11.3.6)\n",
            "Requirement already satisfied: nvidia-cufft-cu11==10.9.0.58 in /usr/local/lib/python3.10/dist-packages (from tensorflow[and-cuda]==2.14.0) (10.9.0.58)\n",
            "Requirement already satisfied: nvidia-cudnn-cu11==8.7.0.84 in /usr/local/lib/python3.10/dist-packages (from tensorflow[and-cuda]==2.14.0) (8.7.0.84)\n",
            "Requirement already satisfied: nvidia-curand-cu11==10.3.0.86 in /usr/local/lib/python3.10/dist-packages (from tensorflow[and-cuda]==2.14.0) (10.3.0.86)\n",
            "Requirement already satisfied: nvidia-cusolver-cu11==11.4.1.48 in /usr/local/lib/python3.10/dist-packages (from tensorflow[and-cuda]==2.14.0) (11.4.1.48)\n",
            "Requirement already satisfied: nvidia-cusparse-cu11==11.7.5.86 in /usr/local/lib/python3.10/dist-packages (from tensorflow[and-cuda]==2.14.0) (11.7.5.86)\n",
            "Requirement already satisfied: nvidia-nccl-cu11==2.16.5 in /usr/local/lib/python3.10/dist-packages (from tensorflow[and-cuda]==2.14.0) (2.16.5)\n",
            "Requirement already satisfied: nvidia-cuda-cupti-cu11==11.8.87 in /usr/local/lib/python3.10/dist-packages (from tensorflow[and-cuda]==2.14.0) (11.8.87)\n",
            "Requirement already satisfied: nvidia-cuda-nvcc-cu11==11.8.89 in /usr/local/lib/python3.10/dist-packages (from tensorflow[and-cuda]==2.14.0) (11.8.89)\n",
            "Requirement already satisfied: tensorrt==8.5.3.1 in /usr/local/lib/python3.10/dist-packages (from tensorflow[and-cuda]==2.14.0) (8.5.3.1)\n",
            "Requirement already satisfied: wheel<1.0,>=0.23.0 in /usr/local/lib/python3.10/dist-packages (from astunparse>=1.6.0->tensorflow==2.14.0->tensorflow[and-cuda]==2.14.0) (0.43.0)\n",
            "Requirement already satisfied: google-auth<3,>=1.6.3 in /usr/local/lib/python3.10/dist-packages (from tensorboard<2.15,>=2.14->tensorflow==2.14.0->tensorflow[and-cuda]==2.14.0) (2.27.0)\n",
            "Requirement already satisfied: google-auth-oauthlib<1.1,>=0.5 in /usr/local/lib/python3.10/dist-packages (from tensorboard<2.15,>=2.14->tensorflow==2.14.0->tensorflow[and-cuda]==2.14.0) (1.0.0)\n",
            "Requirement already satisfied: markdown>=2.6.8 in /usr/local/lib/python3.10/dist-packages (from tensorboard<2.15,>=2.14->tensorflow==2.14.0->tensorflow[and-cuda]==2.14.0) (3.6)\n",
            "Requirement already satisfied: requests<3,>=2.21.0 in /usr/local/lib/python3.10/dist-packages (from tensorboard<2.15,>=2.14->tensorflow==2.14.0->tensorflow[and-cuda]==2.14.0) (2.31.0)\n",
            "Requirement already satisfied: tensorboard-data-server<0.8.0,>=0.7.0 in /usr/local/lib/python3.10/dist-packages (from tensorboard<2.15,>=2.14->tensorflow==2.14.0->tensorflow[and-cuda]==2.14.0) (0.7.2)\n",
            "Requirement already satisfied: werkzeug>=1.0.1 in /usr/local/lib/python3.10/dist-packages (from tensorboard<2.15,>=2.14->tensorflow==2.14.0->tensorflow[and-cuda]==2.14.0) (3.0.3)\n",
            "Requirement already satisfied: cachetools<6.0,>=2.0.0 in /usr/local/lib/python3.10/dist-packages (from google-auth<3,>=1.6.3->tensorboard<2.15,>=2.14->tensorflow==2.14.0->tensorflow[and-cuda]==2.14.0) (5.4.0)\n",
            "Requirement already satisfied: pyasn1-modules>=0.2.1 in /usr/local/lib/python3.10/dist-packages (from google-auth<3,>=1.6.3->tensorboard<2.15,>=2.14->tensorflow==2.14.0->tensorflow[and-cuda]==2.14.0) (0.4.0)\n",
            "Requirement already satisfied: rsa<5,>=3.1.4 in /usr/local/lib/python3.10/dist-packages (from google-auth<3,>=1.6.3->tensorboard<2.15,>=2.14->tensorflow==2.14.0->tensorflow[and-cuda]==2.14.0) (4.9)\n",
            "Requirement already satisfied: requests-oauthlib>=0.7.0 in /usr/local/lib/python3.10/dist-packages (from google-auth-oauthlib<1.1,>=0.5->tensorboard<2.15,>=2.14->tensorflow==2.14.0->tensorflow[and-cuda]==2.14.0) (1.3.1)\n",
            "Requirement already satisfied: charset-normalizer<4,>=2 in /usr/local/lib/python3.10/dist-packages (from requests<3,>=2.21.0->tensorboard<2.15,>=2.14->tensorflow==2.14.0->tensorflow[and-cuda]==2.14.0) (3.3.2)\n",
            "Requirement already satisfied: idna<4,>=2.5 in /usr/local/lib/python3.10/dist-packages (from requests<3,>=2.21.0->tensorboard<2.15,>=2.14->tensorflow==2.14.0->tensorflow[and-cuda]==2.14.0) (3.7)\n",
            "Requirement already satisfied: urllib3<3,>=1.21.1 in /usr/local/lib/python3.10/dist-packages (from requests<3,>=2.21.0->tensorboard<2.15,>=2.14->tensorflow==2.14.0->tensorflow[and-cuda]==2.14.0) (2.0.7)\n",
            "Requirement already satisfied: certifi>=2017.4.17 in /usr/local/lib/python3.10/dist-packages (from requests<3,>=2.21.0->tensorboard<2.15,>=2.14->tensorflow==2.14.0->tensorflow[and-cuda]==2.14.0) (2024.7.4)\n",
            "Requirement already satisfied: MarkupSafe>=2.1.1 in /usr/local/lib/python3.10/dist-packages (from werkzeug>=1.0.1->tensorboard<2.15,>=2.14->tensorflow==2.14.0->tensorflow[and-cuda]==2.14.0) (2.1.5)\n",
            "Requirement already satisfied: pyasn1<0.7.0,>=0.4.6 in /usr/local/lib/python3.10/dist-packages (from pyasn1-modules>=0.2.1->google-auth<3,>=1.6.3->tensorboard<2.15,>=2.14->tensorflow==2.14.0->tensorflow[and-cuda]==2.14.0) (0.6.0)\n",
            "Requirement already satisfied: oauthlib>=3.0.0 in /usr/local/lib/python3.10/dist-packages (from requests-oauthlib>=0.7.0->google-auth-oauthlib<1.1,>=0.5->tensorboard<2.15,>=2.14->tensorflow==2.14.0->tensorflow[and-cuda]==2.14.0) (3.2.2)\n"
          ]
        }
      ]
    },
    {
      "cell_type": "code",
      "source": [
        "!pip show tensorflow"
      ],
      "metadata": {
        "colab": {
          "base_uri": "https://localhost:8080/"
        },
        "id": "SfwKVtjTglMm",
        "outputId": "8f792c9b-5201-42e6-9569-858b7a91b589"
      },
      "execution_count": null,
      "outputs": [
        {
          "output_type": "stream",
          "name": "stdout",
          "text": [
            "Name: tensorflow\n",
            "Version: 2.17.0\n",
            "Summary: TensorFlow is an open source machine learning framework for everyone.\n",
            "Home-page: https://www.tensorflow.org/\n",
            "Author: Google Inc.\n",
            "Author-email: packages@tensorflow.org\n",
            "License: Apache 2.0\n",
            "Location: /usr/local/lib/python3.10/dist-packages\n",
            "Requires: absl-py, astunparse, flatbuffers, gast, google-pasta, grpcio, h5py, keras, libclang, ml-dtypes, numpy, opt-einsum, packaging, protobuf, requests, setuptools, six, tensorboard, tensorflow-io-gcs-filesystem, termcolor, typing-extensions, wrapt\n",
            "Required-by: dopamine_rl, tensorflow-text, tf-models-official, tf_keras\n"
          ]
        }
      ]
    },
    {
      "cell_type": "code",
      "source": [
        "import tensorflow as tf\n",
        "print(tf.config.list_physical_devices('GPU'))\n",
        "print(tf.test.is_gpu_available())"
      ],
      "metadata": {
        "colab": {
          "base_uri": "https://localhost:8080/"
        },
        "id": "WhhT2Tzrequw",
        "outputId": "2fc013e0-9079-4a05-a747-ad72083899b7"
      },
      "execution_count": 2,
      "outputs": [
        {
          "output_type": "stream",
          "name": "stderr",
          "text": [
            "WARNING:tensorflow:From <ipython-input-2-ba9ec66d2cc2>:3: is_gpu_available (from tensorflow.python.framework.test_util) is deprecated and will be removed in a future version.\n",
            "Instructions for updating:\n",
            "Use `tf.config.list_physical_devices('GPU')` instead.\n"
          ]
        },
        {
          "output_type": "stream",
          "name": "stdout",
          "text": [
            "[PhysicalDevice(name='/physical_device:GPU:0', device_type='GPU')]\n",
            "True\n"
          ]
        }
      ]
    },
    {
      "cell_type": "code",
      "source": [
        "!nvidia-smi"
      ],
      "metadata": {
        "colab": {
          "base_uri": "https://localhost:8080/"
        },
        "id": "LjztZjgRetx4",
        "outputId": "b8892e2f-41b3-4b5d-b37e-4d52e133611a"
      },
      "execution_count": 19,
      "outputs": [
        {
          "output_type": "stream",
          "name": "stdout",
          "text": [
            "Wed Aug  7 05:31:16 2024       \n",
            "+---------------------------------------------------------------------------------------+\n",
            "| NVIDIA-SMI 535.104.05             Driver Version: 535.104.05   CUDA Version: 12.2     |\n",
            "|-----------------------------------------+----------------------+----------------------+\n",
            "| GPU  Name                 Persistence-M | Bus-Id        Disp.A | Volatile Uncorr. ECC |\n",
            "| Fan  Temp   Perf          Pwr:Usage/Cap |         Memory-Usage | GPU-Util  Compute M. |\n",
            "|                                         |                      |               MIG M. |\n",
            "|=========================================+======================+======================|\n",
            "|   0  Tesla T4                       Off | 00000000:00:04.0 Off |                    0 |\n",
            "| N/A   51C    P0              27W /  70W |    103MiB / 15360MiB |      0%      Default |\n",
            "|                                         |                      |                  N/A |\n",
            "+-----------------------------------------+----------------------+----------------------+\n",
            "                                                                                         \n",
            "+---------------------------------------------------------------------------------------+\n",
            "| Processes:                                                                            |\n",
            "|  GPU   GI   CI        PID   Type   Process name                            GPU Memory |\n",
            "|        ID   ID                                                             Usage      |\n",
            "|=======================================================================================|\n",
            "+---------------------------------------------------------------------------------------+\n"
          ]
        }
      ]
    },
    {
      "cell_type": "code",
      "source": [
        "!pip show keras"
      ],
      "metadata": {
        "colab": {
          "base_uri": "https://localhost:8080/"
        },
        "id": "hNa6j23Cfbuj",
        "outputId": "cdd3ec25-e208-4a04-b983-c8ee5a193b2b"
      },
      "execution_count": null,
      "outputs": [
        {
          "output_type": "stream",
          "name": "stdout",
          "text": [
            "Name: keras\n",
            "Version: 3.4.1\n",
            "Summary: Multi-backend Keras.\n",
            "Home-page: https://github.com/keras-team/keras\n",
            "Author: Keras team\n",
            "Author-email: keras-users@googlegroups.com\n",
            "License: Apache License 2.0\n",
            "Location: /usr/local/lib/python3.10/dist-packages\n",
            "Requires: absl-py, h5py, ml-dtypes, namex, numpy, optree, packaging, rich\n",
            "Required-by: object_detection, tensorflow\n"
          ]
        }
      ]
    },
    {
      "cell_type": "code",
      "source": [
        "pip uninstall keras"
      ],
      "metadata": {
        "colab": {
          "base_uri": "https://localhost:8080/"
        },
        "id": "UYWI8Ff4fe9y",
        "outputId": "d353bbf1-7066-4494-f5df-697d3b39c9a0"
      },
      "execution_count": null,
      "outputs": [
        {
          "output_type": "stream",
          "name": "stdout",
          "text": [
            "Found existing installation: keras 3.4.1\n",
            "Uninstalling keras-3.4.1:\n",
            "  Would remove:\n",
            "    /usr/local/lib/python3.10/dist-packages/keras-3.4.1.dist-info/*\n",
            "    /usr/local/lib/python3.10/dist-packages/keras/*\n",
            "Proceed (Y/n)? y\n",
            "  Successfully uninstalled keras-3.4.1\n"
          ]
        }
      ]
    },
    {
      "cell_type": "code",
      "source": [
        "pwd"
      ],
      "metadata": {
        "colab": {
          "base_uri": "https://localhost:8080/",
          "height": 36
        },
        "id": "2wrLLO1WgKpd",
        "outputId": "3533b32c-d3e3-4fd9-8420-43eb92b60e2e"
      },
      "execution_count": null,
      "outputs": [
        {
          "output_type": "execute_result",
          "data": {
            "text/plain": [
              "'/content'"
            ],
            "application/vnd.google.colaboratory.intrinsic+json": {
              "type": "string"
            }
          },
          "metadata": {},
          "execution_count": 5
        }
      ]
    },
    {
      "cell_type": "code",
      "source": [
        "cd tensorflow/models/research"
      ],
      "metadata": {
        "colab": {
          "base_uri": "https://localhost:8080/"
        },
        "id": "Rpv4YQgwgSUg",
        "outputId": "4770fb1d-c045-4ae2-a577-bdab7db4b416"
      },
      "execution_count": 3,
      "outputs": [
        {
          "output_type": "stream",
          "name": "stdout",
          "text": [
            "/content/tensorflow/models/research\n"
          ]
        }
      ]
    },
    {
      "cell_type": "code",
      "source": [
        "import tensorflow as tf\n",
        "\n",
        "# Check if TensorFlow is using GPU\n",
        "print(\"Num GPUs Available: \", len(tf.config.list_physical_devices('GPU')))\n"
      ],
      "metadata": {
        "colab": {
          "base_uri": "https://localhost:8080/"
        },
        "id": "Z5pbKVqZmPkh",
        "outputId": "78bb280e-f3dc-432d-8150-f5d5cc4db474"
      },
      "execution_count": 20,
      "outputs": [
        {
          "output_type": "stream",
          "name": "stdout",
          "text": [
            "Num GPUs Available:  1\n"
          ]
        }
      ]
    },
    {
      "cell_type": "code",
      "source": [
        "import tensorflow as tf\n",
        "\n",
        "# List all physical devices of type GPU\n",
        "gpus = tf.config.list_physical_devices('GPU')\n",
        "\n",
        "if gpus:\n",
        "    for gpu in gpus:\n",
        "        print(\"GPU Device Name: \", gpu.name)\n",
        "else:\n",
        "    print(\"No GPU devices found.\")\n"
      ],
      "metadata": {
        "colab": {
          "base_uri": "https://localhost:8080/"
        },
        "id": "275AyOrpmcQN",
        "outputId": "117f9b82-c0a5-4201-8378-82e4f6eb1730"
      },
      "execution_count": null,
      "outputs": [
        {
          "output_type": "stream",
          "name": "stdout",
          "text": [
            "GPU Device Name:  /physical_device:GPU:0\n"
          ]
        }
      ]
    },
    {
      "cell_type": "code",
      "source": [
        "!nvidia-smi\n"
      ],
      "metadata": {
        "colab": {
          "base_uri": "https://localhost:8080/"
        },
        "id": "0L-J1vUumkLe",
        "outputId": "126887e9-188a-4ae2-d50a-750a10a39a45"
      },
      "execution_count": null,
      "outputs": [
        {
          "output_type": "stream",
          "name": "stdout",
          "text": [
            "Tue Aug  6 12:11:56 2024       \n",
            "+---------------------------------------------------------------------------------------+\n",
            "| NVIDIA-SMI 535.104.05             Driver Version: 535.104.05   CUDA Version: 12.2     |\n",
            "|-----------------------------------------+----------------------+----------------------+\n",
            "| GPU  Name                 Persistence-M | Bus-Id        Disp.A | Volatile Uncorr. ECC |\n",
            "| Fan  Temp   Perf          Pwr:Usage/Cap |         Memory-Usage | GPU-Util  Compute M. |\n",
            "|                                         |                      |               MIG M. |\n",
            "|=========================================+======================+======================|\n",
            "|   0  Tesla T4                       Off | 00000000:00:04.0 Off |                    0 |\n",
            "| N/A   77C    P0              34W /  70W |    103MiB / 15360MiB |      0%      Default |\n",
            "|                                         |                      |                  N/A |\n",
            "+-----------------------------------------+----------------------+----------------------+\n",
            "                                                                                         \n",
            "+---------------------------------------------------------------------------------------+\n",
            "| Processes:                                                                            |\n",
            "|  GPU   GI   CI        PID   Type   Process name                            GPU Memory |\n",
            "|        ID   ID                                                             Usage      |\n",
            "|=======================================================================================|\n",
            "+---------------------------------------------------------------------------------------+\n"
          ]
        }
      ]
    },
    {
      "cell_type": "code",
      "source": [
        "!python object_detection/builders/model_builder_tf2_test.py"
      ],
      "metadata": {
        "colab": {
          "base_uri": "https://localhost:8080/"
        },
        "id": "jRxQKJaMQ3dL",
        "outputId": "72bcf64d-b9f9-4a4f-a9db-13545c86ffc4"
      },
      "execution_count": 4,
      "outputs": [
        {
          "output_type": "stream",
          "name": "stdout",
          "text": [
            "2024-08-07 06:03:14.119705: E tensorflow/compiler/xla/stream_executor/cuda/cuda_dnn.cc:9342] Unable to register cuDNN factory: Attempting to register factory for plugin cuDNN when one has already been registered\n",
            "2024-08-07 06:03:14.119756: E tensorflow/compiler/xla/stream_executor/cuda/cuda_fft.cc:609] Unable to register cuFFT factory: Attempting to register factory for plugin cuFFT when one has already been registered\n",
            "2024-08-07 06:03:14.119800: E tensorflow/compiler/xla/stream_executor/cuda/cuda_blas.cc:1518] Unable to register cuBLAS factory: Attempting to register factory for plugin cuBLAS when one has already been registered\n",
            "Running tests under Python 3.10.12: /usr/bin/python3\n",
            "[ RUN      ] ModelBuilderTF2Test.test_create_center_net_deepmac\n",
            "2024-08-07 06:03:19.192476: W tensorflow/core/common_runtime/gpu/gpu_bfc_allocator.cc:47] Overriding orig_value setting because the TF_FORCE_GPU_ALLOW_GROWTH environment variable is set. Original config value was 0.\n",
            "WARNING:tensorflow:`tf.keras.layers.experimental.SyncBatchNormalization` endpoint is deprecated and will be removed in a future release. Please use `tf.keras.layers.BatchNormalization` with parameter `synchronized` set to True.\n",
            "W0807 06:03:19.236097 132243008729088 batch_normalization.py:1531] `tf.keras.layers.experimental.SyncBatchNormalization` endpoint is deprecated and will be removed in a future release. Please use `tf.keras.layers.BatchNormalization` with parameter `synchronized` set to True.\n",
            "W0807 06:03:19.893176 132243008729088 model_builder.py:1112] Building experimental DeepMAC meta-arch. Some features may be omitted.\n",
            "INFO:tensorflow:time(__main__.ModelBuilderTF2Test.test_create_center_net_deepmac): 1.42s\n",
            "I0807 06:03:20.408172 132243008729088 test_util.py:2472] time(__main__.ModelBuilderTF2Test.test_create_center_net_deepmac): 1.42s\n",
            "[       OK ] ModelBuilderTF2Test.test_create_center_net_deepmac\n",
            "[ RUN      ] ModelBuilderTF2Test.test_create_center_net_model0 (customize_head_params=True)\n",
            "INFO:tensorflow:time(__main__.ModelBuilderTF2Test.test_create_center_net_model0 (customize_head_params=True)): 0.82s\n",
            "I0807 06:03:21.225914 132243008729088 test_util.py:2472] time(__main__.ModelBuilderTF2Test.test_create_center_net_model0 (customize_head_params=True)): 0.82s\n",
            "[       OK ] ModelBuilderTF2Test.test_create_center_net_model0 (customize_head_params=True)\n",
            "[ RUN      ] ModelBuilderTF2Test.test_create_center_net_model1 (customize_head_params=False)\n",
            "INFO:tensorflow:time(__main__.ModelBuilderTF2Test.test_create_center_net_model1 (customize_head_params=False)): 0.55s\n",
            "I0807 06:03:21.778316 132243008729088 test_util.py:2472] time(__main__.ModelBuilderTF2Test.test_create_center_net_model1 (customize_head_params=False)): 0.55s\n",
            "[       OK ] ModelBuilderTF2Test.test_create_center_net_model1 (customize_head_params=False)\n",
            "[ RUN      ] ModelBuilderTF2Test.test_create_center_net_model_from_keypoints\n",
            "INFO:tensorflow:time(__main__.ModelBuilderTF2Test.test_create_center_net_model_from_keypoints): 0.31s\n",
            "I0807 06:03:22.086174 132243008729088 test_util.py:2472] time(__main__.ModelBuilderTF2Test.test_create_center_net_model_from_keypoints): 0.31s\n",
            "[       OK ] ModelBuilderTF2Test.test_create_center_net_model_from_keypoints\n",
            "[ RUN      ] ModelBuilderTF2Test.test_create_center_net_model_mobilenet\n",
            "INFO:tensorflow:time(__main__.ModelBuilderTF2Test.test_create_center_net_model_mobilenet): 2.11s\n",
            "I0807 06:03:24.194224 132243008729088 test_util.py:2472] time(__main__.ModelBuilderTF2Test.test_create_center_net_model_mobilenet): 2.11s\n",
            "[       OK ] ModelBuilderTF2Test.test_create_center_net_model_mobilenet\n",
            "[ RUN      ] ModelBuilderTF2Test.test_create_experimental_model\n",
            "INFO:tensorflow:time(__main__.ModelBuilderTF2Test.test_create_experimental_model): 0.0s\n",
            "I0807 06:03:24.202028 132243008729088 test_util.py:2472] time(__main__.ModelBuilderTF2Test.test_create_experimental_model): 0.0s\n",
            "[       OK ] ModelBuilderTF2Test.test_create_experimental_model\n",
            "[ RUN      ] ModelBuilderTF2Test.test_create_faster_rcnn_from_config_with_crop_feature0 (True)\n",
            "INFO:tensorflow:time(__main__.ModelBuilderTF2Test.test_create_faster_rcnn_from_config_with_crop_feature0 (True)): 0.03s\n",
            "I0807 06:03:24.230966 132243008729088 test_util.py:2472] time(__main__.ModelBuilderTF2Test.test_create_faster_rcnn_from_config_with_crop_feature0 (True)): 0.03s\n",
            "[       OK ] ModelBuilderTF2Test.test_create_faster_rcnn_from_config_with_crop_feature0 (True)\n",
            "[ RUN      ] ModelBuilderTF2Test.test_create_faster_rcnn_from_config_with_crop_feature1 (False)\n",
            "INFO:tensorflow:time(__main__.ModelBuilderTF2Test.test_create_faster_rcnn_from_config_with_crop_feature1 (False)): 0.02s\n",
            "I0807 06:03:24.248997 132243008729088 test_util.py:2472] time(__main__.ModelBuilderTF2Test.test_create_faster_rcnn_from_config_with_crop_feature1 (False)): 0.02s\n",
            "[       OK ] ModelBuilderTF2Test.test_create_faster_rcnn_from_config_with_crop_feature1 (False)\n",
            "[ RUN      ] ModelBuilderTF2Test.test_create_faster_rcnn_model_from_config_with_example_miner\n",
            "INFO:tensorflow:time(__main__.ModelBuilderTF2Test.test_create_faster_rcnn_model_from_config_with_example_miner): 0.02s\n",
            "I0807 06:03:24.267874 132243008729088 test_util.py:2472] time(__main__.ModelBuilderTF2Test.test_create_faster_rcnn_model_from_config_with_example_miner): 0.02s\n",
            "[       OK ] ModelBuilderTF2Test.test_create_faster_rcnn_model_from_config_with_example_miner\n",
            "[ RUN      ] ModelBuilderTF2Test.test_create_faster_rcnn_models_from_config_faster_rcnn_with_matmul\n",
            "INFO:tensorflow:time(__main__.ModelBuilderTF2Test.test_create_faster_rcnn_models_from_config_faster_rcnn_with_matmul): 0.11s\n",
            "I0807 06:03:24.378183 132243008729088 test_util.py:2472] time(__main__.ModelBuilderTF2Test.test_create_faster_rcnn_models_from_config_faster_rcnn_with_matmul): 0.11s\n",
            "[       OK ] ModelBuilderTF2Test.test_create_faster_rcnn_models_from_config_faster_rcnn_with_matmul\n",
            "[ RUN      ] ModelBuilderTF2Test.test_create_faster_rcnn_models_from_config_faster_rcnn_without_matmul\n",
            "INFO:tensorflow:time(__main__.ModelBuilderTF2Test.test_create_faster_rcnn_models_from_config_faster_rcnn_without_matmul): 0.11s\n",
            "I0807 06:03:24.488761 132243008729088 test_util.py:2472] time(__main__.ModelBuilderTF2Test.test_create_faster_rcnn_models_from_config_faster_rcnn_without_matmul): 0.11s\n",
            "[       OK ] ModelBuilderTF2Test.test_create_faster_rcnn_models_from_config_faster_rcnn_without_matmul\n",
            "[ RUN      ] ModelBuilderTF2Test.test_create_faster_rcnn_models_from_config_mask_rcnn_with_matmul\n",
            "INFO:tensorflow:time(__main__.ModelBuilderTF2Test.test_create_faster_rcnn_models_from_config_mask_rcnn_with_matmul): 0.12s\n",
            "I0807 06:03:24.607002 132243008729088 test_util.py:2472] time(__main__.ModelBuilderTF2Test.test_create_faster_rcnn_models_from_config_mask_rcnn_with_matmul): 0.12s\n",
            "[       OK ] ModelBuilderTF2Test.test_create_faster_rcnn_models_from_config_mask_rcnn_with_matmul\n",
            "[ RUN      ] ModelBuilderTF2Test.test_create_faster_rcnn_models_from_config_mask_rcnn_without_matmul\n",
            "INFO:tensorflow:time(__main__.ModelBuilderTF2Test.test_create_faster_rcnn_models_from_config_mask_rcnn_without_matmul): 0.11s\n",
            "I0807 06:03:24.717637 132243008729088 test_util.py:2472] time(__main__.ModelBuilderTF2Test.test_create_faster_rcnn_models_from_config_mask_rcnn_without_matmul): 0.11s\n",
            "[       OK ] ModelBuilderTF2Test.test_create_faster_rcnn_models_from_config_mask_rcnn_without_matmul\n",
            "[ RUN      ] ModelBuilderTF2Test.test_create_rfcn_model_from_config\n",
            "INFO:tensorflow:time(__main__.ModelBuilderTF2Test.test_create_rfcn_model_from_config): 0.11s\n",
            "I0807 06:03:24.829320 132243008729088 test_util.py:2472] time(__main__.ModelBuilderTF2Test.test_create_rfcn_model_from_config): 0.11s\n",
            "[       OK ] ModelBuilderTF2Test.test_create_rfcn_model_from_config\n",
            "[ RUN      ] ModelBuilderTF2Test.test_create_ssd_fpn_model_from_config\n",
            "INFO:tensorflow:time(__main__.ModelBuilderTF2Test.test_create_ssd_fpn_model_from_config): 0.03s\n",
            "I0807 06:03:24.862387 132243008729088 test_util.py:2472] time(__main__.ModelBuilderTF2Test.test_create_ssd_fpn_model_from_config): 0.03s\n",
            "[       OK ] ModelBuilderTF2Test.test_create_ssd_fpn_model_from_config\n",
            "[ RUN      ] ModelBuilderTF2Test.test_create_ssd_models_from_config\n",
            "I0807 06:03:25.074413 132243008729088 ssd_efficientnet_bifpn_feature_extractor.py:161] EfficientDet EfficientNet backbone version: efficientnet-b0\n",
            "I0807 06:03:25.074564 132243008729088 ssd_efficientnet_bifpn_feature_extractor.py:163] EfficientDet BiFPN num filters: 64\n",
            "I0807 06:03:25.074632 132243008729088 ssd_efficientnet_bifpn_feature_extractor.py:164] EfficientDet BiFPN num iterations: 3\n",
            "I0807 06:03:25.082894 132243008729088 efficientnet_model.py:143] round_filter input=32 output=32\n",
            "I0807 06:03:25.115187 132243008729088 efficientnet_model.py:143] round_filter input=32 output=32\n",
            "I0807 06:03:25.115313 132243008729088 efficientnet_model.py:143] round_filter input=16 output=16\n",
            "I0807 06:03:25.194436 132243008729088 efficientnet_model.py:143] round_filter input=16 output=16\n",
            "I0807 06:03:25.194558 132243008729088 efficientnet_model.py:143] round_filter input=24 output=24\n",
            "I0807 06:03:25.392383 132243008729088 efficientnet_model.py:143] round_filter input=24 output=24\n",
            "I0807 06:03:25.392524 132243008729088 efficientnet_model.py:143] round_filter input=40 output=40\n",
            "I0807 06:03:25.581974 132243008729088 efficientnet_model.py:143] round_filter input=40 output=40\n",
            "I0807 06:03:25.582127 132243008729088 efficientnet_model.py:143] round_filter input=80 output=80\n",
            "I0807 06:03:25.868557 132243008729088 efficientnet_model.py:143] round_filter input=80 output=80\n",
            "I0807 06:03:25.868718 132243008729088 efficientnet_model.py:143] round_filter input=112 output=112\n",
            "I0807 06:03:26.375055 132243008729088 efficientnet_model.py:143] round_filter input=112 output=112\n",
            "I0807 06:03:26.375243 132243008729088 efficientnet_model.py:143] round_filter input=192 output=192\n",
            "I0807 06:03:26.754101 132243008729088 efficientnet_model.py:143] round_filter input=192 output=192\n",
            "I0807 06:03:26.754272 132243008729088 efficientnet_model.py:143] round_filter input=320 output=320\n",
            "I0807 06:03:26.846131 132243008729088 efficientnet_model.py:143] round_filter input=1280 output=1280\n",
            "I0807 06:03:26.889049 132243008729088 efficientnet_model.py:453] Building model efficientnet with params ModelConfig(width_coefficient=1.0, depth_coefficient=1.0, resolution=224, dropout_rate=0.2, blocks=(BlockConfig(input_filters=32, output_filters=16, kernel_size=3, num_repeat=1, expand_ratio=1, strides=(1, 1), se_ratio=0.25, id_skip=True, fused_conv=False, conv_type='depthwise'), BlockConfig(input_filters=16, output_filters=24, kernel_size=3, num_repeat=2, expand_ratio=6, strides=(2, 2), se_ratio=0.25, id_skip=True, fused_conv=False, conv_type='depthwise'), BlockConfig(input_filters=24, output_filters=40, kernel_size=5, num_repeat=2, expand_ratio=6, strides=(2, 2), se_ratio=0.25, id_skip=True, fused_conv=False, conv_type='depthwise'), BlockConfig(input_filters=40, output_filters=80, kernel_size=3, num_repeat=3, expand_ratio=6, strides=(2, 2), se_ratio=0.25, id_skip=True, fused_conv=False, conv_type='depthwise'), BlockConfig(input_filters=80, output_filters=112, kernel_size=5, num_repeat=3, expand_ratio=6, strides=(1, 1), se_ratio=0.25, id_skip=True, fused_conv=False, conv_type='depthwise'), BlockConfig(input_filters=112, output_filters=192, kernel_size=5, num_repeat=4, expand_ratio=6, strides=(2, 2), se_ratio=0.25, id_skip=True, fused_conv=False, conv_type='depthwise'), BlockConfig(input_filters=192, output_filters=320, kernel_size=3, num_repeat=1, expand_ratio=6, strides=(1, 1), se_ratio=0.25, id_skip=True, fused_conv=False, conv_type='depthwise')), stem_base_filters=32, top_base_filters=1280, activation='simple_swish', batch_norm='default', bn_momentum=0.99, bn_epsilon=0.001, weight_decay=5e-06, drop_connect_rate=0.2, depth_divisor=8, min_depth=None, use_se=True, input_channels=3, num_classes=1000, model_name='efficientnet', rescale_input=False, data_format='channels_last', dtype='float32')\n",
            "I0807 06:03:26.945839 132243008729088 ssd_efficientnet_bifpn_feature_extractor.py:161] EfficientDet EfficientNet backbone version: efficientnet-b1\n",
            "I0807 06:03:26.946003 132243008729088 ssd_efficientnet_bifpn_feature_extractor.py:163] EfficientDet BiFPN num filters: 88\n",
            "I0807 06:03:26.946098 132243008729088 ssd_efficientnet_bifpn_feature_extractor.py:164] EfficientDet BiFPN num iterations: 4\n",
            "I0807 06:03:26.948576 132243008729088 efficientnet_model.py:143] round_filter input=32 output=32\n",
            "I0807 06:03:26.968233 132243008729088 efficientnet_model.py:143] round_filter input=32 output=32\n",
            "I0807 06:03:26.968348 132243008729088 efficientnet_model.py:143] round_filter input=16 output=16\n",
            "I0807 06:03:27.125278 132243008729088 efficientnet_model.py:143] round_filter input=16 output=16\n",
            "I0807 06:03:27.125438 132243008729088 efficientnet_model.py:143] round_filter input=24 output=24\n",
            "I0807 06:03:27.388736 132243008729088 efficientnet_model.py:143] round_filter input=24 output=24\n",
            "I0807 06:03:27.388908 132243008729088 efficientnet_model.py:143] round_filter input=40 output=40\n",
            "I0807 06:03:27.658826 132243008729088 efficientnet_model.py:143] round_filter input=40 output=40\n",
            "I0807 06:03:27.658992 132243008729088 efficientnet_model.py:143] round_filter input=80 output=80\n",
            "I0807 06:03:28.032821 132243008729088 efficientnet_model.py:143] round_filter input=80 output=80\n",
            "I0807 06:03:28.032988 132243008729088 efficientnet_model.py:143] round_filter input=112 output=112\n",
            "I0807 06:03:28.390806 132243008729088 efficientnet_model.py:143] round_filter input=112 output=112\n",
            "I0807 06:03:28.391050 132243008729088 efficientnet_model.py:143] round_filter input=192 output=192\n",
            "I0807 06:03:28.841452 132243008729088 efficientnet_model.py:143] round_filter input=192 output=192\n",
            "I0807 06:03:28.841618 132243008729088 efficientnet_model.py:143] round_filter input=320 output=320\n",
            "I0807 06:03:29.024713 132243008729088 efficientnet_model.py:143] round_filter input=1280 output=1280\n",
            "I0807 06:03:29.069156 132243008729088 efficientnet_model.py:453] Building model efficientnet with params ModelConfig(width_coefficient=1.0, depth_coefficient=1.1, resolution=240, dropout_rate=0.2, blocks=(BlockConfig(input_filters=32, output_filters=16, kernel_size=3, num_repeat=1, expand_ratio=1, strides=(1, 1), se_ratio=0.25, id_skip=True, fused_conv=False, conv_type='depthwise'), BlockConfig(input_filters=16, output_filters=24, kernel_size=3, num_repeat=2, expand_ratio=6, strides=(2, 2), se_ratio=0.25, id_skip=True, fused_conv=False, conv_type='depthwise'), BlockConfig(input_filters=24, output_filters=40, kernel_size=5, num_repeat=2, expand_ratio=6, strides=(2, 2), se_ratio=0.25, id_skip=True, fused_conv=False, conv_type='depthwise'), BlockConfig(input_filters=40, output_filters=80, kernel_size=3, num_repeat=3, expand_ratio=6, strides=(2, 2), se_ratio=0.25, id_skip=True, fused_conv=False, conv_type='depthwise'), BlockConfig(input_filters=80, output_filters=112, kernel_size=5, num_repeat=3, expand_ratio=6, strides=(1, 1), se_ratio=0.25, id_skip=True, fused_conv=False, conv_type='depthwise'), BlockConfig(input_filters=112, output_filters=192, kernel_size=5, num_repeat=4, expand_ratio=6, strides=(2, 2), se_ratio=0.25, id_skip=True, fused_conv=False, conv_type='depthwise'), BlockConfig(input_filters=192, output_filters=320, kernel_size=3, num_repeat=1, expand_ratio=6, strides=(1, 1), se_ratio=0.25, id_skip=True, fused_conv=False, conv_type='depthwise')), stem_base_filters=32, top_base_filters=1280, activation='simple_swish', batch_norm='default', bn_momentum=0.99, bn_epsilon=0.001, weight_decay=5e-06, drop_connect_rate=0.2, depth_divisor=8, min_depth=None, use_se=True, input_channels=3, num_classes=1000, model_name='efficientnet', rescale_input=False, data_format='channels_last', dtype='float32')\n",
            "I0807 06:03:29.136503 132243008729088 ssd_efficientnet_bifpn_feature_extractor.py:161] EfficientDet EfficientNet backbone version: efficientnet-b2\n",
            "I0807 06:03:29.136662 132243008729088 ssd_efficientnet_bifpn_feature_extractor.py:163] EfficientDet BiFPN num filters: 112\n",
            "I0807 06:03:29.136739 132243008729088 ssd_efficientnet_bifpn_feature_extractor.py:164] EfficientDet BiFPN num iterations: 5\n",
            "I0807 06:03:29.138660 132243008729088 efficientnet_model.py:143] round_filter input=32 output=32\n",
            "I0807 06:03:29.156665 132243008729088 efficientnet_model.py:143] round_filter input=32 output=32\n",
            "I0807 06:03:29.156772 132243008729088 efficientnet_model.py:143] round_filter input=16 output=16\n",
            "I0807 06:03:29.295196 132243008729088 efficientnet_model.py:143] round_filter input=16 output=16\n",
            "I0807 06:03:29.295310 132243008729088 efficientnet_model.py:143] round_filter input=24 output=24\n",
            "I0807 06:03:29.561790 132243008729088 efficientnet_model.py:143] round_filter input=24 output=24\n",
            "I0807 06:03:29.561971 132243008729088 efficientnet_model.py:143] round_filter input=40 output=48\n",
            "I0807 06:03:29.880614 132243008729088 efficientnet_model.py:143] round_filter input=40 output=48\n",
            "I0807 06:03:29.880777 132243008729088 efficientnet_model.py:143] round_filter input=80 output=88\n",
            "I0807 06:03:30.262370 132243008729088 efficientnet_model.py:143] round_filter input=80 output=88\n",
            "I0807 06:03:30.262535 132243008729088 efficientnet_model.py:143] round_filter input=112 output=120\n",
            "I0807 06:03:30.634688 132243008729088 efficientnet_model.py:143] round_filter input=112 output=120\n",
            "I0807 06:03:30.634856 132243008729088 efficientnet_model.py:143] round_filter input=192 output=208\n",
            "I0807 06:03:31.248001 132243008729088 efficientnet_model.py:143] round_filter input=192 output=208\n",
            "I0807 06:03:31.248220 132243008729088 efficientnet_model.py:143] round_filter input=320 output=352\n",
            "I0807 06:03:31.512961 132243008729088 efficientnet_model.py:143] round_filter input=1280 output=1408\n",
            "I0807 06:03:31.572316 132243008729088 efficientnet_model.py:453] Building model efficientnet with params ModelConfig(width_coefficient=1.1, depth_coefficient=1.2, resolution=260, dropout_rate=0.3, blocks=(BlockConfig(input_filters=32, output_filters=16, kernel_size=3, num_repeat=1, expand_ratio=1, strides=(1, 1), se_ratio=0.25, id_skip=True, fused_conv=False, conv_type='depthwise'), BlockConfig(input_filters=16, output_filters=24, kernel_size=3, num_repeat=2, expand_ratio=6, strides=(2, 2), se_ratio=0.25, id_skip=True, fused_conv=False, conv_type='depthwise'), BlockConfig(input_filters=24, output_filters=40, kernel_size=5, num_repeat=2, expand_ratio=6, strides=(2, 2), se_ratio=0.25, id_skip=True, fused_conv=False, conv_type='depthwise'), BlockConfig(input_filters=40, output_filters=80, kernel_size=3, num_repeat=3, expand_ratio=6, strides=(2, 2), se_ratio=0.25, id_skip=True, fused_conv=False, conv_type='depthwise'), BlockConfig(input_filters=80, output_filters=112, kernel_size=5, num_repeat=3, expand_ratio=6, strides=(1, 1), se_ratio=0.25, id_skip=True, fused_conv=False, conv_type='depthwise'), BlockConfig(input_filters=112, output_filters=192, kernel_size=5, num_repeat=4, expand_ratio=6, strides=(2, 2), se_ratio=0.25, id_skip=True, fused_conv=False, conv_type='depthwise'), BlockConfig(input_filters=192, output_filters=320, kernel_size=3, num_repeat=1, expand_ratio=6, strides=(1, 1), se_ratio=0.25, id_skip=True, fused_conv=False, conv_type='depthwise')), stem_base_filters=32, top_base_filters=1280, activation='simple_swish', batch_norm='default', bn_momentum=0.99, bn_epsilon=0.001, weight_decay=5e-06, drop_connect_rate=0.2, depth_divisor=8, min_depth=None, use_se=True, input_channels=3, num_classes=1000, model_name='efficientnet', rescale_input=False, data_format='channels_last', dtype='float32')\n",
            "I0807 06:03:31.680182 132243008729088 ssd_efficientnet_bifpn_feature_extractor.py:161] EfficientDet EfficientNet backbone version: efficientnet-b3\n",
            "I0807 06:03:31.680367 132243008729088 ssd_efficientnet_bifpn_feature_extractor.py:163] EfficientDet BiFPN num filters: 160\n",
            "I0807 06:03:31.680439 132243008729088 ssd_efficientnet_bifpn_feature_extractor.py:164] EfficientDet BiFPN num iterations: 6\n",
            "I0807 06:03:31.683400 132243008729088 efficientnet_model.py:143] round_filter input=32 output=40\n",
            "I0807 06:03:31.711591 132243008729088 efficientnet_model.py:143] round_filter input=32 output=40\n",
            "I0807 06:03:31.711734 132243008729088 efficientnet_model.py:143] round_filter input=16 output=24\n",
            "I0807 06:03:31.924184 132243008729088 efficientnet_model.py:143] round_filter input=16 output=24\n",
            "I0807 06:03:31.924369 132243008729088 efficientnet_model.py:143] round_filter input=24 output=32\n",
            "I0807 06:03:32.333065 132243008729088 efficientnet_model.py:143] round_filter input=24 output=32\n",
            "I0807 06:03:32.333295 132243008729088 efficientnet_model.py:143] round_filter input=40 output=48\n",
            "I0807 06:03:32.737764 132243008729088 efficientnet_model.py:143] round_filter input=40 output=48\n",
            "I0807 06:03:32.737958 132243008729088 efficientnet_model.py:143] round_filter input=80 output=96\n",
            "I0807 06:03:33.408313 132243008729088 efficientnet_model.py:143] round_filter input=80 output=96\n",
            "I0807 06:03:33.408528 132243008729088 efficientnet_model.py:143] round_filter input=112 output=136\n",
            "I0807 06:03:34.072372 132243008729088 efficientnet_model.py:143] round_filter input=112 output=136\n",
            "I0807 06:03:34.072579 132243008729088 efficientnet_model.py:143] round_filter input=192 output=232\n",
            "I0807 06:03:34.739974 132243008729088 efficientnet_model.py:143] round_filter input=192 output=232\n",
            "I0807 06:03:34.740174 132243008729088 efficientnet_model.py:143] round_filter input=320 output=384\n",
            "I0807 06:03:34.938392 132243008729088 efficientnet_model.py:143] round_filter input=1280 output=1536\n",
            "I0807 06:03:34.978710 132243008729088 efficientnet_model.py:453] Building model efficientnet with params ModelConfig(width_coefficient=1.2, depth_coefficient=1.4, resolution=300, dropout_rate=0.3, blocks=(BlockConfig(input_filters=32, output_filters=16, kernel_size=3, num_repeat=1, expand_ratio=1, strides=(1, 1), se_ratio=0.25, id_skip=True, fused_conv=False, conv_type='depthwise'), BlockConfig(input_filters=16, output_filters=24, kernel_size=3, num_repeat=2, expand_ratio=6, strides=(2, 2), se_ratio=0.25, id_skip=True, fused_conv=False, conv_type='depthwise'), BlockConfig(input_filters=24, output_filters=40, kernel_size=5, num_repeat=2, expand_ratio=6, strides=(2, 2), se_ratio=0.25, id_skip=True, fused_conv=False, conv_type='depthwise'), BlockConfig(input_filters=40, output_filters=80, kernel_size=3, num_repeat=3, expand_ratio=6, strides=(2, 2), se_ratio=0.25, id_skip=True, fused_conv=False, conv_type='depthwise'), BlockConfig(input_filters=80, output_filters=112, kernel_size=5, num_repeat=3, expand_ratio=6, strides=(1, 1), se_ratio=0.25, id_skip=True, fused_conv=False, conv_type='depthwise'), BlockConfig(input_filters=112, output_filters=192, kernel_size=5, num_repeat=4, expand_ratio=6, strides=(2, 2), se_ratio=0.25, id_skip=True, fused_conv=False, conv_type='depthwise'), BlockConfig(input_filters=192, output_filters=320, kernel_size=3, num_repeat=1, expand_ratio=6, strides=(1, 1), se_ratio=0.25, id_skip=True, fused_conv=False, conv_type='depthwise')), stem_base_filters=32, top_base_filters=1280, activation='simple_swish', batch_norm='default', bn_momentum=0.99, bn_epsilon=0.001, weight_decay=5e-06, drop_connect_rate=0.2, depth_divisor=8, min_depth=None, use_se=True, input_channels=3, num_classes=1000, model_name='efficientnet', rescale_input=False, data_format='channels_last', dtype='float32')\n",
            "I0807 06:03:35.322354 132243008729088 ssd_efficientnet_bifpn_feature_extractor.py:161] EfficientDet EfficientNet backbone version: efficientnet-b4\n",
            "I0807 06:03:35.322518 132243008729088 ssd_efficientnet_bifpn_feature_extractor.py:163] EfficientDet BiFPN num filters: 224\n",
            "I0807 06:03:35.322599 132243008729088 ssd_efficientnet_bifpn_feature_extractor.py:164] EfficientDet BiFPN num iterations: 7\n",
            "I0807 06:03:35.324678 132243008729088 efficientnet_model.py:143] round_filter input=32 output=48\n",
            "I0807 06:03:35.345789 132243008729088 efficientnet_model.py:143] round_filter input=32 output=48\n",
            "I0807 06:03:35.345899 132243008729088 efficientnet_model.py:143] round_filter input=16 output=24\n",
            "I0807 06:03:35.495936 132243008729088 efficientnet_model.py:143] round_filter input=16 output=24\n",
            "I0807 06:03:35.496081 132243008729088 efficientnet_model.py:143] round_filter input=24 output=32\n",
            "I0807 06:03:35.861559 132243008729088 efficientnet_model.py:143] round_filter input=24 output=32\n",
            "I0807 06:03:35.861717 132243008729088 efficientnet_model.py:143] round_filter input=40 output=56\n",
            "I0807 06:03:36.238801 132243008729088 efficientnet_model.py:143] round_filter input=40 output=56\n",
            "I0807 06:03:36.238965 132243008729088 efficientnet_model.py:143] round_filter input=80 output=112\n",
            "I0807 06:03:36.880110 132243008729088 efficientnet_model.py:143] round_filter input=80 output=112\n",
            "I0807 06:03:36.880415 132243008729088 efficientnet_model.py:143] round_filter input=112 output=160\n",
            "I0807 06:03:37.435060 132243008729088 efficientnet_model.py:143] round_filter input=112 output=160\n",
            "I0807 06:03:37.435255 132243008729088 efficientnet_model.py:143] round_filter input=192 output=272\n",
            "I0807 06:03:38.169930 132243008729088 efficientnet_model.py:143] round_filter input=192 output=272\n",
            "I0807 06:03:38.170119 132243008729088 efficientnet_model.py:143] round_filter input=320 output=448\n",
            "I0807 06:03:38.367609 132243008729088 efficientnet_model.py:143] round_filter input=1280 output=1792\n",
            "I0807 06:03:38.406459 132243008729088 efficientnet_model.py:453] Building model efficientnet with params ModelConfig(width_coefficient=1.4, depth_coefficient=1.8, resolution=380, dropout_rate=0.4, blocks=(BlockConfig(input_filters=32, output_filters=16, kernel_size=3, num_repeat=1, expand_ratio=1, strides=(1, 1), se_ratio=0.25, id_skip=True, fused_conv=False, conv_type='depthwise'), BlockConfig(input_filters=16, output_filters=24, kernel_size=3, num_repeat=2, expand_ratio=6, strides=(2, 2), se_ratio=0.25, id_skip=True, fused_conv=False, conv_type='depthwise'), BlockConfig(input_filters=24, output_filters=40, kernel_size=5, num_repeat=2, expand_ratio=6, strides=(2, 2), se_ratio=0.25, id_skip=True, fused_conv=False, conv_type='depthwise'), BlockConfig(input_filters=40, output_filters=80, kernel_size=3, num_repeat=3, expand_ratio=6, strides=(2, 2), se_ratio=0.25, id_skip=True, fused_conv=False, conv_type='depthwise'), BlockConfig(input_filters=80, output_filters=112, kernel_size=5, num_repeat=3, expand_ratio=6, strides=(1, 1), se_ratio=0.25, id_skip=True, fused_conv=False, conv_type='depthwise'), BlockConfig(input_filters=112, output_filters=192, kernel_size=5, num_repeat=4, expand_ratio=6, strides=(2, 2), se_ratio=0.25, id_skip=True, fused_conv=False, conv_type='depthwise'), BlockConfig(input_filters=192, output_filters=320, kernel_size=3, num_repeat=1, expand_ratio=6, strides=(1, 1), se_ratio=0.25, id_skip=True, fused_conv=False, conv_type='depthwise')), stem_base_filters=32, top_base_filters=1280, activation='simple_swish', batch_norm='default', bn_momentum=0.99, bn_epsilon=0.001, weight_decay=5e-06, drop_connect_rate=0.2, depth_divisor=8, min_depth=None, use_se=True, input_channels=3, num_classes=1000, model_name='efficientnet', rescale_input=False, data_format='channels_last', dtype='float32')\n",
            "I0807 06:03:38.490715 132243008729088 ssd_efficientnet_bifpn_feature_extractor.py:161] EfficientDet EfficientNet backbone version: efficientnet-b5\n",
            "I0807 06:03:38.490858 132243008729088 ssd_efficientnet_bifpn_feature_extractor.py:163] EfficientDet BiFPN num filters: 288\n",
            "I0807 06:03:38.490928 132243008729088 ssd_efficientnet_bifpn_feature_extractor.py:164] EfficientDet BiFPN num iterations: 7\n",
            "I0807 06:03:38.492929 132243008729088 efficientnet_model.py:143] round_filter input=32 output=48\n",
            "I0807 06:03:38.511347 132243008729088 efficientnet_model.py:143] round_filter input=32 output=48\n",
            "I0807 06:03:38.511460 132243008729088 efficientnet_model.py:143] round_filter input=16 output=24\n",
            "I0807 06:03:38.726840 132243008729088 efficientnet_model.py:143] round_filter input=16 output=24\n",
            "I0807 06:03:38.726989 132243008729088 efficientnet_model.py:143] round_filter input=24 output=40\n",
            "I0807 06:03:39.178295 132243008729088 efficientnet_model.py:143] round_filter input=24 output=40\n",
            "I0807 06:03:39.178473 132243008729088 efficientnet_model.py:143] round_filter input=40 output=64\n",
            "I0807 06:03:39.661202 132243008729088 efficientnet_model.py:143] round_filter input=40 output=64\n",
            "I0807 06:03:39.661393 132243008729088 efficientnet_model.py:143] round_filter input=80 output=128\n",
            "I0807 06:03:40.302447 132243008729088 efficientnet_model.py:143] round_filter input=80 output=128\n",
            "I0807 06:03:40.302613 132243008729088 efficientnet_model.py:143] round_filter input=112 output=176\n",
            "I0807 06:03:40.960158 132243008729088 efficientnet_model.py:143] round_filter input=112 output=176\n",
            "I0807 06:03:40.960319 132243008729088 efficientnet_model.py:143] round_filter input=192 output=304\n",
            "I0807 06:03:41.792611 132243008729088 efficientnet_model.py:143] round_filter input=192 output=304\n",
            "I0807 06:03:41.792779 132243008729088 efficientnet_model.py:143] round_filter input=320 output=512\n",
            "I0807 06:03:42.069263 132243008729088 efficientnet_model.py:143] round_filter input=1280 output=2048\n",
            "I0807 06:03:42.107316 132243008729088 efficientnet_model.py:453] Building model efficientnet with params ModelConfig(width_coefficient=1.6, depth_coefficient=2.2, resolution=456, dropout_rate=0.4, blocks=(BlockConfig(input_filters=32, output_filters=16, kernel_size=3, num_repeat=1, expand_ratio=1, strides=(1, 1), se_ratio=0.25, id_skip=True, fused_conv=False, conv_type='depthwise'), BlockConfig(input_filters=16, output_filters=24, kernel_size=3, num_repeat=2, expand_ratio=6, strides=(2, 2), se_ratio=0.25, id_skip=True, fused_conv=False, conv_type='depthwise'), BlockConfig(input_filters=24, output_filters=40, kernel_size=5, num_repeat=2, expand_ratio=6, strides=(2, 2), se_ratio=0.25, id_skip=True, fused_conv=False, conv_type='depthwise'), BlockConfig(input_filters=40, output_filters=80, kernel_size=3, num_repeat=3, expand_ratio=6, strides=(2, 2), se_ratio=0.25, id_skip=True, fused_conv=False, conv_type='depthwise'), BlockConfig(input_filters=80, output_filters=112, kernel_size=5, num_repeat=3, expand_ratio=6, strides=(1, 1), se_ratio=0.25, id_skip=True, fused_conv=False, conv_type='depthwise'), BlockConfig(input_filters=112, output_filters=192, kernel_size=5, num_repeat=4, expand_ratio=6, strides=(2, 2), se_ratio=0.25, id_skip=True, fused_conv=False, conv_type='depthwise'), BlockConfig(input_filters=192, output_filters=320, kernel_size=3, num_repeat=1, expand_ratio=6, strides=(1, 1), se_ratio=0.25, id_skip=True, fused_conv=False, conv_type='depthwise')), stem_base_filters=32, top_base_filters=1280, activation='simple_swish', batch_norm='default', bn_momentum=0.99, bn_epsilon=0.001, weight_decay=5e-06, drop_connect_rate=0.2, depth_divisor=8, min_depth=None, use_se=True, input_channels=3, num_classes=1000, model_name='efficientnet', rescale_input=False, data_format='channels_last', dtype='float32')\n",
            "I0807 06:03:42.197679 132243008729088 ssd_efficientnet_bifpn_feature_extractor.py:161] EfficientDet EfficientNet backbone version: efficientnet-b6\n",
            "I0807 06:03:42.197823 132243008729088 ssd_efficientnet_bifpn_feature_extractor.py:163] EfficientDet BiFPN num filters: 384\n",
            "I0807 06:03:42.197891 132243008729088 ssd_efficientnet_bifpn_feature_extractor.py:164] EfficientDet BiFPN num iterations: 8\n",
            "I0807 06:03:42.199900 132243008729088 efficientnet_model.py:143] round_filter input=32 output=56\n",
            "I0807 06:03:42.219493 132243008729088 efficientnet_model.py:143] round_filter input=32 output=56\n",
            "I0807 06:03:42.219608 132243008729088 efficientnet_model.py:143] round_filter input=16 output=32\n",
            "I0807 06:03:42.455189 132243008729088 efficientnet_model.py:143] round_filter input=16 output=32\n",
            "I0807 06:03:42.455400 132243008729088 efficientnet_model.py:143] round_filter input=24 output=40\n",
            "I0807 06:03:43.011346 132243008729088 efficientnet_model.py:143] round_filter input=24 output=40\n",
            "I0807 06:03:43.011516 132243008729088 efficientnet_model.py:143] round_filter input=40 output=72\n",
            "I0807 06:03:43.575273 132243008729088 efficientnet_model.py:143] round_filter input=40 output=72\n",
            "I0807 06:03:43.575448 132243008729088 efficientnet_model.py:143] round_filter input=80 output=144\n",
            "I0807 06:03:44.755683 132243008729088 efficientnet_model.py:143] round_filter input=80 output=144\n",
            "I0807 06:03:44.755878 132243008729088 efficientnet_model.py:143] round_filter input=112 output=200\n",
            "I0807 06:03:45.804167 132243008729088 efficientnet_model.py:143] round_filter input=112 output=200\n",
            "I0807 06:03:45.804362 132243008729088 efficientnet_model.py:143] round_filter input=192 output=344\n",
            "I0807 06:03:47.282525 132243008729088 efficientnet_model.py:143] round_filter input=192 output=344\n",
            "I0807 06:03:47.282723 132243008729088 efficientnet_model.py:143] round_filter input=320 output=576\n",
            "I0807 06:03:47.696532 132243008729088 efficientnet_model.py:143] round_filter input=1280 output=2304\n",
            "I0807 06:03:47.751497 132243008729088 efficientnet_model.py:453] Building model efficientnet with params ModelConfig(width_coefficient=1.8, depth_coefficient=2.6, resolution=528, dropout_rate=0.5, blocks=(BlockConfig(input_filters=32, output_filters=16, kernel_size=3, num_repeat=1, expand_ratio=1, strides=(1, 1), se_ratio=0.25, id_skip=True, fused_conv=False, conv_type='depthwise'), BlockConfig(input_filters=16, output_filters=24, kernel_size=3, num_repeat=2, expand_ratio=6, strides=(2, 2), se_ratio=0.25, id_skip=True, fused_conv=False, conv_type='depthwise'), BlockConfig(input_filters=24, output_filters=40, kernel_size=5, num_repeat=2, expand_ratio=6, strides=(2, 2), se_ratio=0.25, id_skip=True, fused_conv=False, conv_type='depthwise'), BlockConfig(input_filters=40, output_filters=80, kernel_size=3, num_repeat=3, expand_ratio=6, strides=(2, 2), se_ratio=0.25, id_skip=True, fused_conv=False, conv_type='depthwise'), BlockConfig(input_filters=80, output_filters=112, kernel_size=5, num_repeat=3, expand_ratio=6, strides=(1, 1), se_ratio=0.25, id_skip=True, fused_conv=False, conv_type='depthwise'), BlockConfig(input_filters=112, output_filters=192, kernel_size=5, num_repeat=4, expand_ratio=6, strides=(2, 2), se_ratio=0.25, id_skip=True, fused_conv=False, conv_type='depthwise'), BlockConfig(input_filters=192, output_filters=320, kernel_size=3, num_repeat=1, expand_ratio=6, strides=(1, 1), se_ratio=0.25, id_skip=True, fused_conv=False, conv_type='depthwise')), stem_base_filters=32, top_base_filters=1280, activation='simple_swish', batch_norm='default', bn_momentum=0.99, bn_epsilon=0.001, weight_decay=5e-06, drop_connect_rate=0.2, depth_divisor=8, min_depth=None, use_se=True, input_channels=3, num_classes=1000, model_name='efficientnet', rescale_input=False, data_format='channels_last', dtype='float32')\n",
            "I0807 06:03:47.936875 132243008729088 ssd_efficientnet_bifpn_feature_extractor.py:161] EfficientDet EfficientNet backbone version: efficientnet-b7\n",
            "I0807 06:03:47.937196 132243008729088 ssd_efficientnet_bifpn_feature_extractor.py:163] EfficientDet BiFPN num filters: 384\n",
            "I0807 06:03:47.937319 132243008729088 ssd_efficientnet_bifpn_feature_extractor.py:164] EfficientDet BiFPN num iterations: 8\n",
            "I0807 06:03:47.940560 132243008729088 efficientnet_model.py:143] round_filter input=32 output=64\n",
            "I0807 06:03:47.974814 132243008729088 efficientnet_model.py:143] round_filter input=32 output=64\n",
            "I0807 06:03:47.974936 132243008729088 efficientnet_model.py:143] round_filter input=16 output=32\n",
            "I0807 06:03:48.267997 132243008729088 efficientnet_model.py:143] round_filter input=16 output=32\n",
            "I0807 06:03:48.268194 132243008729088 efficientnet_model.py:143] round_filter input=24 output=48\n",
            "I0807 06:03:48.912548 132243008729088 efficientnet_model.py:143] round_filter input=24 output=48\n",
            "I0807 06:03:48.912772 132243008729088 efficientnet_model.py:143] round_filter input=40 output=80\n",
            "I0807 06:03:49.539104 132243008729088 efficientnet_model.py:143] round_filter input=40 output=80\n",
            "I0807 06:03:49.539273 132243008729088 efficientnet_model.py:143] round_filter input=80 output=160\n",
            "I0807 06:03:50.448546 132243008729088 efficientnet_model.py:143] round_filter input=80 output=160\n",
            "I0807 06:03:50.448733 132243008729088 efficientnet_model.py:143] round_filter input=112 output=224\n",
            "I0807 06:03:51.364966 132243008729088 efficientnet_model.py:143] round_filter input=112 output=224\n",
            "I0807 06:03:51.365164 132243008729088 efficientnet_model.py:143] round_filter input=192 output=384\n",
            "I0807 06:03:52.541458 132243008729088 efficientnet_model.py:143] round_filter input=192 output=384\n",
            "I0807 06:03:52.541624 132243008729088 efficientnet_model.py:143] round_filter input=320 output=640\n",
            "I0807 06:03:52.926718 132243008729088 efficientnet_model.py:143] round_filter input=1280 output=2560\n",
            "I0807 06:03:52.977227 132243008729088 efficientnet_model.py:453] Building model efficientnet with params ModelConfig(width_coefficient=2.0, depth_coefficient=3.1, resolution=600, dropout_rate=0.5, blocks=(BlockConfig(input_filters=32, output_filters=16, kernel_size=3, num_repeat=1, expand_ratio=1, strides=(1, 1), se_ratio=0.25, id_skip=True, fused_conv=False, conv_type='depthwise'), BlockConfig(input_filters=16, output_filters=24, kernel_size=3, num_repeat=2, expand_ratio=6, strides=(2, 2), se_ratio=0.25, id_skip=True, fused_conv=False, conv_type='depthwise'), BlockConfig(input_filters=24, output_filters=40, kernel_size=5, num_repeat=2, expand_ratio=6, strides=(2, 2), se_ratio=0.25, id_skip=True, fused_conv=False, conv_type='depthwise'), BlockConfig(input_filters=40, output_filters=80, kernel_size=3, num_repeat=3, expand_ratio=6, strides=(2, 2), se_ratio=0.25, id_skip=True, fused_conv=False, conv_type='depthwise'), BlockConfig(input_filters=80, output_filters=112, kernel_size=5, num_repeat=3, expand_ratio=6, strides=(1, 1), se_ratio=0.25, id_skip=True, fused_conv=False, conv_type='depthwise'), BlockConfig(input_filters=112, output_filters=192, kernel_size=5, num_repeat=4, expand_ratio=6, strides=(2, 2), se_ratio=0.25, id_skip=True, fused_conv=False, conv_type='depthwise'), BlockConfig(input_filters=192, output_filters=320, kernel_size=3, num_repeat=1, expand_ratio=6, strides=(1, 1), se_ratio=0.25, id_skip=True, fused_conv=False, conv_type='depthwise')), stem_base_filters=32, top_base_filters=1280, activation='simple_swish', batch_norm='default', bn_momentum=0.99, bn_epsilon=0.001, weight_decay=5e-06, drop_connect_rate=0.2, depth_divisor=8, min_depth=None, use_se=True, input_channels=3, num_classes=1000, model_name='efficientnet', rescale_input=False, data_format='channels_last', dtype='float32')\n",
            "INFO:tensorflow:time(__main__.ModelBuilderTF2Test.test_create_ssd_models_from_config): 28.24s\n",
            "I0807 06:03:53.099889 132243008729088 test_util.py:2472] time(__main__.ModelBuilderTF2Test.test_create_ssd_models_from_config): 28.24s\n",
            "[       OK ] ModelBuilderTF2Test.test_create_ssd_models_from_config\n",
            "[ RUN      ] ModelBuilderTF2Test.test_invalid_faster_rcnn_batchnorm_update\n",
            "INFO:tensorflow:time(__main__.ModelBuilderTF2Test.test_invalid_faster_rcnn_batchnorm_update): 0.0s\n",
            "I0807 06:03:53.130326 132243008729088 test_util.py:2472] time(__main__.ModelBuilderTF2Test.test_invalid_faster_rcnn_batchnorm_update): 0.0s\n",
            "[       OK ] ModelBuilderTF2Test.test_invalid_faster_rcnn_batchnorm_update\n",
            "[ RUN      ] ModelBuilderTF2Test.test_invalid_first_stage_nms_iou_threshold\n",
            "INFO:tensorflow:time(__main__.ModelBuilderTF2Test.test_invalid_first_stage_nms_iou_threshold): 0.0s\n",
            "I0807 06:03:53.131972 132243008729088 test_util.py:2472] time(__main__.ModelBuilderTF2Test.test_invalid_first_stage_nms_iou_threshold): 0.0s\n",
            "[       OK ] ModelBuilderTF2Test.test_invalid_first_stage_nms_iou_threshold\n",
            "[ RUN      ] ModelBuilderTF2Test.test_invalid_model_config_proto\n",
            "INFO:tensorflow:time(__main__.ModelBuilderTF2Test.test_invalid_model_config_proto): 0.0s\n",
            "I0807 06:03:53.132496 132243008729088 test_util.py:2472] time(__main__.ModelBuilderTF2Test.test_invalid_model_config_proto): 0.0s\n",
            "[       OK ] ModelBuilderTF2Test.test_invalid_model_config_proto\n",
            "[ RUN      ] ModelBuilderTF2Test.test_invalid_second_stage_batch_size\n",
            "INFO:tensorflow:time(__main__.ModelBuilderTF2Test.test_invalid_second_stage_batch_size): 0.0s\n",
            "I0807 06:03:53.133915 132243008729088 test_util.py:2472] time(__main__.ModelBuilderTF2Test.test_invalid_second_stage_batch_size): 0.0s\n",
            "[       OK ] ModelBuilderTF2Test.test_invalid_second_stage_batch_size\n",
            "[ RUN      ] ModelBuilderTF2Test.test_session\n",
            "[  SKIPPED ] ModelBuilderTF2Test.test_session\n",
            "[ RUN      ] ModelBuilderTF2Test.test_unknown_faster_rcnn_feature_extractor\n",
            "INFO:tensorflow:time(__main__.ModelBuilderTF2Test.test_unknown_faster_rcnn_feature_extractor): 0.0s\n",
            "I0807 06:03:53.135195 132243008729088 test_util.py:2472] time(__main__.ModelBuilderTF2Test.test_unknown_faster_rcnn_feature_extractor): 0.0s\n",
            "[       OK ] ModelBuilderTF2Test.test_unknown_faster_rcnn_feature_extractor\n",
            "[ RUN      ] ModelBuilderTF2Test.test_unknown_meta_architecture\n",
            "INFO:tensorflow:time(__main__.ModelBuilderTF2Test.test_unknown_meta_architecture): 0.0s\n",
            "I0807 06:03:53.135626 132243008729088 test_util.py:2472] time(__main__.ModelBuilderTF2Test.test_unknown_meta_architecture): 0.0s\n",
            "[       OK ] ModelBuilderTF2Test.test_unknown_meta_architecture\n",
            "[ RUN      ] ModelBuilderTF2Test.test_unknown_ssd_feature_extractor\n",
            "INFO:tensorflow:time(__main__.ModelBuilderTF2Test.test_unknown_ssd_feature_extractor): 0.0s\n",
            "I0807 06:03:53.136611 132243008729088 test_util.py:2472] time(__main__.ModelBuilderTF2Test.test_unknown_ssd_feature_extractor): 0.0s\n",
            "[       OK ] ModelBuilderTF2Test.test_unknown_ssd_feature_extractor\n",
            "----------------------------------------------------------------------\n",
            "Ran 24 tests in 34.145s\n",
            "\n",
            "OK (skipped=1)\n"
          ]
        }
      ]
    },
    {
      "cell_type": "code",
      "source": [
        "!pip list"
      ],
      "metadata": {
        "colab": {
          "base_uri": "https://localhost:8080/"
        },
        "id": "2xVxPekc0uRH",
        "outputId": "d5da6ecc-bc98-4771-ccc3-2323709abc84"
      },
      "execution_count": null,
      "outputs": [
        {
          "output_type": "stream",
          "name": "stdout",
          "text": [
            "Package                          Version\n",
            "-------------------------------- ---------------------\n",
            "absl-py                          1.4.0\n",
            "accelerate                       0.32.1\n",
            "aiohttp                          3.9.5\n",
            "aiosignal                        1.3.1\n",
            "alabaster                        0.7.16\n",
            "albumentations                   1.3.1\n",
            "altair                           4.2.2\n",
            "annotated-types                  0.7.0\n",
            "anyio                            3.7.1\n",
            "apache-beam                      2.57.0\n",
            "argon2-cffi                      23.1.0\n",
            "argon2-cffi-bindings             21.2.0\n",
            "array_record                     0.5.1\n",
            "arviz                            0.15.1\n",
            "astropy                          5.3.4\n",
            "astunparse                       1.6.3\n",
            "async-timeout                    4.0.3\n",
            "atpublic                         4.1.0\n",
            "attrs                            23.2.0\n",
            "audioread                        3.0.1\n",
            "autograd                         1.6.2\n",
            "avro-python3                     1.10.2\n",
            "Babel                            2.15.0\n",
            "backcall                         0.2.0\n",
            "beautifulsoup4                   4.12.3\n",
            "bidict                           0.23.1\n",
            "bigframes                        1.11.1\n",
            "bleach                           6.1.0\n",
            "blinker                          1.4\n",
            "blis                             0.7.11\n",
            "blosc2                           2.0.0\n",
            "bokeh                            3.3.4\n",
            "bqplot                           0.12.43\n",
            "branca                           0.7.2\n",
            "build                            1.2.1\n",
            "CacheControl                     0.14.0\n",
            "cachetools                       5.4.0\n",
            "catalogue                        2.0.10\n",
            "certifi                          2024.7.4\n",
            "cffi                             1.16.0\n",
            "chardet                          5.2.0\n",
            "charset-normalizer               3.3.2\n",
            "chex                             0.1.86\n",
            "click                            8.1.7\n",
            "click-plugins                    1.1.1\n",
            "cligj                            0.7.2\n",
            "cloudpathlib                     0.18.1\n",
            "cloudpickle                      2.2.1\n",
            "cmake                            3.27.9\n",
            "cmdstanpy                        1.2.4\n",
            "colorama                         0.4.6\n",
            "colorcet                         3.1.0\n",
            "colorlover                       0.3.0\n",
            "colour                           0.1.5\n",
            "community                        1.0.0b1\n",
            "confection                       0.1.5\n",
            "cons                             0.4.6\n",
            "contextlib2                      21.6.0\n",
            "contourpy                        1.2.1\n",
            "crcmod                           1.7\n",
            "cryptography                     43.0.0\n",
            "cuda-python                      12.2.1\n",
            "cudf-cu12                        24.4.1\n",
            "cufflinks                        0.17.3\n",
            "cupy-cuda12x                     12.2.0\n",
            "cvxopt                           1.3.2\n",
            "cvxpy                            1.3.4\n",
            "cycler                           0.12.1\n",
            "cymem                            2.0.8\n",
            "Cython                           3.0.10\n",
            "dask                             2023.8.1\n",
            "datascience                      0.17.6\n",
            "db-dtypes                        1.2.0\n",
            "dbus-python                      1.2.18\n",
            "debugpy                          1.6.6\n",
            "decorator                        4.4.2\n",
            "defusedxml                       0.7.1\n",
            "dill                             0.3.1.1\n",
            "distributed                      2023.8.1\n",
            "distro                           1.7.0\n",
            "dlib                             19.24.4\n",
            "dm-tree                          0.1.8\n",
            "dnspython                        2.6.1\n",
            "docopt                           0.6.2\n",
            "docstring_parser                 0.16\n",
            "docutils                         0.18.1\n",
            "dopamine_rl                      4.0.9\n",
            "duckdb                           0.10.3\n",
            "earthengine-api                  0.1.412\n",
            "easydict                         1.13\n",
            "ecos                             2.0.14\n",
            "editdistance                     0.6.2\n",
            "eerepr                           0.0.4\n",
            "en-core-web-sm                   3.7.1\n",
            "entrypoints                      0.4\n",
            "et-xmlfile                       1.1.0\n",
            "etils                            1.7.0\n",
            "etuples                          0.3.9\n",
            "exceptiongroup                   1.2.2\n",
            "fastai                           2.7.15\n",
            "fastavro                         1.9.5\n",
            "fastcore                         1.5.54\n",
            "fastdownload                     0.0.7\n",
            "fasteners                        0.19\n",
            "fastjsonschema                   2.20.0\n",
            "fastprogress                     1.0.3\n",
            "fastrlock                        0.8.2\n",
            "filelock                         3.15.4\n",
            "fiona                            1.9.6\n",
            "firebase-admin                   5.3.0\n",
            "Flask                            2.2.5\n",
            "flatbuffers                      24.3.25\n",
            "flax                             0.8.4\n",
            "folium                           0.14.0\n",
            "fonttools                        4.53.1\n",
            "frozendict                       2.4.4\n",
            "frozenlist                       1.4.1\n",
            "fsspec                           2023.6.0\n",
            "future                           0.18.3\n",
            "gast                             0.4.0\n",
            "gcsfs                            2023.6.0\n",
            "GDAL                             3.6.4\n",
            "gdown                            5.1.0\n",
            "geemap                           0.33.1\n",
            "gensim                           4.3.3\n",
            "geocoder                         1.38.1\n",
            "geographiclib                    2.0\n",
            "geopandas                        0.13.2\n",
            "geopy                            2.3.0\n",
            "gin-config                       0.5.0\n",
            "glob2                            0.7\n",
            "google                           2.0.3\n",
            "google-ai-generativelanguage     0.6.6\n",
            "google-api-core                  2.19.1\n",
            "google-api-python-client         2.137.0\n",
            "google-auth                      2.27.0\n",
            "google-auth-httplib2             0.2.0\n",
            "google-auth-oauthlib             1.0.0\n",
            "google-cloud-aiplatform          1.59.0\n",
            "google-cloud-bigquery            3.25.0\n",
            "google-cloud-bigquery-connection 1.15.4\n",
            "google-cloud-bigquery-storage    2.25.0\n",
            "google-cloud-bigtable            2.24.0\n",
            "google-cloud-core                2.4.1\n",
            "google-cloud-datastore           2.19.0\n",
            "google-cloud-firestore           2.16.1\n",
            "google-cloud-functions           1.16.4\n",
            "google-cloud-iam                 2.15.1\n",
            "google-cloud-language            2.13.4\n",
            "google-cloud-pubsub              2.22.0\n",
            "google-cloud-resource-manager    1.12.4\n",
            "google-cloud-storage             2.8.0\n",
            "google-cloud-translate           3.15.4\n",
            "google-colab                     1.0.0\n",
            "google-crc32c                    1.5.0\n",
            "google-generativeai              0.7.2\n",
            "google-pasta                     0.2.0\n",
            "google-resumable-media           2.7.1\n",
            "googleapis-common-protos         1.63.2\n",
            "googledrivedownloader            0.4\n",
            "graphviz                         0.20.3\n",
            "greenlet                         3.0.3\n",
            "grpc-google-iam-v1               0.13.1\n",
            "grpcio                           1.64.1\n",
            "grpcio-status                    1.48.2\n",
            "gspread                          6.0.2\n",
            "gspread-dataframe                3.3.1\n",
            "gym                              0.25.2\n",
            "gym-notices                      0.0.8\n",
            "h5netcdf                         1.3.0\n",
            "h5py                             3.11.0\n",
            "hdfs                             2.7.3\n",
            "holidays                         0.53\n",
            "holoviews                        1.17.1\n",
            "html5lib                         1.1\n",
            "httpimport                       1.3.1\n",
            "httplib2                         0.22.0\n",
            "huggingface-hub                  0.23.5\n",
            "humanize                         4.7.0\n",
            "hyperopt                         0.2.7\n",
            "ibis-framework                   8.0.0\n",
            "idna                             3.7\n",
            "imageio                          2.31.6\n",
            "imageio-ffmpeg                   0.5.1\n",
            "imagesize                        1.4.1\n",
            "imbalanced-learn                 0.10.1\n",
            "imgaug                           0.4.0\n",
            "immutabledict                    4.2.0\n",
            "importlib_metadata               8.0.0\n",
            "importlib_resources              6.4.0\n",
            "imutils                          0.5.4\n",
            "inflect                          7.0.0\n",
            "iniconfig                        2.0.0\n",
            "intel-openmp                     2023.2.4\n",
            "ipyevents                        2.0.2\n",
            "ipyfilechooser                   0.6.0\n",
            "ipykernel                        5.5.6\n",
            "ipyleaflet                       0.18.2\n",
            "ipyparallel                      8.8.0\n",
            "ipython                          7.34.0\n",
            "ipython-genutils                 0.2.0\n",
            "ipython-sql                      0.5.0\n",
            "ipytree                          0.2.2\n",
            "ipywidgets                       7.7.1\n",
            "itsdangerous                     2.2.0\n",
            "jax                              0.4.26\n",
            "jaxlib                           0.4.26+cuda12.cudnn89\n",
            "jeepney                          0.7.1\n",
            "jellyfish                        1.0.4\n",
            "jieba                            0.42.1\n",
            "Jinja2                           3.1.4\n",
            "joblib                           1.4.2\n",
            "Js2Py                            0.74\n",
            "jsonpickle                       3.2.2\n",
            "jsonschema                       4.19.2\n",
            "jsonschema-specifications        2023.12.1\n",
            "jupyter-client                   6.1.12\n",
            "jupyter-console                  6.1.0\n",
            "jupyter_core                     5.7.2\n",
            "jupyter-server                   1.24.0\n",
            "jupyterlab_pygments              0.3.0\n",
            "jupyterlab_widgets               3.0.11\n",
            "kaggle                           1.6.14\n",
            "kagglehub                        0.2.8\n",
            "keras                            2.13.1\n",
            "keyring                          23.5.0\n",
            "kiwisolver                       1.4.5\n",
            "langcodes                        3.4.0\n",
            "language_data                    1.2.0\n",
            "launchpadlib                     1.10.16\n",
            "lazr.restfulclient               0.14.4\n",
            "lazr.uri                         1.0.6\n",
            "lazy_loader                      0.4\n",
            "libclang                         18.1.1\n",
            "librosa                          0.10.2.post1\n",
            "lightgbm                         4.1.0\n",
            "linkify-it-py                    2.0.3\n",
            "llvmlite                         0.41.1\n",
            "locket                           1.0.0\n",
            "logical-unification              0.4.6\n",
            "lvis                             0.5.3\n",
            "lxml                             4.9.4\n",
            "malloy                           2023.1067\n",
            "marisa-trie                      1.2.0\n",
            "Markdown                         3.6\n",
            "markdown-it-py                   3.0.0\n",
            "MarkupSafe                       2.1.5\n",
            "matplotlib                       3.7.1\n",
            "matplotlib-inline                0.1.7\n",
            "matplotlib-venn                  0.11.10\n",
            "mdit-py-plugins                  0.4.1\n",
            "mdurl                            0.1.2\n",
            "miniKanren                       1.0.3\n",
            "missingno                        0.5.2\n",
            "mistune                          0.8.4\n",
            "mizani                           0.9.3\n",
            "mkl                              2023.2.0\n",
            "ml-dtypes                        0.4.0\n",
            "mlxtend                          0.22.0\n",
            "more-itertools                   10.1.0\n",
            "moviepy                          1.0.3\n",
            "mpmath                           1.3.0\n",
            "msgpack                          1.0.8\n",
            "multidict                        6.0.5\n",
            "multipledispatch                 1.0.0\n",
            "multitasking                     0.0.11\n",
            "murmurhash                       1.0.10\n",
            "music21                          9.1.0\n",
            "namex                            0.0.8\n",
            "natsort                          8.4.0\n",
            "nbclassic                        1.1.0\n",
            "nbclient                         0.10.0\n",
            "nbconvert                        6.5.4\n",
            "nbformat                         5.10.4\n",
            "nest-asyncio                     1.6.0\n",
            "networkx                         3.3\n",
            "nibabel                          4.0.2\n",
            "nltk                             3.8.1\n",
            "notebook                         6.5.5\n",
            "notebook_shim                    0.2.4\n",
            "numba                            0.58.1\n",
            "numexpr                          2.10.1\n",
            "numpy                            1.24.3\n",
            "nvtx                             0.2.10\n",
            "oauth2client                     4.1.3\n",
            "oauthlib                         3.2.2\n",
            "object_detection                 0.1\n",
            "objsize                          0.7.0\n",
            "opencv-contrib-python            4.8.0.76\n",
            "opencv-python                    4.8.0.76\n",
            "opencv-python-headless           4.10.0.84\n",
            "openpyxl                         3.1.5\n",
            "opt-einsum                       3.3.0\n",
            "optax                            0.2.2\n",
            "optree                           0.12.1\n",
            "orbax-checkpoint                 0.4.4\n",
            "orjson                           3.10.6\n",
            "osqp                             0.6.2.post8\n",
            "packaging                        24.1\n",
            "pandas                           2.0.3\n",
            "pandas-datareader                0.10.0\n",
            "pandas-gbq                       0.19.2\n",
            "pandas-stubs                     2.0.3.230814\n",
            "pandocfilters                    1.5.1\n",
            "panel                            1.3.8\n",
            "param                            2.1.1\n",
            "parso                            0.8.4\n",
            "parsy                            2.1\n",
            "partd                            1.4.2\n",
            "pathlib                          1.0.1\n",
            "patsy                            0.5.6\n",
            "peewee                           3.17.6\n",
            "pexpect                          4.9.0\n",
            "pickleshare                      0.7.5\n",
            "Pillow                           9.4.0\n",
            "pip                              24.1.2\n",
            "pip-tools                        7.4.1\n",
            "platformdirs                     4.2.2\n",
            "plotly                           5.15.0\n",
            "plotnine                         0.12.4\n",
            "pluggy                           1.5.0\n",
            "polars                           0.20.2\n",
            "pooch                            1.8.2\n",
            "portalocker                      2.10.1\n",
            "portpicker                       1.5.2\n",
            "prefetch_generator               1.0.3\n",
            "preshed                          3.0.9\n",
            "prettytable                      3.10.2\n",
            "proglog                          0.1.10\n",
            "progressbar2                     4.2.0\n",
            "prometheus_client                0.20.0\n",
            "promise                          2.3\n",
            "prompt_toolkit                   3.0.47\n",
            "prophet                          1.1.5\n",
            "proto-plus                       1.24.0\n",
            "protobuf                         3.20.3\n",
            "psutil                           5.9.5\n",
            "psycopg2                         2.9.9\n",
            "ptyprocess                       0.7.0\n",
            "py-cpuinfo                       9.0.0\n",
            "py4j                             0.10.9.7\n",
            "pyarrow                          14.0.2\n",
            "pyarrow-hotfix                   0.6\n",
            "pyasn1                           0.6.0\n",
            "pyasn1_modules                   0.4.0\n",
            "pycocotools                      2.0.8\n",
            "pycparser                        2.22\n",
            "pydantic                         2.8.2\n",
            "pydantic_core                    2.20.1\n",
            "pydata-google-auth               1.8.2\n",
            "pydot                            1.4.2\n",
            "pydot-ng                         2.0.0\n",
            "pydotplus                        2.0.2\n",
            "PyDrive                          1.3.1\n",
            "PyDrive2                         1.6.3\n",
            "pyerfa                           2.0.1.4\n",
            "pygame                           2.6.0\n",
            "Pygments                         2.16.1\n",
            "PyGObject                        3.42.1\n",
            "pyjsparser                       2.7.1\n",
            "PyJWT                            2.3.0\n",
            "pymc                             5.10.4\n",
            "pymongo                          4.8.0\n",
            "pymystem3                        0.2.0\n",
            "pynvjitlink-cu12                 0.3.0\n",
            "PyOpenGL                         3.1.7\n",
            "pyOpenSSL                        24.2.1\n",
            "pyparsing                        2.4.7\n",
            "pyperclip                        1.9.0\n",
            "pyproj                           3.6.1\n",
            "pyproject_hooks                  1.1.0\n",
            "pyshp                            2.3.1\n",
            "PySocks                          1.7.1\n",
            "pytensor                         2.18.6\n",
            "pytest                           7.4.4\n",
            "python-apt                       2.4.0\n",
            "python-box                       7.2.0\n",
            "python-dateutil                  2.8.2\n",
            "python-louvain                   0.16\n",
            "python-slugify                   8.0.4\n",
            "python-utils                     3.8.2\n",
            "pytz                             2023.4\n",
            "pyviz_comms                      3.0.2\n",
            "PyWavelets                       1.6.0\n",
            "PyYAML                           6.0.1\n",
            "pyzmq                            24.0.1\n",
            "qdldl                            0.1.7.post4\n",
            "qudida                           0.0.4\n",
            "ratelim                          0.1.6\n",
            "redis                            5.0.7\n",
            "referencing                      0.35.1\n",
            "regex                            2024.5.15\n",
            "requests                         2.31.0\n",
            "requests-oauthlib                1.3.1\n",
            "requirements-parser              0.9.0\n",
            "rich                             13.7.1\n",
            "rmm-cu12                         24.4.0\n",
            "rpds-py                          0.19.0\n",
            "rpy2                             3.4.2\n",
            "rsa                              4.9\n",
            "sacrebleu                        2.2.0\n",
            "safetensors                      0.4.3\n",
            "scikit-image                     0.19.3\n",
            "scikit-learn                     1.2.2\n",
            "scipy                            1.11.4\n",
            "scooby                           0.10.0\n",
            "scs                              3.2.6\n",
            "seaborn                          0.13.1\n",
            "SecretStorage                    3.3.1\n",
            "Send2Trash                       1.8.3\n",
            "sentencepiece                    0.1.99\n",
            "seqeval                          1.2.2\n",
            "setuptools                       71.0.4\n",
            "shapely                          2.0.5\n",
            "shellingham                      1.5.4\n",
            "simple_parsing                   0.1.5\n",
            "six                              1.16.0\n",
            "sklearn-pandas                   2.2.0\n",
            "smart-open                       7.0.4\n",
            "sniffio                          1.3.1\n",
            "snowballstemmer                  2.2.0\n",
            "sortedcontainers                 2.4.0\n",
            "soundfile                        0.12.1\n",
            "soupsieve                        2.5\n",
            "soxr                             0.3.7\n",
            "spacy                            3.7.5\n",
            "spacy-legacy                     3.0.12\n",
            "spacy-loggers                    1.0.5\n",
            "Sphinx                           5.0.2\n",
            "sphinxcontrib-applehelp          1.0.8\n",
            "sphinxcontrib-devhelp            1.0.6\n",
            "sphinxcontrib-htmlhelp           2.0.6\n",
            "sphinxcontrib-jsmath             1.0.1\n",
            "sphinxcontrib-qthelp             1.0.8\n",
            "sphinxcontrib-serializinghtml    1.1.10\n",
            "SQLAlchemy                       2.0.31\n",
            "sqlglot                          20.11.0\n",
            "sqlparse                         0.5.1\n",
            "srsly                            2.4.8\n",
            "stanio                           0.5.1\n",
            "statsmodels                      0.14.2\n",
            "StrEnum                          0.4.15\n",
            "sympy                            1.13.1\n",
            "tables                           3.8.0\n",
            "tabulate                         0.9.0\n",
            "tbb                              2021.13.0\n",
            "tblib                            3.0.0\n",
            "tenacity                         8.5.0\n",
            "tensorboard                      2.13.0\n",
            "tensorboard-data-server          0.7.2\n",
            "tensorflow                       2.13.1\n",
            "tensorflow-datasets              4.9.6\n",
            "tensorflow-estimator             2.13.0\n",
            "tensorflow-gcs-config            2.15.0\n",
            "tensorflow-hub                   0.16.1\n",
            "tensorflow-io                    0.37.1\n",
            "tensorflow-io-gcs-filesystem     0.37.1\n",
            "tensorflow-metadata              1.15.0\n",
            "tensorflow-model-optimization    0.8.0\n",
            "tensorflow-probability           0.23.0\n",
            "tensorflow-text                  2.17.0\n",
            "tensorstore                      0.1.45\n",
            "termcolor                        2.4.0\n",
            "terminado                        0.18.1\n",
            "text-unidecode                   1.3\n",
            "textblob                         0.17.1\n",
            "tf_keras                         2.17.0\n",
            "tf-models-official               2.17.0\n",
            "tf-slim                          1.1.0\n",
            "thinc                            8.2.5\n",
            "threadpoolctl                    3.5.0\n",
            "tifffile                         2024.7.21\n",
            "tinycss2                         1.3.0\n",
            "tokenizers                       0.19.1\n",
            "toml                             0.10.2\n",
            "tomli                            2.0.1\n",
            "toolz                            0.12.1\n",
            "torch                            2.3.1+cu121\n",
            "torchaudio                       2.3.1+cu121\n",
            "torchsummary                     1.5.1\n",
            "torchtext                        0.18.0\n",
            "torchvision                      0.18.1+cu121\n",
            "tornado                          6.3.3\n",
            "tqdm                             4.66.4\n",
            "traitlets                        5.7.1\n",
            "traittypes                       0.2.1\n",
            "transformers                     4.42.4\n",
            "triton                           2.3.1\n",
            "tweepy                           4.14.0\n",
            "typer                            0.12.3\n",
            "types-pytz                       2024.1.0.20240417\n",
            "types-setuptools                 71.1.0.20240723\n",
            "typing_extensions                4.5.0\n",
            "tzdata                           2024.1\n",
            "tzlocal                          5.2\n",
            "uc-micro-py                      1.0.3\n",
            "uritemplate                      4.1.1\n",
            "urllib3                          2.0.7\n",
            "vega-datasets                    0.9.0\n",
            "wadllib                          1.3.6\n",
            "wasabi                           1.1.3\n",
            "wcwidth                          0.2.13\n",
            "weasel                           0.4.1\n",
            "webcolors                        24.6.0\n",
            "webencodings                     0.5.1\n",
            "websocket-client                 1.8.0\n",
            "Werkzeug                         3.0.3\n",
            "wheel                            0.43.0\n",
            "widgetsnbextension               3.6.7\n",
            "wordcloud                        1.9.3\n",
            "wrapt                            1.14.1\n",
            "xarray                           2023.7.0\n",
            "xarray-einstats                  0.7.0\n",
            "xgboost                          2.0.3\n",
            "xlrd                             2.0.1\n",
            "xyzservices                      2024.6.0\n",
            "yarl                             1.9.4\n",
            "yellowbrick                      1.5\n",
            "yfinance                         0.2.41\n",
            "zict                             3.0.0\n",
            "zipp                             3.19.2\n",
            "zstandard                        0.23.0\n"
          ]
        }
      ]
    },
    {
      "cell_type": "code",
      "source": [
        "pwd"
      ],
      "metadata": {
        "colab": {
          "base_uri": "https://localhost:8080/",
          "height": 36
        },
        "id": "1C_wFSj11M_Z",
        "outputId": "ccd04ab5-d83f-42bb-890e-446e50ad4191"
      },
      "execution_count": 5,
      "outputs": [
        {
          "output_type": "execute_result",
          "data": {
            "text/plain": [
              "'/content/tensorflow/models/research'"
            ],
            "application/vnd.google.colaboratory.intrinsic+json": {
              "type": "string"
            }
          },
          "metadata": {},
          "execution_count": 5
        }
      ]
    },
    {
      "cell_type": "code",
      "source": [
        "cd .."
      ],
      "metadata": {
        "colab": {
          "base_uri": "https://localhost:8080/"
        },
        "id": "PgpizZd-1REs",
        "outputId": "62a1d480-3d06-49c8-c06c-9662f8eb098e"
      },
      "execution_count": 7,
      "outputs": [
        {
          "output_type": "stream",
          "name": "stdout",
          "text": [
            "/content/tensorflow\n"
          ]
        }
      ]
    },
    {
      "cell_type": "code",
      "source": [
        "mkdir scripts"
      ],
      "metadata": {
        "id": "2u_HHqCh1SMM"
      },
      "execution_count": 8,
      "outputs": []
    },
    {
      "cell_type": "code",
      "source": [
        "cd scripts"
      ],
      "metadata": {
        "colab": {
          "base_uri": "https://localhost:8080/"
        },
        "id": "9kEzvGce1X7b",
        "outputId": "562fedfd-7983-42e9-bac4-ab97ef59a47f"
      },
      "execution_count": 9,
      "outputs": [
        {
          "output_type": "stream",
          "name": "stdout",
          "text": [
            "/content/tensorflow/scripts\n"
          ]
        }
      ]
    },
    {
      "cell_type": "code",
      "source": [
        "mkdir preprocessing"
      ],
      "metadata": {
        "id": "bLv3E4dy1aNb"
      },
      "execution_count": 10,
      "outputs": []
    },
    {
      "cell_type": "code",
      "source": [
        "cd preprocessing"
      ],
      "metadata": {
        "colab": {
          "base_uri": "https://localhost:8080/"
        },
        "id": "Bgr8m1tg1dvK",
        "outputId": "b0741ee3-1397-4654-e092-dc3c7f2c59b4"
      },
      "execution_count": 11,
      "outputs": [
        {
          "output_type": "stream",
          "name": "stdout",
          "text": [
            "/content/tensorflow/scripts/preprocessing\n"
          ]
        }
      ]
    },
    {
      "cell_type": "code",
      "source": [
        "cd .."
      ],
      "metadata": {
        "colab": {
          "base_uri": "https://localhost:8080/"
        },
        "id": "z4cUTYxp1flr",
        "outputId": "b93c5843-dcba-4363-a1b8-500d4c28798d"
      },
      "execution_count": 13,
      "outputs": [
        {
          "output_type": "stream",
          "name": "stdout",
          "text": [
            "/content/tensorflow\n"
          ]
        }
      ]
    },
    {
      "cell_type": "code",
      "source": [
        "mkdir workspace"
      ],
      "metadata": {
        "id": "c7oqsAnt1ztj"
      },
      "execution_count": 14,
      "outputs": []
    },
    {
      "cell_type": "code",
      "source": [
        "cd workspace"
      ],
      "metadata": {
        "colab": {
          "base_uri": "https://localhost:8080/"
        },
        "id": "1jCl5BGA15KN",
        "outputId": "5bab89fc-3b7d-4fcc-b6cb-fcd2de4489ff"
      },
      "execution_count": 15,
      "outputs": [
        {
          "output_type": "stream",
          "name": "stdout",
          "text": [
            "/content/tensorflow/workspace\n"
          ]
        }
      ]
    },
    {
      "cell_type": "code",
      "source": [
        "mkdir training_demo"
      ],
      "metadata": {
        "id": "Hj7wa2j317qY"
      },
      "execution_count": 16,
      "outputs": []
    },
    {
      "cell_type": "code",
      "source": [
        "cd training_demo"
      ],
      "metadata": {
        "colab": {
          "base_uri": "https://localhost:8080/"
        },
        "id": "DZBYPten1-Vy",
        "outputId": "e366713a-a84a-4f1d-d22c-aa2fbe611100"
      },
      "execution_count": 17,
      "outputs": [
        {
          "output_type": "stream",
          "name": "stdout",
          "text": [
            "/content/tensorflow/workspace/training_demo\n"
          ]
        }
      ]
    },
    {
      "cell_type": "code",
      "source": [
        "mkdir annotations"
      ],
      "metadata": {
        "id": "XoALhUVt2Bmx"
      },
      "execution_count": 18,
      "outputs": []
    },
    {
      "cell_type": "code",
      "source": [
        "mkdir exported_models"
      ],
      "metadata": {
        "id": "PW-1j_TB2DVe"
      },
      "execution_count": 19,
      "outputs": []
    },
    {
      "cell_type": "code",
      "source": [
        "mkdir images"
      ],
      "metadata": {
        "id": "GqmCvsmj2FxQ"
      },
      "execution_count": 20,
      "outputs": []
    },
    {
      "cell_type": "code",
      "source": [
        "mkdir models"
      ],
      "metadata": {
        "id": "LKVSnXrH2Hal"
      },
      "execution_count": 21,
      "outputs": []
    },
    {
      "cell_type": "code",
      "source": [
        "mkdir pre-trained-models"
      ],
      "metadata": {
        "id": "zxY6jVc52JPQ"
      },
      "execution_count": 22,
      "outputs": []
    },
    {
      "cell_type": "code",
      "source": [
        "pwd"
      ],
      "metadata": {
        "colab": {
          "base_uri": "https://localhost:8080/",
          "height": 36
        },
        "id": "0LN-EHOc2Nlr",
        "outputId": "763d9270-8c6a-4e59-b223-6522fd4fda8b"
      },
      "execution_count": 23,
      "outputs": [
        {
          "output_type": "execute_result",
          "data": {
            "text/plain": [
              "'/content/tensorflow/workspace/training_demo'"
            ],
            "application/vnd.google.colaboratory.intrinsic+json": {
              "type": "string"
            }
          },
          "metadata": {},
          "execution_count": 23
        }
      ]
    },
    {
      "cell_type": "code",
      "source": [
        "cd images"
      ],
      "metadata": {
        "colab": {
          "base_uri": "https://localhost:8080/"
        },
        "id": "DWlilSWG2rgh",
        "outputId": "55c35e93-0d53-427d-e4de-437cd57ae778"
      },
      "execution_count": 24,
      "outputs": [
        {
          "output_type": "stream",
          "name": "stdout",
          "text": [
            "/content/tensorflow/workspace/training_demo/images\n"
          ]
        }
      ]
    },
    {
      "cell_type": "code",
      "source": [
        "mkdir test"
      ],
      "metadata": {
        "id": "sDE5OYH52tO2"
      },
      "execution_count": 25,
      "outputs": []
    },
    {
      "cell_type": "code",
      "source": [
        "mkdir train"
      ],
      "metadata": {
        "id": "oSjkX9Sn2umV"
      },
      "execution_count": 26,
      "outputs": []
    },
    {
      "cell_type": "code",
      "source": [
        "pwd"
      ],
      "metadata": {
        "colab": {
          "base_uri": "https://localhost:8080/",
          "height": 36
        },
        "id": "1wuE0J_J3LpL",
        "outputId": "f20b88e3-e9b6-4228-ffce-6075b6933991"
      },
      "execution_count": 27,
      "outputs": [
        {
          "output_type": "execute_result",
          "data": {
            "text/plain": [
              "'/content/tensorflow/workspace/training_demo/images'"
            ],
            "application/vnd.google.colaboratory.intrinsic+json": {
              "type": "string"
            }
          },
          "metadata": {},
          "execution_count": 27
        }
      ]
    },
    {
      "cell_type": "code",
      "source": [
        "cd .."
      ],
      "metadata": {
        "colab": {
          "base_uri": "https://localhost:8080/"
        },
        "id": "sIpIHLqf3NfJ",
        "outputId": "1324dd80-c48e-40af-d550-629bc5be2acf"
      },
      "execution_count": 28,
      "outputs": [
        {
          "output_type": "stream",
          "name": "stdout",
          "text": [
            "/content/tensorflow/workspace/training_demo\n"
          ]
        }
      ]
    },
    {
      "cell_type": "code",
      "source": [
        "cd annotations"
      ],
      "metadata": {
        "colab": {
          "base_uri": "https://localhost:8080/"
        },
        "id": "FUJzAzND3PZU",
        "outputId": "668826fe-e0f6-4097-90bd-1271a6b7f1ed"
      },
      "execution_count": 29,
      "outputs": [
        {
          "output_type": "stream",
          "name": "stdout",
          "text": [
            "/content/tensorflow/workspace/training_demo/annotations\n"
          ]
        }
      ]
    },
    {
      "cell_type": "code",
      "source": [
        "cd .."
      ],
      "metadata": {
        "colab": {
          "base_uri": "https://localhost:8080/"
        },
        "id": "8Opc-4b53ybj",
        "outputId": "7322c3dc-f240-47eb-e85e-c1c464c89fe6"
      },
      "execution_count": 32,
      "outputs": [
        {
          "output_type": "stream",
          "name": "stdout",
          "text": [
            "/content/tensorflow\n"
          ]
        }
      ]
    },
    {
      "cell_type": "code",
      "source": [
        "cd scripts/preprocessing/"
      ],
      "metadata": {
        "colab": {
          "base_uri": "https://localhost:8080/"
        },
        "id": "nRnXdb774FXk",
        "outputId": "98499b69-bcc7-4d61-908b-55ecac213b75"
      },
      "execution_count": 33,
      "outputs": [
        {
          "output_type": "stream",
          "name": "stdout",
          "text": [
            "/content/tensorflow/scripts/preprocessing\n"
          ]
        }
      ]
    },
    {
      "cell_type": "code",
      "source": [
        "!python generate_tfrecord.py -x /content/tensorflow/workspace/training_demo/images/train -l /content/tensorflow/workspace/training_demo/annotations/label_map.pbtxt -o /content/tensorflow/workspace/training_demo/annotations/train.record"
      ],
      "metadata": {
        "colab": {
          "base_uri": "https://localhost:8080/"
        },
        "id": "Qpcqakna2wAU",
        "outputId": "b165189d-5467-4686-bd25-c38b61fd320d"
      },
      "execution_count": 34,
      "outputs": [
        {
          "output_type": "stream",
          "name": "stdout",
          "text": [
            "2024-08-07 06:10:39.056013: E tensorflow/compiler/xla/stream_executor/cuda/cuda_dnn.cc:9342] Unable to register cuDNN factory: Attempting to register factory for plugin cuDNN when one has already been registered\n",
            "2024-08-07 06:10:39.056082: E tensorflow/compiler/xla/stream_executor/cuda/cuda_fft.cc:609] Unable to register cuFFT factory: Attempting to register factory for plugin cuFFT when one has already been registered\n",
            "2024-08-07 06:10:39.056142: E tensorflow/compiler/xla/stream_executor/cuda/cuda_blas.cc:1518] Unable to register cuBLAS factory: Attempting to register factory for plugin cuBLAS when one has already been registered\n",
            "Successfully created the TFRecord file: /content/tensorflow/workspace/training_demo/annotations/train.record\n"
          ]
        }
      ]
    },
    {
      "cell_type": "code",
      "source": [
        "!python generate_tfrecord.py -x /content/tensorflow/workspace/training_demo/images/test -l /content/tensorflow/workspace/training_demo/annotations/label_map.pbtxt -o /content/tensorflow/workspace/training_demo/annotations/test.record"
      ],
      "metadata": {
        "colab": {
          "base_uri": "https://localhost:8080/"
        },
        "id": "SljLXoBt4Baa",
        "outputId": "b97aa4b4-7258-45a6-bce1-61e7704396dd"
      },
      "execution_count": 35,
      "outputs": [
        {
          "output_type": "stream",
          "name": "stdout",
          "text": [
            "2024-08-07 06:10:50.890360: E tensorflow/compiler/xla/stream_executor/cuda/cuda_dnn.cc:9342] Unable to register cuDNN factory: Attempting to register factory for plugin cuDNN when one has already been registered\n",
            "2024-08-07 06:10:50.890422: E tensorflow/compiler/xla/stream_executor/cuda/cuda_fft.cc:609] Unable to register cuFFT factory: Attempting to register factory for plugin cuFFT when one has already been registered\n",
            "2024-08-07 06:10:50.890483: E tensorflow/compiler/xla/stream_executor/cuda/cuda_blas.cc:1518] Unable to register cuBLAS factory: Attempting to register factory for plugin cuBLAS when one has already been registered\n",
            "Successfully created the TFRecord file: /content/tensorflow/workspace/training_demo/annotations/test.record\n"
          ]
        }
      ]
    },
    {
      "cell_type": "code",
      "source": [
        "cd .."
      ],
      "metadata": {
        "colab": {
          "base_uri": "https://localhost:8080/"
        },
        "id": "RSs_SD_m4TZd",
        "outputId": "1ed94f02-adfd-498c-f107-efe7ccde990d"
      },
      "execution_count": 36,
      "outputs": [
        {
          "output_type": "stream",
          "name": "stdout",
          "text": [
            "/content/tensorflow/scripts\n"
          ]
        }
      ]
    },
    {
      "cell_type": "code",
      "source": [
        "cd .."
      ],
      "metadata": {
        "colab": {
          "base_uri": "https://localhost:8080/"
        },
        "id": "MDQSgaP44he6",
        "outputId": "16e4ae5b-b198-4665-f646-1438afa92cc0"
      },
      "execution_count": 37,
      "outputs": [
        {
          "output_type": "stream",
          "name": "stdout",
          "text": [
            "/content/tensorflow\n"
          ]
        }
      ]
    },
    {
      "cell_type": "code",
      "source": [
        "cd workspace/training_demo"
      ],
      "metadata": {
        "colab": {
          "base_uri": "https://localhost:8080/"
        },
        "id": "oXSTUC_G4y5R",
        "outputId": "be98862b-f5be-4947-ac51-335c08972089"
      },
      "execution_count": 38,
      "outputs": [
        {
          "output_type": "stream",
          "name": "stdout",
          "text": [
            "/content/tensorflow/workspace/training_demo\n"
          ]
        }
      ]
    },
    {
      "cell_type": "code",
      "source": [
        "!pip install wget"
      ],
      "metadata": {
        "colab": {
          "base_uri": "https://localhost:8080/"
        },
        "id": "BnXEyBax44mV",
        "outputId": "7fb323cf-ea7d-4290-c5fa-786fe6005246"
      },
      "execution_count": 39,
      "outputs": [
        {
          "output_type": "stream",
          "name": "stdout",
          "text": [
            "Collecting wget\n",
            "  Downloading wget-3.2.zip (10 kB)\n",
            "  Preparing metadata (setup.py) ... \u001b[?25l\u001b[?25hdone\n",
            "Building wheels for collected packages: wget\n",
            "  Building wheel for wget (setup.py) ... \u001b[?25l\u001b[?25hdone\n",
            "  Created wheel for wget: filename=wget-3.2-py3-none-any.whl size=9656 sha256=4e8cbdabc814109d86c03c48e1b3712ca826f6adc9d2006616821b3a95b70beb\n",
            "  Stored in directory: /root/.cache/pip/wheels/8b/f1/7f/5c94f0a7a505ca1c81cd1d9208ae2064675d97582078e6c769\n",
            "Successfully built wget\n",
            "Installing collected packages: wget\n",
            "Successfully installed wget-3.2\n"
          ]
        }
      ]
    },
    {
      "cell_type": "code",
      "source": [
        "!python model_downloader.py"
      ],
      "metadata": {
        "id": "a563KVO34imm"
      },
      "execution_count": 40,
      "outputs": []
    },
    {
      "cell_type": "code",
      "source": [
        "cd .."
      ],
      "metadata": {
        "colab": {
          "base_uri": "https://localhost:8080/"
        },
        "id": "v-CpOEzv4l_C",
        "outputId": "2ce47886-37f2-475f-b657-741edff79cd0"
      },
      "execution_count": 41,
      "outputs": [
        {
          "output_type": "stream",
          "name": "stdout",
          "text": [
            "/content/tensorflow/workspace\n"
          ]
        }
      ]
    },
    {
      "cell_type": "code",
      "source": [
        "cd training_demo/models"
      ],
      "metadata": {
        "colab": {
          "base_uri": "https://localhost:8080/"
        },
        "id": "9NvgBx1S5Jae",
        "outputId": "ffd2d94f-d888-41f0-cf85-01b1483d1af0"
      },
      "execution_count": 42,
      "outputs": [
        {
          "output_type": "stream",
          "name": "stdout",
          "text": [
            "/content/tensorflow/workspace/training_demo/models\n"
          ]
        }
      ]
    },
    {
      "cell_type": "code",
      "source": [
        "mkdir my_ssd_resnet50_v1_fpn"
      ],
      "metadata": {
        "id": "BdP2zLwW5MbX"
      },
      "execution_count": 43,
      "outputs": []
    },
    {
      "cell_type": "code",
      "source": [
        "cd ..\n"
      ],
      "metadata": {
        "colab": {
          "base_uri": "https://localhost:8080/"
        },
        "id": "EFoTM37p6YgT",
        "outputId": "983ca013-83b2-4fa7-b1c5-6f82181e6575"
      },
      "execution_count": 46,
      "outputs": [
        {
          "output_type": "stream",
          "name": "stdout",
          "text": [
            "/content/tensorflow\n"
          ]
        }
      ]
    },
    {
      "cell_type": "code",
      "source": [
        "cd workspace/training_demo/"
      ],
      "metadata": {
        "colab": {
          "base_uri": "https://localhost:8080/"
        },
        "id": "9zEAmywC6ifd",
        "outputId": "1e388097-32c0-47c3-ae60-6e5161dde170"
      },
      "execution_count": 47,
      "outputs": [
        {
          "output_type": "stream",
          "name": "stdout",
          "text": [
            "/content/tensorflow/workspace/training_demo\n"
          ]
        }
      ]
    },
    {
      "cell_type": "code",
      "source": [
        "pwd"
      ],
      "metadata": {
        "colab": {
          "base_uri": "https://localhost:8080/",
          "height": 36
        },
        "id": "Q41NJi1Cetgg",
        "outputId": "4c7318d2-48f8-43a1-e3c7-a92c2fdf50f4"
      },
      "execution_count": 48,
      "outputs": [
        {
          "output_type": "execute_result",
          "data": {
            "text/plain": [
              "'/content/tensorflow/workspace/training_demo'"
            ],
            "application/vnd.google.colaboratory.intrinsic+json": {
              "type": "string"
            }
          },
          "metadata": {},
          "execution_count": 48
        }
      ]
    },
    {
      "cell_type": "code",
      "source": [
        "cd models/my_ssd_resnet50_v1_fpn"
      ],
      "metadata": {
        "colab": {
          "base_uri": "https://localhost:8080/"
        },
        "id": "P0Z7MD2deysK",
        "outputId": "f0ad84e7-4bdd-42ec-acb9-8a845d35082c"
      },
      "execution_count": 49,
      "outputs": [
        {
          "output_type": "stream",
          "name": "stdout",
          "text": [
            "/content/tensorflow/workspace/training_demo/models/my_ssd_resnet50_v1_fpn\n"
          ]
        }
      ]
    },
    {
      "cell_type": "code",
      "source": [
        "!cp /content/tensorflow/workspace/training_demo/pre-trained-models/ssd_resnet50_v1_fpn_640x640_coco17_tpu-8/pipeline.config ."
      ],
      "metadata": {
        "id": "iHhDA1hUfBFq"
      },
      "execution_count": 51,
      "outputs": []
    },
    {
      "cell_type": "code",
      "source": [
        "cd .."
      ],
      "metadata": {
        "colab": {
          "base_uri": "https://localhost:8080/"
        },
        "id": "TFY7lTj7fN6v",
        "outputId": "bfcaeff6-77a3-4d22-e78e-346238066e08"
      },
      "execution_count": 53,
      "outputs": [
        {
          "output_type": "stream",
          "name": "stdout",
          "text": [
            "/content/tensorflow/workspace/training_demo\n"
          ]
        }
      ]
    },
    {
      "cell_type": "code",
      "source": [
        "import shutil\n",
        "import re\n",
        "\n",
        "original_path = '/usr/local/lib/python3.10/dist-packages/tf_slim/data/tfexample_decoder.py'\n",
        "\n",
        "with open(original_path, 'r') as file:\n",
        "    content = file.read()\n",
        "    content = re.sub(r'import abc', 'import tensorflow as tf\\n\\nimport abc', content)\n",
        "    content = re.sub(r'control_flow_ops.case', 'tf.case', content)\n",
        "    content = re.sub(r'control_flow_ops.cond', 'tf.compat.v1.cond', content)\n",
        "\n",
        "with open(original_path, 'w') as file:\n",
        "    file.write(content)\n",
        "\n",
        "print(f\"File {original_path} fixed.\")\n"
      ],
      "metadata": {
        "colab": {
          "base_uri": "https://localhost:8080/"
        },
        "id": "txKJv18VhedD",
        "outputId": "3de37888-a909-4f89-b7a5-14bc39a4982b"
      },
      "execution_count": 59,
      "outputs": [
        {
          "output_type": "stream",
          "name": "stdout",
          "text": [
            "File /usr/local/lib/python3.10/dist-packages/tf_slim/data/tfexample_decoder.py fixed.\n"
          ]
        }
      ]
    },
    {
      "cell_type": "code",
      "source": [
        "!python model_main_tf2.py --model_dir=models/my_ssd_resnet50_v1_fpn --pipeline_config_path=models/my_ssd_resnet50_v1_fpn/pipeline.config"
      ],
      "metadata": {
        "colab": {
          "base_uri": "https://localhost:8080/"
        },
        "id": "wlGVbviS5RfW",
        "outputId": "aef85d8a-d9b3-44a8-fd26-2ce34bb24ac5"
      },
      "execution_count": 60,
      "outputs": [
        {
          "output_type": "stream",
          "name": "stdout",
          "text": [
            "2024-08-07 06:29:31.332101: E tensorflow/compiler/xla/stream_executor/cuda/cuda_dnn.cc:9342] Unable to register cuDNN factory: Attempting to register factory for plugin cuDNN when one has already been registered\n",
            "2024-08-07 06:29:31.332204: E tensorflow/compiler/xla/stream_executor/cuda/cuda_fft.cc:609] Unable to register cuFFT factory: Attempting to register factory for plugin cuFFT when one has already been registered\n",
            "2024-08-07 06:29:31.332264: E tensorflow/compiler/xla/stream_executor/cuda/cuda_blas.cc:1518] Unable to register cuBLAS factory: Attempting to register factory for plugin cuBLAS when one has already been registered\n",
            "2024-08-07 06:29:35.580960: W tensorflow/core/common_runtime/gpu/gpu_bfc_allocator.cc:47] Overriding orig_value setting because the TF_FORCE_GPU_ALLOW_GROWTH environment variable is set. Original config value was 0.\n",
            "INFO:tensorflow:Using MirroredStrategy with devices ('/job:localhost/replica:0/task:0/device:GPU:0',)\n",
            "I0807 06:29:35.582417 134141255114752 mirrored_strategy.py:423] Using MirroredStrategy with devices ('/job:localhost/replica:0/task:0/device:GPU:0',)\n",
            "INFO:tensorflow:Maybe overwriting train_steps: None\n",
            "I0807 06:29:35.614197 134141255114752 config_util.py:552] Maybe overwriting train_steps: None\n",
            "INFO:tensorflow:Maybe overwriting use_bfloat16: False\n",
            "I0807 06:29:35.614477 134141255114752 config_util.py:552] Maybe overwriting use_bfloat16: False\n",
            "WARNING:tensorflow:From /usr/local/lib/python3.10/dist-packages/object_detection/model_lib_v2.py:563: StrategyBase.experimental_distribute_datasets_from_function (from tensorflow.python.distribute.distribute_lib) is deprecated and will be removed in a future version.\n",
            "Instructions for updating:\n",
            "rename to distribute_datasets_from_function\n",
            "W0807 06:29:35.653771 134141255114752 deprecation.py:50] From /usr/local/lib/python3.10/dist-packages/object_detection/model_lib_v2.py:563: StrategyBase.experimental_distribute_datasets_from_function (from tensorflow.python.distribute.distribute_lib) is deprecated and will be removed in a future version.\n",
            "Instructions for updating:\n",
            "rename to distribute_datasets_from_function\n",
            "INFO:tensorflow:Reading unweighted datasets: ['/content/tensorflow/workspace/training_demo/annotations/train.record']\n",
            "I0807 06:29:35.662059 134141255114752 dataset_builder.py:162] Reading unweighted datasets: ['/content/tensorflow/workspace/training_demo/annotations/train.record']\n",
            "INFO:tensorflow:Reading record datasets for input file: ['/content/tensorflow/workspace/training_demo/annotations/train.record']\n",
            "I0807 06:29:35.662281 134141255114752 dataset_builder.py:79] Reading record datasets for input file: ['/content/tensorflow/workspace/training_demo/annotations/train.record']\n",
            "INFO:tensorflow:Number of filenames to read: 1\n",
            "I0807 06:29:35.662360 134141255114752 dataset_builder.py:80] Number of filenames to read: 1\n",
            "WARNING:tensorflow:num_readers has been reduced to 1 to match input file shards.\n",
            "W0807 06:29:35.662434 134141255114752 dataset_builder.py:86] num_readers has been reduced to 1 to match input file shards.\n",
            "WARNING:tensorflow:From /usr/local/lib/python3.10/dist-packages/object_detection/builders/dataset_builder.py:100: parallel_interleave (from tensorflow.python.data.experimental.ops.interleave_ops) is deprecated and will be removed in a future version.\n",
            "Instructions for updating:\n",
            "Use `tf.data.Dataset.interleave(map_func, cycle_length, block_length, num_parallel_calls=tf.data.AUTOTUNE)` instead. If sloppy execution is desired, use `tf.data.Options.deterministic`.\n",
            "W0807 06:29:35.671855 134141255114752 deprecation.py:50] From /usr/local/lib/python3.10/dist-packages/object_detection/builders/dataset_builder.py:100: parallel_interleave (from tensorflow.python.data.experimental.ops.interleave_ops) is deprecated and will be removed in a future version.\n",
            "Instructions for updating:\n",
            "Use `tf.data.Dataset.interleave(map_func, cycle_length, block_length, num_parallel_calls=tf.data.AUTOTUNE)` instead. If sloppy execution is desired, use `tf.data.Options.deterministic`.\n",
            "WARNING:tensorflow:From /usr/local/lib/python3.10/dist-packages/object_detection/builders/dataset_builder.py:235: DatasetV1.map_with_legacy_function (from tensorflow.python.data.ops.dataset_ops) is deprecated and will be removed in a future version.\n",
            "Instructions for updating:\n",
            "Use `tf.data.Dataset.map()\n",
            "W0807 06:29:35.696110 134141255114752 deprecation.py:50] From /usr/local/lib/python3.10/dist-packages/object_detection/builders/dataset_builder.py:235: DatasetV1.map_with_legacy_function (from tensorflow.python.data.ops.dataset_ops) is deprecated and will be removed in a future version.\n",
            "Instructions for updating:\n",
            "Use `tf.data.Dataset.map()\n",
            "WARNING:tensorflow:From /usr/local/lib/python3.10/dist-packages/tensorflow/python/util/dispatch.py:1260: sparse_to_dense (from tensorflow.python.ops.sparse_ops) is deprecated and will be removed in a future version.\n",
            "Instructions for updating:\n",
            "Create a `tf.sparse.SparseTensor` and use `tf.sparse.to_dense` instead.\n",
            "W0807 06:29:42.922255 134141255114752 deprecation.py:50] From /usr/local/lib/python3.10/dist-packages/tensorflow/python/util/dispatch.py:1260: sparse_to_dense (from tensorflow.python.ops.sparse_ops) is deprecated and will be removed in a future version.\n",
            "Instructions for updating:\n",
            "Create a `tf.sparse.SparseTensor` and use `tf.sparse.to_dense` instead.\n",
            "WARNING:tensorflow:From /usr/local/lib/python3.10/dist-packages/tensorflow/python/util/dispatch.py:1260: sample_distorted_bounding_box (from tensorflow.python.ops.image_ops_impl) is deprecated and will be removed in a future version.\n",
            "Instructions for updating:\n",
            "`seed2` arg is deprecated.Use sample_distorted_bounding_box_v2 instead.\n",
            "W0807 06:29:45.668052 134141255114752 deprecation.py:50] From /usr/local/lib/python3.10/dist-packages/tensorflow/python/util/dispatch.py:1260: sample_distorted_bounding_box (from tensorflow.python.ops.image_ops_impl) is deprecated and will be removed in a future version.\n",
            "Instructions for updating:\n",
            "`seed2` arg is deprecated.Use sample_distorted_bounding_box_v2 instead.\n",
            "WARNING:tensorflow:From /usr/local/lib/python3.10/dist-packages/tensorflow/python/util/dispatch.py:1260: to_float (from tensorflow.python.ops.math_ops) is deprecated and will be removed in a future version.\n",
            "Instructions for updating:\n",
            "Use `tf.cast` instead.\n",
            "W0807 06:29:47.255908 134141255114752 deprecation.py:50] From /usr/local/lib/python3.10/dist-packages/tensorflow/python/util/dispatch.py:1260: to_float (from tensorflow.python.ops.math_ops) is deprecated and will be removed in a future version.\n",
            "Instructions for updating:\n",
            "Use `tf.cast` instead.\n",
            "/usr/local/lib/python3.10/dist-packages/keras/src/backend.py:452: UserWarning: `tf.keras.backend.set_learning_phase` is deprecated and will be removed after 2020-10-11. To update it, simply pass a True/False value to the `training` argument of the `__call__` method of your layer or model.\n",
            "  warnings.warn(\n",
            "I0807 06:29:56.470626 134135673775680 api.py:460] feature_map_spatial_dims: [(80, 80), (40, 40), (20, 20), (10, 10), (5, 5)]\n",
            "I0807 06:30:06.633089 134135673775680 api.py:460] feature_map_spatial_dims: [(80, 80), (40, 40), (20, 20), (10, 10), (5, 5)]\n",
            "INFO:tensorflow:Reduce to /job:localhost/replica:0/task:0/device:CPU:0 then broadcast to ('/job:localhost/replica:0/task:0/device:CPU:0',).\n",
            "I0807 06:30:20.052263 134141255114752 cross_device_ops.py:619] Reduce to /job:localhost/replica:0/task:0/device:CPU:0 then broadcast to ('/job:localhost/replica:0/task:0/device:CPU:0',).\n",
            "INFO:tensorflow:Reduce to /job:localhost/replica:0/task:0/device:CPU:0 then broadcast to ('/job:localhost/replica:0/task:0/device:CPU:0',).\n",
            "I0807 06:30:20.054992 134141255114752 cross_device_ops.py:619] Reduce to /job:localhost/replica:0/task:0/device:CPU:0 then broadcast to ('/job:localhost/replica:0/task:0/device:CPU:0',).\n",
            "INFO:tensorflow:Reduce to /job:localhost/replica:0/task:0/device:CPU:0 then broadcast to ('/job:localhost/replica:0/task:0/device:CPU:0',).\n",
            "I0807 06:30:20.056197 134141255114752 cross_device_ops.py:619] Reduce to /job:localhost/replica:0/task:0/device:CPU:0 then broadcast to ('/job:localhost/replica:0/task:0/device:CPU:0',).\n",
            "INFO:tensorflow:Reduce to /job:localhost/replica:0/task:0/device:CPU:0 then broadcast to ('/job:localhost/replica:0/task:0/device:CPU:0',).\n",
            "I0807 06:30:20.057233 134141255114752 cross_device_ops.py:619] Reduce to /job:localhost/replica:0/task:0/device:CPU:0 then broadcast to ('/job:localhost/replica:0/task:0/device:CPU:0',).\n",
            "INFO:tensorflow:Reduce to /job:localhost/replica:0/task:0/device:CPU:0 then broadcast to ('/job:localhost/replica:0/task:0/device:CPU:0',).\n",
            "I0807 06:30:20.060698 134141255114752 cross_device_ops.py:619] Reduce to /job:localhost/replica:0/task:0/device:CPU:0 then broadcast to ('/job:localhost/replica:0/task:0/device:CPU:0',).\n",
            "INFO:tensorflow:Reduce to /job:localhost/replica:0/task:0/device:CPU:0 then broadcast to ('/job:localhost/replica:0/task:0/device:CPU:0',).\n",
            "I0807 06:30:20.061661 134141255114752 cross_device_ops.py:619] Reduce to /job:localhost/replica:0/task:0/device:CPU:0 then broadcast to ('/job:localhost/replica:0/task:0/device:CPU:0',).\n",
            "INFO:tensorflow:Reduce to /job:localhost/replica:0/task:0/device:CPU:0 then broadcast to ('/job:localhost/replica:0/task:0/device:CPU:0',).\n",
            "I0807 06:30:20.062675 134141255114752 cross_device_ops.py:619] Reduce to /job:localhost/replica:0/task:0/device:CPU:0 then broadcast to ('/job:localhost/replica:0/task:0/device:CPU:0',).\n",
            "INFO:tensorflow:Reduce to /job:localhost/replica:0/task:0/device:CPU:0 then broadcast to ('/job:localhost/replica:0/task:0/device:CPU:0',).\n",
            "I0807 06:30:20.063602 134141255114752 cross_device_ops.py:619] Reduce to /job:localhost/replica:0/task:0/device:CPU:0 then broadcast to ('/job:localhost/replica:0/task:0/device:CPU:0',).\n",
            "INFO:tensorflow:Reduce to /job:localhost/replica:0/task:0/device:CPU:0 then broadcast to ('/job:localhost/replica:0/task:0/device:CPU:0',).\n",
            "I0807 06:30:20.067757 134141255114752 cross_device_ops.py:619] Reduce to /job:localhost/replica:0/task:0/device:CPU:0 then broadcast to ('/job:localhost/replica:0/task:0/device:CPU:0',).\n",
            "INFO:tensorflow:Reduce to /job:localhost/replica:0/task:0/device:CPU:0 then broadcast to ('/job:localhost/replica:0/task:0/device:CPU:0',).\n",
            "I0807 06:30:20.068942 134141255114752 cross_device_ops.py:619] Reduce to /job:localhost/replica:0/task:0/device:CPU:0 then broadcast to ('/job:localhost/replica:0/task:0/device:CPU:0',).\n",
            "I0807 06:30:22.680658 134135720965696 api.py:460] feature_map_spatial_dims: [(80, 80), (40, 40), (20, 20), (10, 10), (5, 5)]\n",
            "I0807 06:30:29.999287 134135720965696 api.py:460] feature_map_spatial_dims: [(80, 80), (40, 40), (20, 20), (10, 10), (5, 5)]\n",
            "I0807 06:30:36.687952 134135720965696 api.py:460] feature_map_spatial_dims: [(80, 80), (40, 40), (20, 20), (10, 10), (5, 5)]\n",
            "I0807 06:30:43.871977 134135720965696 api.py:460] feature_map_spatial_dims: [(80, 80), (40, 40), (20, 20), (10, 10), (5, 5)]\n",
            "2024-08-07 06:31:04.869135: W tensorflow/tsl/framework/bfc_allocator.cc:296] Allocator (GPU_0_bfc) ran out of memory trying to allocate 4.27GiB with freed_by_count=0. The caller indicates that this is not a failure, but this may mean that there could be performance gains if more memory were available.\n",
            "2024-08-07 06:31:04.869210: W tensorflow/tsl/framework/bfc_allocator.cc:296] Allocator (GPU_0_bfc) ran out of memory trying to allocate 4.27GiB with freed_by_count=0. The caller indicates that this is not a failure, but this may mean that there could be performance gains if more memory were available.\n",
            "2024-08-07 06:31:04.895247: W tensorflow/tsl/framework/bfc_allocator.cc:296] Allocator (GPU_0_bfc) ran out of memory trying to allocate 4.28GiB with freed_by_count=0. The caller indicates that this is not a failure, but this may mean that there could be performance gains if more memory were available.\n",
            "2024-08-07 06:31:04.895306: W tensorflow/tsl/framework/bfc_allocator.cc:296] Allocator (GPU_0_bfc) ran out of memory trying to allocate 4.28GiB with freed_by_count=0. The caller indicates that this is not a failure, but this may mean that there could be performance gains if more memory were available.\n",
            "INFO:tensorflow:Step 100 per-step time 1.533s\n",
            "I0807 06:32:54.618684 134141255114752 model_lib_v2.py:705] Step 100 per-step time 1.533s\n",
            "INFO:tensorflow:{'Loss/classification_loss': 1.2608173,\n",
            " 'Loss/localization_loss': 0.50808895,\n",
            " 'Loss/regularization_loss': 1.2531908,\n",
            " 'Loss/total_loss': 3.022097,\n",
            " 'learning_rate': 0.014666351}\n",
            "I0807 06:32:54.619388 134141255114752 model_lib_v2.py:708] {'Loss/classification_loss': 1.2608173,\n",
            " 'Loss/localization_loss': 0.50808895,\n",
            " 'Loss/regularization_loss': 1.2531908,\n",
            " 'Loss/total_loss': 3.022097,\n",
            " 'learning_rate': 0.014666351}\n",
            "INFO:tensorflow:Step 200 per-step time 1.066s\n",
            "I0807 06:34:41.174310 134141255114752 model_lib_v2.py:705] Step 200 per-step time 1.066s\n",
            "INFO:tensorflow:{'Loss/classification_loss': 0.58750546,\n",
            " 'Loss/localization_loss': 0.39277366,\n",
            " 'Loss/regularization_loss': 1.2396402,\n",
            " 'Loss/total_loss': 2.2199194,\n",
            " 'learning_rate': 0.0159997}\n",
            "I0807 06:34:41.174668 134141255114752 model_lib_v2.py:708] {'Loss/classification_loss': 0.58750546,\n",
            " 'Loss/localization_loss': 0.39277366,\n",
            " 'Loss/regularization_loss': 1.2396402,\n",
            " 'Loss/total_loss': 2.2199194,\n",
            " 'learning_rate': 0.0159997}\n",
            "INFO:tensorflow:Step 300 per-step time 1.064s\n",
            "I0807 06:36:27.611391 134141255114752 model_lib_v2.py:705] Step 300 per-step time 1.064s\n",
            "INFO:tensorflow:{'Loss/classification_loss': 0.44069296,\n",
            " 'Loss/localization_loss': 0.3936714,\n",
            " 'Loss/regularization_loss': 1.2242484,\n",
            " 'Loss/total_loss': 2.0586128,\n",
            " 'learning_rate': 0.01733305}\n",
            "I0807 06:36:27.611756 134141255114752 model_lib_v2.py:708] {'Loss/classification_loss': 0.44069296,\n",
            " 'Loss/localization_loss': 0.3936714,\n",
            " 'Loss/regularization_loss': 1.2242484,\n",
            " 'Loss/total_loss': 2.0586128,\n",
            " 'learning_rate': 0.01733305}\n",
            "INFO:tensorflow:Step 400 per-step time 1.064s\n",
            "I0807 06:38:14.032728 134141255114752 model_lib_v2.py:705] Step 400 per-step time 1.064s\n",
            "INFO:tensorflow:{'Loss/classification_loss': 0.3005359,\n",
            " 'Loss/localization_loss': 0.21348569,\n",
            " 'Loss/regularization_loss': 1.209167,\n",
            " 'Loss/total_loss': 1.7231886,\n",
            " 'learning_rate': 0.0186664}\n",
            "I0807 06:38:14.033159 134141255114752 model_lib_v2.py:708] {'Loss/classification_loss': 0.3005359,\n",
            " 'Loss/localization_loss': 0.21348569,\n",
            " 'Loss/regularization_loss': 1.209167,\n",
            " 'Loss/total_loss': 1.7231886,\n",
            " 'learning_rate': 0.0186664}\n",
            "INFO:tensorflow:Step 500 per-step time 1.064s\n",
            "I0807 06:40:00.475907 134141255114752 model_lib_v2.py:705] Step 500 per-step time 1.064s\n",
            "INFO:tensorflow:{'Loss/classification_loss': 0.39068192,\n",
            " 'Loss/localization_loss': 0.28745535,\n",
            " 'Loss/regularization_loss': 1.1916901,\n",
            " 'Loss/total_loss': 1.8698273,\n",
            " 'learning_rate': 0.01999975}\n",
            "I0807 06:40:00.476282 134141255114752 model_lib_v2.py:708] {'Loss/classification_loss': 0.39068192,\n",
            " 'Loss/localization_loss': 0.28745535,\n",
            " 'Loss/regularization_loss': 1.1916901,\n",
            " 'Loss/total_loss': 1.8698273,\n",
            " 'learning_rate': 0.01999975}\n",
            "INFO:tensorflow:Step 600 per-step time 1.065s\n",
            "I0807 06:41:47.022009 134141255114752 model_lib_v2.py:705] Step 600 per-step time 1.065s\n",
            "INFO:tensorflow:{'Loss/classification_loss': 0.34669927,\n",
            " 'Loss/localization_loss': 0.19291219,\n",
            " 'Loss/regularization_loss': 1.17407,\n",
            " 'Loss/total_loss': 1.7136815,\n",
            " 'learning_rate': 0.0213331}\n",
            "I0807 06:41:47.022412 134141255114752 model_lib_v2.py:708] {'Loss/classification_loss': 0.34669927,\n",
            " 'Loss/localization_loss': 0.19291219,\n",
            " 'Loss/regularization_loss': 1.17407,\n",
            " 'Loss/total_loss': 1.7136815,\n",
            " 'learning_rate': 0.0213331}\n",
            "INFO:tensorflow:Step 700 per-step time 1.065s\n",
            "I0807 06:43:33.565018 134141255114752 model_lib_v2.py:705] Step 700 per-step time 1.065s\n",
            "INFO:tensorflow:{'Loss/classification_loss': 0.36477107,\n",
            " 'Loss/localization_loss': 0.21984434,\n",
            " 'Loss/regularization_loss': 1.1563433,\n",
            " 'Loss/total_loss': 1.7409587,\n",
            " 'learning_rate': 0.02266645}\n",
            "I0807 06:43:33.565457 134141255114752 model_lib_v2.py:708] {'Loss/classification_loss': 0.36477107,\n",
            " 'Loss/localization_loss': 0.21984434,\n",
            " 'Loss/regularization_loss': 1.1563433,\n",
            " 'Loss/total_loss': 1.7409587,\n",
            " 'learning_rate': 0.02266645}\n",
            "INFO:tensorflow:Step 800 per-step time 1.064s\n",
            "I0807 06:45:19.933544 134141255114752 model_lib_v2.py:705] Step 800 per-step time 1.064s\n",
            "INFO:tensorflow:{'Loss/classification_loss': 0.38171157,\n",
            " 'Loss/localization_loss': 0.22442713,\n",
            " 'Loss/regularization_loss': 1.1502403,\n",
            " 'Loss/total_loss': 1.756379,\n",
            " 'learning_rate': 0.023999799}\n",
            "I0807 06:45:19.933963 134141255114752 model_lib_v2.py:708] {'Loss/classification_loss': 0.38171157,\n",
            " 'Loss/localization_loss': 0.22442713,\n",
            " 'Loss/regularization_loss': 1.1502403,\n",
            " 'Loss/total_loss': 1.756379,\n",
            " 'learning_rate': 0.023999799}\n",
            "INFO:tensorflow:Step 900 per-step time 1.064s\n",
            "I0807 06:47:06.312663 134141255114752 model_lib_v2.py:705] Step 900 per-step time 1.064s\n",
            "INFO:tensorflow:{'Loss/classification_loss': 0.5040641,\n",
            " 'Loss/localization_loss': 0.35399276,\n",
            " 'Loss/regularization_loss': 1.1302917,\n",
            " 'Loss/total_loss': 1.9883485,\n",
            " 'learning_rate': 0.025333151}\n",
            "I0807 06:47:06.313003 134141255114752 model_lib_v2.py:708] {'Loss/classification_loss': 0.5040641,\n",
            " 'Loss/localization_loss': 0.35399276,\n",
            " 'Loss/regularization_loss': 1.1302917,\n",
            " 'Loss/total_loss': 1.9883485,\n",
            " 'learning_rate': 0.025333151}\n",
            "INFO:tensorflow:Step 1000 per-step time 1.064s\n",
            "I0807 06:48:52.681386 134141255114752 model_lib_v2.py:705] Step 1000 per-step time 1.064s\n",
            "INFO:tensorflow:{'Loss/classification_loss': 0.5254508,\n",
            " 'Loss/localization_loss': 0.30682167,\n",
            " 'Loss/regularization_loss': 1.1093838,\n",
            " 'Loss/total_loss': 1.9416564,\n",
            " 'learning_rate': 0.0266665}\n",
            "I0807 06:48:52.681730 134141255114752 model_lib_v2.py:708] {'Loss/classification_loss': 0.5254508,\n",
            " 'Loss/localization_loss': 0.30682167,\n",
            " 'Loss/regularization_loss': 1.1093838,\n",
            " 'Loss/total_loss': 1.9416564,\n",
            " 'learning_rate': 0.0266665}\n",
            "INFO:tensorflow:Step 1100 per-step time 1.123s\n",
            "I0807 06:50:44.947892 134141255114752 model_lib_v2.py:705] Step 1100 per-step time 1.123s\n",
            "INFO:tensorflow:{'Loss/classification_loss': 0.58919555,\n",
            " 'Loss/localization_loss': 0.34067053,\n",
            " 'Loss/regularization_loss': 1.0873321,\n",
            " 'Loss/total_loss': 2.0171983,\n",
            " 'learning_rate': 0.02799985}\n",
            "I0807 06:50:44.949050 134141255114752 model_lib_v2.py:708] {'Loss/classification_loss': 0.58919555,\n",
            " 'Loss/localization_loss': 0.34067053,\n",
            " 'Loss/regularization_loss': 1.0873321,\n",
            " 'Loss/total_loss': 2.0171983,\n",
            " 'learning_rate': 0.02799985}\n",
            "INFO:tensorflow:Step 1200 per-step time 1.065s\n",
            "I0807 06:52:31.450631 134141255114752 model_lib_v2.py:705] Step 1200 per-step time 1.065s\n",
            "INFO:tensorflow:{'Loss/classification_loss': 0.39668816,\n",
            " 'Loss/localization_loss': 0.20852514,\n",
            " 'Loss/regularization_loss': 1.0646673,\n",
            " 'Loss/total_loss': 1.6698806,\n",
            " 'learning_rate': 0.0293332}\n",
            "I0807 06:52:31.450982 134141255114752 model_lib_v2.py:708] {'Loss/classification_loss': 0.39668816,\n",
            " 'Loss/localization_loss': 0.20852514,\n",
            " 'Loss/regularization_loss': 1.0646673,\n",
            " 'Loss/total_loss': 1.6698806,\n",
            " 'learning_rate': 0.0293332}\n",
            "INFO:tensorflow:Step 1300 per-step time 1.066s\n",
            "I0807 06:54:18.008836 134141255114752 model_lib_v2.py:705] Step 1300 per-step time 1.066s\n",
            "INFO:tensorflow:{'Loss/classification_loss': 0.33788958,\n",
            " 'Loss/localization_loss': 0.17351462,\n",
            " 'Loss/regularization_loss': 1.0414569,\n",
            " 'Loss/total_loss': 1.5528611,\n",
            " 'learning_rate': 0.03066655}\n",
            "I0807 06:54:18.009203 134141255114752 model_lib_v2.py:708] {'Loss/classification_loss': 0.33788958,\n",
            " 'Loss/localization_loss': 0.17351462,\n",
            " 'Loss/regularization_loss': 1.0414569,\n",
            " 'Loss/total_loss': 1.5528611,\n",
            " 'learning_rate': 0.03066655}\n",
            "INFO:tensorflow:Step 1400 per-step time 1.064s\n",
            "I0807 06:56:04.450686 134141255114752 model_lib_v2.py:705] Step 1400 per-step time 1.064s\n",
            "INFO:tensorflow:{'Loss/classification_loss': 0.2526482,\n",
            " 'Loss/localization_loss': 0.14062473,\n",
            " 'Loss/regularization_loss': 1.0184135,\n",
            " 'Loss/total_loss': 1.4116865,\n",
            " 'learning_rate': 0.0319999}\n",
            "I0807 06:56:04.451073 134141255114752 model_lib_v2.py:708] {'Loss/classification_loss': 0.2526482,\n",
            " 'Loss/localization_loss': 0.14062473,\n",
            " 'Loss/regularization_loss': 1.0184135,\n",
            " 'Loss/total_loss': 1.4116865,\n",
            " 'learning_rate': 0.0319999}\n",
            "INFO:tensorflow:Step 1500 per-step time 1.066s\n",
            "I0807 06:57:51.037701 134141255114752 model_lib_v2.py:705] Step 1500 per-step time 1.066s\n",
            "INFO:tensorflow:{'Loss/classification_loss': 0.41794938,\n",
            " 'Loss/localization_loss': 0.21588734,\n",
            " 'Loss/regularization_loss': 0.9942135,\n",
            " 'Loss/total_loss': 1.6280502,\n",
            " 'learning_rate': 0.03333325}\n",
            "I0807 06:57:51.038055 134141255114752 model_lib_v2.py:708] {'Loss/classification_loss': 0.41794938,\n",
            " 'Loss/localization_loss': 0.21588734,\n",
            " 'Loss/regularization_loss': 0.9942135,\n",
            " 'Loss/total_loss': 1.6280502,\n",
            " 'learning_rate': 0.03333325}\n",
            "INFO:tensorflow:Step 1600 per-step time 1.064s\n",
            "I0807 06:59:37.486814 134141255114752 model_lib_v2.py:705] Step 1600 per-step time 1.064s\n",
            "INFO:tensorflow:{'Loss/classification_loss': 0.3437571,\n",
            " 'Loss/localization_loss': 0.106409445,\n",
            " 'Loss/regularization_loss': 0.9706926,\n",
            " 'Loss/total_loss': 1.4208591,\n",
            " 'learning_rate': 0.034666598}\n",
            "I0807 06:59:37.487209 134141255114752 model_lib_v2.py:708] {'Loss/classification_loss': 0.3437571,\n",
            " 'Loss/localization_loss': 0.106409445,\n",
            " 'Loss/regularization_loss': 0.9706926,\n",
            " 'Loss/total_loss': 1.4208591,\n",
            " 'learning_rate': 0.034666598}\n",
            "INFO:tensorflow:Step 1700 per-step time 1.066s\n",
            "I0807 07:01:24.134665 134141255114752 model_lib_v2.py:705] Step 1700 per-step time 1.066s\n",
            "INFO:tensorflow:{'Loss/classification_loss': 0.2538204,\n",
            " 'Loss/localization_loss': 0.11721396,\n",
            " 'Loss/regularization_loss': 0.94621307,\n",
            " 'Loss/total_loss': 1.3172474,\n",
            " 'learning_rate': 0.03599995}\n",
            "I0807 07:01:24.135003 134141255114752 model_lib_v2.py:708] {'Loss/classification_loss': 0.2538204,\n",
            " 'Loss/localization_loss': 0.11721396,\n",
            " 'Loss/regularization_loss': 0.94621307,\n",
            " 'Loss/total_loss': 1.3172474,\n",
            " 'learning_rate': 0.03599995}\n",
            "INFO:tensorflow:Step 1800 per-step time 1.065s\n",
            "I0807 07:03:10.645868 134141255114752 model_lib_v2.py:705] Step 1800 per-step time 1.065s\n",
            "INFO:tensorflow:{'Loss/classification_loss': 0.32618108,\n",
            " 'Loss/localization_loss': 0.13151872,\n",
            " 'Loss/regularization_loss': 0.92158884,\n",
            " 'Loss/total_loss': 1.3792887,\n",
            " 'learning_rate': 0.037333302}\n",
            "I0807 07:03:10.646260 134141255114752 model_lib_v2.py:708] {'Loss/classification_loss': 0.32618108,\n",
            " 'Loss/localization_loss': 0.13151872,\n",
            " 'Loss/regularization_loss': 0.92158884,\n",
            " 'Loss/total_loss': 1.3792887,\n",
            " 'learning_rate': 0.037333302}\n",
            "INFO:tensorflow:Step 1900 per-step time 1.064s\n",
            "I0807 07:04:57.068789 134141255114752 model_lib_v2.py:705] Step 1900 per-step time 1.064s\n",
            "INFO:tensorflow:{'Loss/classification_loss': 0.20557243,\n",
            " 'Loss/localization_loss': 0.05752249,\n",
            " 'Loss/regularization_loss': 0.89693224,\n",
            " 'Loss/total_loss': 1.1600273,\n",
            " 'learning_rate': 0.03866665}\n",
            "I0807 07:04:57.069176 134141255114752 model_lib_v2.py:708] {'Loss/classification_loss': 0.20557243,\n",
            " 'Loss/localization_loss': 0.05752249,\n",
            " 'Loss/regularization_loss': 0.89693224,\n",
            " 'Loss/total_loss': 1.1600273,\n",
            " 'learning_rate': 0.03866665}\n",
            "INFO:tensorflow:Step 2000 per-step time 1.064s\n",
            "I0807 07:06:43.448147 134141255114752 model_lib_v2.py:705] Step 2000 per-step time 1.064s\n",
            "INFO:tensorflow:{'Loss/classification_loss': 0.3385141,\n",
            " 'Loss/localization_loss': 0.10621193,\n",
            " 'Loss/regularization_loss': 0.87216914,\n",
            " 'Loss/total_loss': 1.3168951,\n",
            " 'learning_rate': 0.04}\n",
            "I0807 07:06:43.448487 134141255114752 model_lib_v2.py:708] {'Loss/classification_loss': 0.3385141,\n",
            " 'Loss/localization_loss': 0.10621193,\n",
            " 'Loss/regularization_loss': 0.87216914,\n",
            " 'Loss/total_loss': 1.3168951,\n",
            " 'learning_rate': 0.04}\n",
            "INFO:tensorflow:Step 2100 per-step time 1.129s\n",
            "I0807 07:08:36.371985 134141255114752 model_lib_v2.py:705] Step 2100 per-step time 1.129s\n",
            "INFO:tensorflow:{'Loss/classification_loss': 0.2927284,\n",
            " 'Loss/localization_loss': 0.15282418,\n",
            " 'Loss/regularization_loss': 0.8474111,\n",
            " 'Loss/total_loss': 1.2929636,\n",
            " 'learning_rate': 0.039890435}\n",
            "I0807 07:08:36.372401 134141255114752 model_lib_v2.py:708] {'Loss/classification_loss': 0.2927284,\n",
            " 'Loss/localization_loss': 0.15282418,\n",
            " 'Loss/regularization_loss': 0.8474111,\n",
            " 'Loss/total_loss': 1.2929636,\n",
            " 'learning_rate': 0.039890435}\n",
            "INFO:tensorflow:Step 2200 per-step time 1.064s\n",
            "I0807 07:10:22.743459 134141255114752 model_lib_v2.py:705] Step 2200 per-step time 1.064s\n",
            "INFO:tensorflow:{'Loss/classification_loss': 0.26017103,\n",
            " 'Loss/localization_loss': 0.15224907,\n",
            " 'Loss/regularization_loss': 0.8233306,\n",
            " 'Loss/total_loss': 1.2357507,\n",
            " 'learning_rate': 0.03956295}\n",
            "I0807 07:10:22.743801 134141255114752 model_lib_v2.py:708] {'Loss/classification_loss': 0.26017103,\n",
            " 'Loss/localization_loss': 0.15224907,\n",
            " 'Loss/regularization_loss': 0.8233306,\n",
            " 'Loss/total_loss': 1.2357507,\n",
            " 'learning_rate': 0.03956295}\n",
            "INFO:tensorflow:Step 2300 per-step time 1.066s\n",
            "I0807 07:12:09.342912 134141255114752 model_lib_v2.py:705] Step 2300 per-step time 1.066s\n",
            "INFO:tensorflow:{'Loss/classification_loss': 0.3057444,\n",
            " 'Loss/localization_loss': 0.16326854,\n",
            " 'Loss/regularization_loss': 0.8001811,\n",
            " 'Loss/total_loss': 1.2691941,\n",
            " 'learning_rate': 0.039021127}\n",
            "I0807 07:12:09.343290 134141255114752 model_lib_v2.py:708] {'Loss/classification_loss': 0.3057444,\n",
            " 'Loss/localization_loss': 0.16326854,\n",
            " 'Loss/regularization_loss': 0.8001811,\n",
            " 'Loss/total_loss': 1.2691941,\n",
            " 'learning_rate': 0.039021127}\n",
            "INFO:tensorflow:Step 2400 per-step time 1.066s\n",
            "I0807 07:13:55.901154 134141255114752 model_lib_v2.py:705] Step 2400 per-step time 1.066s\n",
            "INFO:tensorflow:{'Loss/classification_loss': 0.32022923,\n",
            " 'Loss/localization_loss': 0.100746356,\n",
            " 'Loss/regularization_loss': 0.77801657,\n",
            " 'Loss/total_loss': 1.1989923,\n",
            " 'learning_rate': 0.03827091}\n",
            "I0807 07:13:55.901518 134141255114752 model_lib_v2.py:708] {'Loss/classification_loss': 0.32022923,\n",
            " 'Loss/localization_loss': 0.100746356,\n",
            " 'Loss/regularization_loss': 0.77801657,\n",
            " 'Loss/total_loss': 1.1989923,\n",
            " 'learning_rate': 0.03827091}\n",
            "INFO:tensorflow:Step 2500 per-step time 1.066s\n",
            "I0807 07:15:42.524564 134141255114752 model_lib_v2.py:705] Step 2500 per-step time 1.066s\n",
            "INFO:tensorflow:{'Loss/classification_loss': 0.21813115,\n",
            " 'Loss/localization_loss': 0.07154763,\n",
            " 'Loss/regularization_loss': 0.7568463,\n",
            " 'Loss/total_loss': 1.0465251,\n",
            " 'learning_rate': 0.03732051}\n",
            "I0807 07:15:42.524911 134141255114752 model_lib_v2.py:708] {'Loss/classification_loss': 0.21813115,\n",
            " 'Loss/localization_loss': 0.07154763,\n",
            " 'Loss/regularization_loss': 0.7568463,\n",
            " 'Loss/total_loss': 1.0465251,\n",
            " 'learning_rate': 0.03732051}\n",
            "INFO:tensorflow:Step 2600 per-step time 1.067s\n",
            "I0807 07:17:29.264229 134141255114752 model_lib_v2.py:705] Step 2600 per-step time 1.067s\n",
            "INFO:tensorflow:{'Loss/classification_loss': 0.15981066,\n",
            " 'Loss/localization_loss': 0.06139661,\n",
            " 'Loss/regularization_loss': 0.7368534,\n",
            " 'Loss/total_loss': 0.9580607,\n",
            " 'learning_rate': 0.03618034}\n",
            "I0807 07:17:29.264576 134141255114752 model_lib_v2.py:708] {'Loss/classification_loss': 0.15981066,\n",
            " 'Loss/localization_loss': 0.06139661,\n",
            " 'Loss/regularization_loss': 0.7368534,\n",
            " 'Loss/total_loss': 0.9580607,\n",
            " 'learning_rate': 0.03618034}\n",
            "INFO:tensorflow:Step 2700 per-step time 1.067s\n",
            "I0807 07:19:15.982649 134141255114752 model_lib_v2.py:705] Step 2700 per-step time 1.067s\n",
            "INFO:tensorflow:{'Loss/classification_loss': 0.2668002,\n",
            " 'Loss/localization_loss': 0.121851206,\n",
            " 'Loss/regularization_loss': 0.7180033,\n",
            " 'Loss/total_loss': 1.1066546,\n",
            " 'learning_rate': 0.034862895}\n",
            "I0807 07:19:15.982990 134141255114752 model_lib_v2.py:708] {'Loss/classification_loss': 0.2668002,\n",
            " 'Loss/localization_loss': 0.121851206,\n",
            " 'Loss/regularization_loss': 0.7180033,\n",
            " 'Loss/total_loss': 1.1066546,\n",
            " 'learning_rate': 0.034862895}\n",
            "INFO:tensorflow:Step 2800 per-step time 1.066s\n",
            "I0807 07:21:02.550925 134141255114752 model_lib_v2.py:705] Step 2800 per-step time 1.066s\n",
            "INFO:tensorflow:{'Loss/classification_loss': 0.17694186,\n",
            " 'Loss/localization_loss': 0.04501381,\n",
            " 'Loss/regularization_loss': 0.700407,\n",
            " 'Loss/total_loss': 0.9223627,\n",
            " 'learning_rate': 0.03338261}\n",
            "I0807 07:21:02.551279 134141255114752 model_lib_v2.py:708] {'Loss/classification_loss': 0.17694186,\n",
            " 'Loss/localization_loss': 0.04501381,\n",
            " 'Loss/regularization_loss': 0.700407,\n",
            " 'Loss/total_loss': 0.9223627,\n",
            " 'learning_rate': 0.03338261}\n",
            "INFO:tensorflow:Step 2900 per-step time 1.065s\n",
            "I0807 07:22:49.003693 134141255114752 model_lib_v2.py:705] Step 2900 per-step time 1.065s\n",
            "INFO:tensorflow:{'Loss/classification_loss': 0.16053972,\n",
            " 'Loss/localization_loss': 0.066161625,\n",
            " 'Loss/regularization_loss': 0.6839216,\n",
            " 'Loss/total_loss': 0.91062295,\n",
            " 'learning_rate': 0.031755704}\n",
            "I0807 07:22:49.004015 134141255114752 model_lib_v2.py:708] {'Loss/classification_loss': 0.16053972,\n",
            " 'Loss/localization_loss': 0.066161625,\n",
            " 'Loss/regularization_loss': 0.6839216,\n",
            " 'Loss/total_loss': 0.91062295,\n",
            " 'learning_rate': 0.031755704}\n",
            "INFO:tensorflow:Step 3000 per-step time 1.063s\n",
            "I0807 07:24:35.305667 134141255114752 model_lib_v2.py:705] Step 3000 per-step time 1.063s\n",
            "INFO:tensorflow:{'Loss/classification_loss': 0.21131295,\n",
            " 'Loss/localization_loss': 0.063618004,\n",
            " 'Loss/regularization_loss': 0.6686027,\n",
            " 'Loss/total_loss': 0.94353366,\n",
            " 'learning_rate': 0.03}\n",
            "I0807 07:24:35.306037 134141255114752 model_lib_v2.py:708] {'Loss/classification_loss': 0.21131295,\n",
            " 'Loss/localization_loss': 0.063618004,\n",
            " 'Loss/regularization_loss': 0.6686027,\n",
            " 'Loss/total_loss': 0.94353366,\n",
            " 'learning_rate': 0.03}\n",
            "INFO:tensorflow:Step 3100 per-step time 1.144s\n",
            "I0807 07:26:29.658312 134141255114752 model_lib_v2.py:705] Step 3100 per-step time 1.144s\n",
            "INFO:tensorflow:{'Loss/classification_loss': 0.16475014,\n",
            " 'Loss/localization_loss': 0.040209662,\n",
            " 'Loss/regularization_loss': 0.6544353,\n",
            " 'Loss/total_loss': 0.8593951,\n",
            " 'learning_rate': 0.028134732}\n",
            "I0807 07:26:29.658672 134141255114752 model_lib_v2.py:708] {'Loss/classification_loss': 0.16475014,\n",
            " 'Loss/localization_loss': 0.040209662,\n",
            " 'Loss/regularization_loss': 0.6544353,\n",
            " 'Loss/total_loss': 0.8593951,\n",
            " 'learning_rate': 0.028134732}\n",
            "INFO:tensorflow:Step 3200 per-step time 1.065s\n",
            "I0807 07:28:16.196900 134141255114752 model_lib_v2.py:705] Step 3200 per-step time 1.065s\n",
            "INFO:tensorflow:{'Loss/classification_loss': 0.19963862,\n",
            " 'Loss/localization_loss': 0.07297291,\n",
            " 'Loss/regularization_loss': 0.64142966,\n",
            " 'Loss/total_loss': 0.91404116,\n",
            " 'learning_rate': 0.026180338}\n",
            "I0807 07:28:16.197278 134141255114752 model_lib_v2.py:708] {'Loss/classification_loss': 0.19963862,\n",
            " 'Loss/localization_loss': 0.07297291,\n",
            " 'Loss/regularization_loss': 0.64142966,\n",
            " 'Loss/total_loss': 0.91404116,\n",
            " 'learning_rate': 0.026180338}\n",
            "INFO:tensorflow:Step 3300 per-step time 1.067s\n",
            "I0807 07:30:02.851858 134141255114752 model_lib_v2.py:705] Step 3300 per-step time 1.067s\n",
            "INFO:tensorflow:{'Loss/classification_loss': 0.22670068,\n",
            " 'Loss/localization_loss': 0.07025587,\n",
            " 'Loss/regularization_loss': 0.6296165,\n",
            " 'Loss/total_loss': 0.92657304,\n",
            " 'learning_rate': 0.024158232}\n",
            "I0807 07:30:02.852203 134141255114752 model_lib_v2.py:708] {'Loss/classification_loss': 0.22670068,\n",
            " 'Loss/localization_loss': 0.07025587,\n",
            " 'Loss/regularization_loss': 0.6296165,\n",
            " 'Loss/total_loss': 0.92657304,\n",
            " 'learning_rate': 0.024158232}\n",
            "INFO:tensorflow:Step 3400 per-step time 1.065s\n",
            "I0807 07:31:49.381408 134141255114752 model_lib_v2.py:705] Step 3400 per-step time 1.065s\n",
            "INFO:tensorflow:{'Loss/classification_loss': 0.1834196,\n",
            " 'Loss/localization_loss': 0.054973595,\n",
            " 'Loss/regularization_loss': 0.6187867,\n",
            " 'Loss/total_loss': 0.8571799,\n",
            " 'learning_rate': 0.022090567}\n",
            "I0807 07:31:49.381744 134141255114752 model_lib_v2.py:708] {'Loss/classification_loss': 0.1834196,\n",
            " 'Loss/localization_loss': 0.054973595,\n",
            " 'Loss/regularization_loss': 0.6187867,\n",
            " 'Loss/total_loss': 0.8571799,\n",
            " 'learning_rate': 0.022090567}\n",
            "INFO:tensorflow:Step 3500 per-step time 1.067s\n",
            "I0807 07:33:36.055247 134141255114752 model_lib_v2.py:705] Step 3500 per-step time 1.067s\n",
            "INFO:tensorflow:{'Loss/classification_loss': 0.22658068,\n",
            " 'Loss/localization_loss': 0.08041819,\n",
            " 'Loss/regularization_loss': 0.6091022,\n",
            " 'Loss/total_loss': 0.91610104,\n",
            " 'learning_rate': 0.019999998}\n",
            "I0807 07:33:36.055590 134141255114752 model_lib_v2.py:708] {'Loss/classification_loss': 0.22658068,\n",
            " 'Loss/localization_loss': 0.08041819,\n",
            " 'Loss/regularization_loss': 0.6091022,\n",
            " 'Loss/total_loss': 0.91610104,\n",
            " 'learning_rate': 0.019999998}\n",
            "INFO:tensorflow:Step 3600 per-step time 1.069s\n",
            "I0807 07:35:22.978738 134141255114752 model_lib_v2.py:705] Step 3600 per-step time 1.069s\n",
            "INFO:tensorflow:{'Loss/classification_loss': 0.23187514,\n",
            " 'Loss/localization_loss': 0.049935684,\n",
            " 'Loss/regularization_loss': 0.60052115,\n",
            " 'Loss/total_loss': 0.88233197,\n",
            " 'learning_rate': 0.01790943}\n",
            "I0807 07:35:22.979055 134141255114752 model_lib_v2.py:708] {'Loss/classification_loss': 0.23187514,\n",
            " 'Loss/localization_loss': 0.049935684,\n",
            " 'Loss/regularization_loss': 0.60052115,\n",
            " 'Loss/total_loss': 0.88233197,\n",
            " 'learning_rate': 0.01790943}\n",
            "INFO:tensorflow:Step 3700 per-step time 1.067s\n",
            "I0807 07:37:09.629935 134141255114752 model_lib_v2.py:705] Step 3700 per-step time 1.067s\n",
            "INFO:tensorflow:{'Loss/classification_loss': 0.1710002,\n",
            " 'Loss/localization_loss': 0.046850774,\n",
            " 'Loss/regularization_loss': 0.5928891,\n",
            " 'Loss/total_loss': 0.81074005,\n",
            " 'learning_rate': 0.015841765}\n",
            "I0807 07:37:09.630282 134141255114752 model_lib_v2.py:708] {'Loss/classification_loss': 0.1710002,\n",
            " 'Loss/localization_loss': 0.046850774,\n",
            " 'Loss/regularization_loss': 0.5928891,\n",
            " 'Loss/total_loss': 0.81074005,\n",
            " 'learning_rate': 0.015841765}\n",
            "INFO:tensorflow:Step 3800 per-step time 1.066s\n",
            "I0807 07:38:56.217999 134141255114752 model_lib_v2.py:705] Step 3800 per-step time 1.066s\n",
            "INFO:tensorflow:{'Loss/classification_loss': 0.11379199,\n",
            " 'Loss/localization_loss': 0.029418398,\n",
            " 'Loss/regularization_loss': 0.5862326,\n",
            " 'Loss/total_loss': 0.729443,\n",
            " 'learning_rate': 0.013819661}\n",
            "I0807 07:38:56.218330 134141255114752 model_lib_v2.py:708] {'Loss/classification_loss': 0.11379199,\n",
            " 'Loss/localization_loss': 0.029418398,\n",
            " 'Loss/regularization_loss': 0.5862326,\n",
            " 'Loss/total_loss': 0.729443,\n",
            " 'learning_rate': 0.013819661}\n",
            "INFO:tensorflow:Step 3900 per-step time 1.066s\n",
            "I0807 07:40:42.814896 134141255114752 model_lib_v2.py:705] Step 3900 per-step time 1.066s\n",
            "INFO:tensorflow:{'Loss/classification_loss': 0.18722287,\n",
            " 'Loss/localization_loss': 0.034717273,\n",
            " 'Loss/regularization_loss': 0.5804368,\n",
            " 'Loss/total_loss': 0.8023769,\n",
            " 'learning_rate': 0.011865267}\n",
            "I0807 07:40:42.815228 134141255114752 model_lib_v2.py:708] {'Loss/classification_loss': 0.18722287,\n",
            " 'Loss/localization_loss': 0.034717273,\n",
            " 'Loss/regularization_loss': 0.5804368,\n",
            " 'Loss/total_loss': 0.8023769,\n",
            " 'learning_rate': 0.011865267}\n",
            "INFO:tensorflow:Step 4000 per-step time 1.065s\n",
            "I0807 07:42:29.325474 134141255114752 model_lib_v2.py:705] Step 4000 per-step time 1.065s\n",
            "INFO:tensorflow:{'Loss/classification_loss': 0.097678676,\n",
            " 'Loss/localization_loss': 0.013265464,\n",
            " 'Loss/regularization_loss': 0.57551205,\n",
            " 'Loss/total_loss': 0.6864562,\n",
            " 'learning_rate': 0.009999999}\n",
            "I0807 07:42:29.325807 134141255114752 model_lib_v2.py:708] {'Loss/classification_loss': 0.097678676,\n",
            " 'Loss/localization_loss': 0.013265464,\n",
            " 'Loss/regularization_loss': 0.57551205,\n",
            " 'Loss/total_loss': 0.6864562,\n",
            " 'learning_rate': 0.009999999}\n",
            "INFO:tensorflow:Step 4100 per-step time 1.097s\n",
            "I0807 07:44:19.032062 134141255114752 model_lib_v2.py:705] Step 4100 per-step time 1.097s\n",
            "INFO:tensorflow:{'Loss/classification_loss': 0.108113796,\n",
            " 'Loss/localization_loss': 0.015529271,\n",
            " 'Loss/regularization_loss': 0.57142603,\n",
            " 'Loss/total_loss': 0.6950691,\n",
            " 'learning_rate': 0.008244295}\n",
            "I0807 07:44:19.032495 134141255114752 model_lib_v2.py:708] {'Loss/classification_loss': 0.108113796,\n",
            " 'Loss/localization_loss': 0.015529271,\n",
            " 'Loss/regularization_loss': 0.57142603,\n",
            " 'Loss/total_loss': 0.6950691,\n",
            " 'learning_rate': 0.008244295}\n",
            "INFO:tensorflow:Step 4200 per-step time 1.067s\n",
            "I0807 07:46:05.704024 134141255114752 model_lib_v2.py:705] Step 4200 per-step time 1.067s\n",
            "INFO:tensorflow:{'Loss/classification_loss': 0.11719352,\n",
            " 'Loss/localization_loss': 0.018593445,\n",
            " 'Loss/regularization_loss': 0.56807774,\n",
            " 'Loss/total_loss': 0.7038647,\n",
            " 'learning_rate': 0.0066173864}\n",
            "I0807 07:46:05.704386 134141255114752 model_lib_v2.py:708] {'Loss/classification_loss': 0.11719352,\n",
            " 'Loss/localization_loss': 0.018593445,\n",
            " 'Loss/regularization_loss': 0.56807774,\n",
            " 'Loss/total_loss': 0.7038647,\n",
            " 'learning_rate': 0.0066173864}\n",
            "INFO:tensorflow:Step 4300 per-step time 1.067s\n",
            "I0807 07:47:52.402328 134141255114752 model_lib_v2.py:705] Step 4300 per-step time 1.067s\n",
            "INFO:tensorflow:{'Loss/classification_loss': 0.12597826,\n",
            " 'Loss/localization_loss': 0.03457009,\n",
            " 'Loss/regularization_loss': 0.56543994,\n",
            " 'Loss/total_loss': 0.72598827,\n",
            " 'learning_rate': 0.0051371036}\n",
            "I0807 07:47:52.402656 134141255114752 model_lib_v2.py:708] {'Loss/classification_loss': 0.12597826,\n",
            " 'Loss/localization_loss': 0.03457009,\n",
            " 'Loss/regularization_loss': 0.56543994,\n",
            " 'Loss/total_loss': 0.72598827,\n",
            " 'learning_rate': 0.0051371036}\n",
            "INFO:tensorflow:Step 4400 per-step time 1.065s\n",
            "I0807 07:49:38.924568 134141255114752 model_lib_v2.py:705] Step 4400 per-step time 1.065s\n",
            "INFO:tensorflow:{'Loss/classification_loss': 0.117359444,\n",
            " 'Loss/localization_loss': 0.025315128,\n",
            " 'Loss/regularization_loss': 0.563418,\n",
            " 'Loss/total_loss': 0.70609254,\n",
            " 'learning_rate': 0.0038196587}\n",
            "I0807 07:49:38.924885 134141255114752 model_lib_v2.py:708] {'Loss/classification_loss': 0.117359444,\n",
            " 'Loss/localization_loss': 0.025315128,\n",
            " 'Loss/regularization_loss': 0.563418,\n",
            " 'Loss/total_loss': 0.70609254,\n",
            " 'learning_rate': 0.0038196587}\n",
            "INFO:tensorflow:Step 4500 per-step time 1.069s\n",
            "I0807 07:51:25.786762 134141255114752 model_lib_v2.py:705] Step 4500 per-step time 1.069s\n",
            "INFO:tensorflow:{'Loss/classification_loss': 0.11862719,\n",
            " 'Loss/localization_loss': 0.03013633,\n",
            " 'Loss/regularization_loss': 0.5619413,\n",
            " 'Loss/total_loss': 0.71070486,\n",
            " 'learning_rate': 0.0026794898}\n",
            "I0807 07:51:25.787122 134141255114752 model_lib_v2.py:708] {'Loss/classification_loss': 0.11862719,\n",
            " 'Loss/localization_loss': 0.03013633,\n",
            " 'Loss/regularization_loss': 0.5619413,\n",
            " 'Loss/total_loss': 0.71070486,\n",
            " 'learning_rate': 0.0026794898}\n",
            "INFO:tensorflow:Step 4600 per-step time 1.066s\n",
            "I0807 07:53:12.351192 134141255114752 model_lib_v2.py:705] Step 4600 per-step time 1.066s\n",
            "INFO:tensorflow:{'Loss/classification_loss': 0.13966885,\n",
            " 'Loss/localization_loss': 0.033548407,\n",
            " 'Loss/regularization_loss': 0.5609294,\n",
            " 'Loss/total_loss': 0.73414665,\n",
            " 'learning_rate': 0.0017290902}\n",
            "I0807 07:53:12.351507 134141255114752 model_lib_v2.py:708] {'Loss/classification_loss': 0.13966885,\n",
            " 'Loss/localization_loss': 0.033548407,\n",
            " 'Loss/regularization_loss': 0.5609294,\n",
            " 'Loss/total_loss': 0.73414665,\n",
            " 'learning_rate': 0.0017290902}\n",
            "INFO:tensorflow:Step 4700 per-step time 1.067s\n",
            "I0807 07:54:59.062550 134141255114752 model_lib_v2.py:705] Step 4700 per-step time 1.067s\n",
            "INFO:tensorflow:{'Loss/classification_loss': 0.068528436,\n",
            " 'Loss/localization_loss': 0.0144995935,\n",
            " 'Loss/regularization_loss': 0.56030387,\n",
            " 'Loss/total_loss': 0.6433319,\n",
            " 'learning_rate': 0.000978868}\n",
            "I0807 07:54:59.062874 134141255114752 model_lib_v2.py:708] {'Loss/classification_loss': 0.068528436,\n",
            " 'Loss/localization_loss': 0.0144995935,\n",
            " 'Loss/regularization_loss': 0.56030387,\n",
            " 'Loss/total_loss': 0.6433319,\n",
            " 'learning_rate': 0.000978868}\n",
            "INFO:tensorflow:Step 4800 per-step time 1.066s\n",
            "I0807 07:56:45.705523 134141255114752 model_lib_v2.py:705] Step 4800 per-step time 1.066s\n",
            "INFO:tensorflow:{'Loss/classification_loss': 0.08148236,\n",
            " 'Loss/localization_loss': 0.009020496,\n",
            " 'Loss/regularization_loss': 0.559974,\n",
            " 'Loss/total_loss': 0.6504769,\n",
            " 'learning_rate': 0.00043704748}\n",
            "I0807 07:56:45.705907 134141255114752 model_lib_v2.py:708] {'Loss/classification_loss': 0.08148236,\n",
            " 'Loss/localization_loss': 0.009020496,\n",
            " 'Loss/regularization_loss': 0.559974,\n",
            " 'Loss/total_loss': 0.6504769,\n",
            " 'learning_rate': 0.00043704748}\n",
            "INFO:tensorflow:Step 4900 per-step time 1.066s\n",
            "I0807 07:58:32.315366 134141255114752 model_lib_v2.py:705] Step 4900 per-step time 1.066s\n",
            "INFO:tensorflow:{'Loss/classification_loss': 0.082756944,\n",
            " 'Loss/localization_loss': 0.026861984,\n",
            " 'Loss/regularization_loss': 0.5598441,\n",
            " 'Loss/total_loss': 0.669463,\n",
            " 'learning_rate': 0.00010956168}\n",
            "I0807 07:58:32.315704 134141255114752 model_lib_v2.py:708] {'Loss/classification_loss': 0.082756944,\n",
            " 'Loss/localization_loss': 0.026861984,\n",
            " 'Loss/regularization_loss': 0.5598441,\n",
            " 'Loss/total_loss': 0.669463,\n",
            " 'learning_rate': 0.00010956168}\n",
            "INFO:tensorflow:Step 5000 per-step time 1.068s\n",
            "I0807 08:00:19.115858 134141255114752 model_lib_v2.py:705] Step 5000 per-step time 1.068s\n",
            "INFO:tensorflow:{'Loss/classification_loss': 0.123676434,\n",
            " 'Loss/localization_loss': 0.03577866,\n",
            " 'Loss/regularization_loss': 0.55982184,\n",
            " 'Loss/total_loss': 0.7192769,\n",
            " 'learning_rate': 0.0}\n",
            "I0807 08:00:19.116199 134141255114752 model_lib_v2.py:708] {'Loss/classification_loss': 0.123676434,\n",
            " 'Loss/localization_loss': 0.03577866,\n",
            " 'Loss/regularization_loss': 0.55982184,\n",
            " 'Loss/total_loss': 0.7192769,\n",
            " 'learning_rate': 0.0}\n"
          ]
        }
      ]
    },
    {
      "cell_type": "code",
      "source": [
        "pwd"
      ],
      "metadata": {
        "colab": {
          "base_uri": "https://localhost:8080/",
          "height": 36
        },
        "id": "uX1qOdvq2qAB",
        "outputId": "a1227c83-75d4-4431-f4ba-8e9ce207b8dc"
      },
      "execution_count": 61,
      "outputs": [
        {
          "output_type": "execute_result",
          "data": {
            "text/plain": [
              "'/content/tensorflow/workspace/training_demo'"
            ],
            "application/vnd.google.colaboratory.intrinsic+json": {
              "type": "string"
            }
          },
          "metadata": {},
          "execution_count": 61
        }
      ]
    },
    {
      "cell_type": "code",
      "source": [
        "!python exporter_main_v2.py --input_type image_tensor --pipeline_config_path /content/tensorflow/workspace/training_demo/models/my_ssd_resnet50_v1_fpn/pipeline.config --trained_checkpoint_dir /content/tensorflow/workspace/training_demo/models/my_ssd_resnet50_v1_fpn --output_directory /content/tensorflow/workspace/training_demo/exported_models/my_model"
      ],
      "metadata": {
        "colab": {
          "base_uri": "https://localhost:8080/"
        },
        "id": "ZTsLwxTz2qnq",
        "outputId": "101fc944-d579-495b-83a9-aead55a56ccb"
      },
      "execution_count": 63,
      "outputs": [
        {
          "output_type": "stream",
          "name": "stdout",
          "text": [
            "2024-08-07 08:03:14.538000: E tensorflow/compiler/xla/stream_executor/cuda/cuda_dnn.cc:9342] Unable to register cuDNN factory: Attempting to register factory for plugin cuDNN when one has already been registered\n",
            "2024-08-07 08:03:14.538051: E tensorflow/compiler/xla/stream_executor/cuda/cuda_fft.cc:609] Unable to register cuFFT factory: Attempting to register factory for plugin cuFFT when one has already been registered\n",
            "2024-08-07 08:03:14.538116: E tensorflow/compiler/xla/stream_executor/cuda/cuda_blas.cc:1518] Unable to register cuBLAS factory: Attempting to register factory for plugin cuBLAS when one has already been registered\n",
            "2024-08-07 08:03:20.077838: W tensorflow/core/common_runtime/gpu/gpu_bfc_allocator.cc:47] Overriding orig_value setting because the TF_FORCE_GPU_ALLOW_GROWTH environment variable is set. Original config value was 0.\n",
            "WARNING:tensorflow:From /usr/local/lib/python3.10/dist-packages/tensorflow/python/autograph/impl/api.py:459: calling map_fn_v2 (from tensorflow.python.ops.map_fn) with back_prop=False is deprecated and will be removed in a future version.\n",
            "Instructions for updating:\n",
            "back_prop=False is deprecated. Consider using tf.stop_gradient instead.\n",
            "Instead of:\n",
            "results = tf.map_fn(fn, elems, back_prop=False)\n",
            "Use:\n",
            "results = tf.nest.map_structure(tf.stop_gradient, tf.map_fn(fn, elems))\n",
            "W0807 08:03:20.363191 136077553299456 deprecation.py:50] From /usr/local/lib/python3.10/dist-packages/tensorflow/python/autograph/impl/api.py:459: calling map_fn_v2 (from tensorflow.python.ops.map_fn) with back_prop=False is deprecated and will be removed in a future version.\n",
            "Instructions for updating:\n",
            "back_prop=False is deprecated. Consider using tf.stop_gradient instead.\n",
            "Instead of:\n",
            "results = tf.map_fn(fn, elems, back_prop=False)\n",
            "Use:\n",
            "results = tf.nest.map_structure(tf.stop_gradient, tf.map_fn(fn, elems))\n",
            "I0807 08:03:24.305645 136077553299456 api.py:460] feature_map_spatial_dims: [(80, 80), (40, 40), (20, 20), (10, 10), (5, 5)]\n",
            "I0807 08:03:34.989707 136077553299456 api.py:460] feature_map_spatial_dims: [(80, 80), (40, 40), (20, 20), (10, 10), (5, 5)]\n",
            "I0807 08:03:38.038728 136077553299456 signature_serialization.py:156] Function `call_func` contains input name(s) resource with unsupported characters which will be renamed to weightsharedconvolutionalboxpredictor_classpredictiontower_conv2d_3_batchnorm_feature_4_fusedbatchnormv3_readvariableop_1_resource in the SavedModel.\n",
            "I0807 08:03:39.310984 136077553299456 api.py:460] feature_map_spatial_dims: [(80, 80), (40, 40), (20, 20), (10, 10), (5, 5)]\n",
            "WARNING:tensorflow:Skipping full serialization of Keras layer <object_detection.meta_architectures.ssd_meta_arch.SSDMetaArch object at 0x7bc23c0fcd30>, because it is not built.\n",
            "W0807 08:03:41.488049 136077553299456 save_impl.py:66] Skipping full serialization of Keras layer <object_detection.meta_architectures.ssd_meta_arch.SSDMetaArch object at 0x7bc23c0fcd30>, because it is not built.\n",
            "I0807 08:03:55.693161 136077553299456 save.py:289] Found untraced functions such as WeightSharedConvolutionalBoxPredictor_layer_call_fn, WeightSharedConvolutionalBoxPredictor_layer_call_and_return_conditional_losses, WeightSharedConvolutionalBoxHead_layer_call_fn, WeightSharedConvolutionalBoxHead_layer_call_and_return_conditional_losses, WeightSharedConvolutionalClassHead_layer_call_fn while saving (showing 5 of 278). These functions will not be directly callable after loading.\n",
            "INFO:tensorflow:Assets written to: /content/tensorflow/workspace/training_demo/exported_models/my_model/saved_model/assets\n",
            "I0807 08:04:03.479970 136077553299456 builder_impl.py:801] Assets written to: /content/tensorflow/workspace/training_demo/exported_models/my_model/saved_model/assets\n",
            "I0807 08:04:03.876110 136077553299456 fingerprinting_utils.py:47] Writing fingerprint to /content/tensorflow/workspace/training_demo/exported_models/my_model/saved_model/fingerprint.pb\n",
            "INFO:tensorflow:Writing pipeline config file to /content/tensorflow/workspace/training_demo/exported_models/my_model/pipeline.config\n",
            "I0807 08:04:04.301903 136077553299456 config_util.py:253] Writing pipeline config file to /content/tensorflow/workspace/training_demo/exported_models/my_model/pipeline.config\n"
          ]
        }
      ]
    }
  ]
}